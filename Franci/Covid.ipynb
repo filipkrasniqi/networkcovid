{
 "cells": [
  {
   "cell_type": "code",
   "execution_count": 1,
   "metadata": {},
   "outputs": [],
   "source": [
    "import numpy as np\n",
    "import pandas as pd\n",
    "import os\n",
    "from datetime import date\n",
    "from matplotlib import pyplot as plt\n",
    "from matplotlib.colors import ListedColormap\n",
    "import matplotlib.dates as mdates\n",
    "from matplotlib.dates import DateFormatter\n",
    "import csv\n",
    "import plotly\n",
    "import plotly.express as px\n",
    "import plotly.graph_objects as go\n",
    "import plotly.figure_factory as ff\n",
    "from jupyter_dash import JupyterDash\n",
    "import dash_core_components as dcc\n",
    "import dash_html_components as html\n",
    "from dash.dependencies import Input, Output\n",
    "import datetime"
   ]
  },
  {
   "cell_type": "code",
   "execution_count": 2,
   "metadata": {},
   "outputs": [],
   "source": [
    "## Geographical Areas\n",
    "import geojson\n",
    "import geopandas as gpd"
   ]
  },
  {
   "cell_type": "code",
   "execution_count": 3,
   "metadata": {},
   "outputs": [],
   "source": [
    "map_token='pk.eyJ1IjoiZnJhbmNpZ2plY2kiLCJhIjoiY2tpazZveWhmMDZ5MzMxcWp4bzIxbm0wYyJ9.J_qWOJqADI6tZfle2bbZFg'"
   ]
  },
  {
   "cell_type": "markdown",
   "metadata": {},
   "source": [
    "<h1> Data </h1>"
   ]
  },
  {
   "cell_type": "code",
   "execution_count": 4,
   "metadata": {},
   "outputs": [],
   "source": [
    "# Source: Github - Certified by italian authorities\n",
    "# path = 'https://github.com/pcm-dpc/COVID-19/blob/master/dati-province/dpc-covid19-ita-province.csv'\n",
    "# Seen the data and corrected them to not waste any line\n",
    "path = 'Data/dpc-covid19-ita-province.csv'"
   ]
  },
  {
   "cell_type": "code",
   "execution_count": 5,
   "metadata": {},
   "outputs": [],
   "source": [
    "columns = ['data','stato','codice_regione','denominazione_regione','codice_provincia',\n",
    "           'denominazione_provincia','sigla_provincia','lat','long','totale_casi','note']\n",
    "df_covid = pd.read_csv(path,   quotechar=\"'\",  skiprows = 1,\n",
    "                       #sep=',\\s*',quoting=csv.QUOTE_NONE,\n",
    "                       #skipinitialspace=True,# sep=',', engine='python',\n",
    "                       #encoding=\"utf-8\", sep=',\\s*',quoting=csv.QUOTE_NONE,\n",
    "                      names = columns\n",
    "                      )"
   ]
  },
  {
   "cell_type": "code",
   "execution_count": 6,
   "metadata": {},
   "outputs": [],
   "source": [
    "path = 'Data/COVID19_Italy_regional_20200224_20200831.csv'"
   ]
  },
  {
   "cell_type": "code",
   "execution_count": 7,
   "metadata": {},
   "outputs": [],
   "source": [
    "df_covid_regioni_all = pd.read_csv(path)"
   ]
  },
  {
   "cell_type": "code",
   "execution_count": 8,
   "metadata": {},
   "outputs": [],
   "source": [
    "# Population"
   ]
  },
  {
   "cell_type": "code",
   "execution_count": 9,
   "metadata": {},
   "outputs": [],
   "source": [
    "path = 'Data/persons_x_regione.csv'\n",
    "df_population = pd.read_csv(path)"
   ]
  },
  {
   "cell_type": "code",
   "execution_count": 10,
   "metadata": {},
   "outputs": [],
   "source": [
    "# df_population.head(1)"
   ]
  },
  {
   "cell_type": "code",
   "execution_count": 11,
   "metadata": {},
   "outputs": [],
   "source": [
    "# response = urlopen(path)\n",
    "# json_data = response.read()\n",
    "path = 'Data/dpc-covid-19-aree-nuove-g.json'\n",
    "with open(path) as f:\n",
    "    json_data = geojson.load(f)\n",
    "    \n",
    "# for data in json_data.features:\n",
    "#     if data.properties[\"nomeTesto\"] == 'Provincia autonoma Trento':\n",
    "#         data.properties[\"nomeTesto\"] = 'Trento'\n",
    "#     elif data.properties[\"nomeTesto\"] == 'Provincia autonoma Bolzano':\n",
    "#         data.properties[\"nomeTesto\"] = 'Bolzano'\n",
    "# regions_json.add(data.properties[\"nomeTesto\"])"
   ]
  },
  {
   "cell_type": "markdown",
   "metadata": {},
   "source": [
    "# Data Correction"
   ]
  },
  {
   "cell_type": "code",
   "execution_count": 12,
   "metadata": {},
   "outputs": [],
   "source": [
    "df_covid['data'] = df_covid['data'].str.replace('\"', '')\n",
    "\n",
    "df_covid['data'] = pd.to_datetime(df_covid['data'], format='%Y-%m-%dT%H:%M:%S')\n",
    "df_covid['totale_casi'] = df_covid['totale_casi'].astype(int)"
   ]
  },
  {
   "cell_type": "code",
   "execution_count": 13,
   "metadata": {},
   "outputs": [],
   "source": [
    "df_covid_regioni_all['data'] = pd.to_datetime(df_covid_regioni_all['data'], format='%Y-%m-%d %H:%M:%S')"
   ]
  },
  {
   "cell_type": "code",
   "execution_count": 15,
   "metadata": {},
   "outputs": [],
   "source": [
    "df_population = df_population[['Regione', 'Residenti']]"
   ]
  },
  {
   "cell_type": "code",
   "execution_count": 16,
   "metadata": {},
   "outputs": [],
   "source": [
    "df_population.loc[df_population['Regione']=='Emilia Romagna','Regione']=\"Emilia-Romagna\"\n",
    "df_population.loc[df_population['Regione']=='Friuli-Venezia Giulia','Regione']=\"Friuli Venezia Giulia\""
   ]
  },
  {
   "cell_type": "code",
   "execution_count": 17,
   "metadata": {},
   "outputs": [],
   "source": [
    "df_population['Residenti'] = df_population['Residenti'].str.replace('.', '')"
   ]
  },
  {
   "cell_type": "markdown",
   "metadata": {},
   "source": [
    "# Data Process"
   ]
  },
  {
   "cell_type": "code",
   "execution_count": 18,
   "metadata": {},
   "outputs": [],
   "source": [
    "df_covid.rename(columns={'denominazione_regione': 'Regione', \n",
    "                         'denominazione_provincia': 'Provincia', \n",
    "                        }, inplace=True)"
   ]
  },
  {
   "cell_type": "code",
   "execution_count": 19,
   "metadata": {},
   "outputs": [],
   "source": [
    "df_covid_regioni_all.rename(columns={'denominazione_regione': 'Regione', \n",
    "                        }, inplace=True)"
   ]
  },
  {
   "cell_type": "code",
   "execution_count": 20,
   "metadata": {},
   "outputs": [],
   "source": [
    "df_covid_regioni_all.loc[df_covid_regioni_all['Regione']=='P.A. Bolzano',\n",
    "                               'Regione']=\"Provincia autonoma Bolzano\"\n",
    "df_covid_regioni_all.loc[df_covid_regioni_all['Regione']=='P.A. Trento',\n",
    "                               'Regione']=\"Provincia autonoma Trento\""
   ]
  },
  {
   "cell_type": "code",
   "execution_count": 21,
   "metadata": {},
   "outputs": [],
   "source": [
    "df_covid_daily = pd.DataFrame(df_covid.groupby([ \n",
    "                                'Regione', 'Provincia', \n",
    "                                'sigla_provincia', df_covid['data']]).agg({\n",
    "    'totale_casi': \"sum\"}).to_records())"
   ]
  },
  {
   "cell_type": "code",
   "execution_count": 22,
   "metadata": {},
   "outputs": [],
   "source": [
    "df_covid_daily['casi_giornalieri'] = df_covid_daily.groupby([\n",
    "                    'Regione', 'Provincia', \n",
    "                    'sigla_provincia'])['totale_casi'].diff()"
   ]
  },
  {
   "cell_type": "code",
   "execution_count": 23,
   "metadata": {},
   "outputs": [],
   "source": [
    "df_covid_daily.loc[df_covid_daily['casi_giornalieri'].isna() ,\n",
    "                       'casi_giornalieri'] = df_covid_daily['totale_casi']"
   ]
  },
  {
   "cell_type": "code",
   "execution_count": 24,
   "metadata": {},
   "outputs": [],
   "source": [
    "df_covid_regioni_all_daily = pd.DataFrame(df_covid_regioni_all.groupby([ \n",
    "                                'Regione', df_covid_regioni_all['data']]).agg({\n",
    "    'terapia_intensiva': \"sum\", 'deceduti': 'sum', 'tamponi': 'sum',\n",
    "    'nuovi_positivi': 'sum', 'casi_testati': 'sum', 'totale_casi': 'sum'}).to_records())"
   ]
  },
  {
   "cell_type": "code",
   "execution_count": 25,
   "metadata": {},
   "outputs": [],
   "source": [
    "df_covid_regioni_all_daily['tamponi_giornalieri'] = df_covid_regioni_all_daily.groupby([\n",
    "                    'Regione'])['tamponi'].diff()\n",
    "df_covid_regioni_all_daily.loc[df_covid_regioni_all_daily['tamponi_giornalieri'].isna() ,\n",
    "                       'tamponi_giornalieri'] = df_covid_regioni_all_daily['tamponi']\n",
    "\n",
    "\n",
    "df_covid_regioni_all_daily['deceduti_giornalieri'] = df_covid_regioni_all_daily.groupby([\n",
    "                    'Regione'])['deceduti'].diff()\n",
    "df_covid_regioni_all_daily.loc[df_covid_regioni_all_daily['deceduti_giornalieri'].isna() ,\n",
    "                       'deceduti_giornalieri'] = df_covid_regioni_all_daily['deceduti']\n",
    "\n",
    "df_covid_regioni_all_daily['terapia_intensiva_giornalieri'] = df_covid_regioni_all_daily.groupby([\n",
    "                    'Regione'])['terapia_intensiva'].diff()\n",
    "df_covid_regioni_all_daily.loc[df_covid_regioni_all_daily['terapia_intensiva_giornalieri'].isna() ,\n",
    "                       'terapia_intensiva_giornalieri'] = df_covid_regioni_all_daily['terapia_intensiva']\n",
    "\n",
    "df_covid_regioni_all_daily['totale_casi_giornalieri'] = df_covid_regioni_all_daily.groupby([\n",
    "                    'Regione'])['totale_casi'].diff()\n",
    "df_covid_regioni_all_daily.loc[df_covid_regioni_all_daily['totale_casi_giornalieri'].isna() ,\n",
    "                       'totale_casi_giornalieri'] = df_covid_regioni_all_daily['totale_casi']"
   ]
  },
  {
   "cell_type": "code",
   "execution_count": 26,
   "metadata": {},
   "outputs": [],
   "source": [
    "df_covid_regioni_all_daily['month']=df_covid_regioni_all_daily.data.dt.month"
   ]
  },
  {
   "cell_type": "code",
   "execution_count": 27,
   "metadata": {},
   "outputs": [],
   "source": [
    "df_covid_regioni_all_daily.loc[df_covid_regioni_all_daily['totale_casi_giornalieri'] < 0, ['totale_casi_giornalieri']] = np.nan\n",
    "df_covid_regioni_all_daily.loc[df_covid_regioni_all_daily['tamponi_giornalieri'] < 0, ['tamponi_giornalieri']] = np.nan"
   ]
  },
  {
   "cell_type": "code",
   "execution_count": 28,
   "metadata": {},
   "outputs": [],
   "source": [
    "df_covid_regioni_all_daily['perc_positivi_tamponi'] = df_covid_regioni_all_daily['totale_casi_giornalieri'] /\\\n",
    " df_covid_regioni_all_daily['tamponi_giornalieri']"
   ]
  },
  {
   "cell_type": "code",
   "execution_count": 29,
   "metadata": {},
   "outputs": [],
   "source": [
    "df_covid_regioni_all_daily['perc_positivi_tamponi'] = df_covid_regioni_all_daily['totale_casi_giornalieri'] /\\\n",
    "df_covid_regioni_all_daily['tamponi_giornalieri']"
   ]
  },
  {
   "cell_type": "code",
   "execution_count": 30,
   "metadata": {},
   "outputs": [],
   "source": [
    "df_covid_regioni_all_daily.loc[df_covid_regioni_all_daily['perc_positivi_tamponi']>1, 'perc_positivi_tamponi'] = np.nan"
   ]
  },
  {
   "cell_type": "code",
   "execution_count": 31,
   "metadata": {},
   "outputs": [],
   "source": [
    "df_covid_regioni_all_daily = df_covid_regioni_all_daily.merge(df_population, how='left', on='Regione')"
   ]
  },
  {
   "cell_type": "code",
   "execution_count": 32,
   "metadata": {},
   "outputs": [],
   "source": [
    "#df_covid_regioni_all_daily.drop(columns=['Residenti'], inplace=True)"
   ]
  },
  {
   "cell_type": "code",
   "execution_count": 33,
   "metadata": {},
   "outputs": [],
   "source": [
    "df_covid_regioni_all_daily['Residenti'] = df_covid_regioni_all_daily['Residenti'].astype(float)"
   ]
  },
  {
   "cell_type": "markdown",
   "metadata": {},
   "source": [
    "# Data Validation"
   ]
  },
  {
   "cell_type": "markdown",
   "metadata": {},
   "source": [
    "# Data Visualization"
   ]
  },
  {
   "cell_type": "code",
   "execution_count": 34,
   "metadata": {
    "scrolled": false
   },
   "outputs": [],
   "source": [
    "column_regione = 'Regione'\n",
    "column_provincia = 'Provincia'\n",
    "agg_column = 'casi_giornalieri'\n",
    "data_column = 'data'\n",
    "\n",
    "app_period = JupyterDash(\"CovidPeriod\")\n",
    "\n",
    "app_period.layout = html.Div([\n",
    "    html.Label(\n",
    "        [\n",
    "            \"Regione\",\n",
    "            dcc.Dropdown(id=\"Regione\",\n",
    "                         options=[{\"label\": x, \"value\": x} for x in df_covid_daily['Regione'].unique()],\n",
    "                        value=df_covid_daily['Regione'].unique()[0],\n",
    "                         multi=True,\n",
    "#                         clearable=False,\n",
    "                        ),\n",
    "        ]\n",
    "    ),\n",
    "    html.Label(\n",
    "        [\n",
    "            \"Provincia\",\n",
    "            dcc.Dropdown(id=\"Provincia\",\n",
    "                         options=[{\"label\": x, \"value\": x} for x in df_covid_daily['Provincia'].unique()],\n",
    "                        value=df_covid_daily['Provincia'].unique()[0],\n",
    "#                         clearable=False,\n",
    "                         multi=True,\n",
    "                        ),\n",
    "        ]\n",
    "    ),\n",
    "    html.Label(\n",
    "        [\n",
    "            \"Data range\",\n",
    "            dcc.Dropdown(id=\"dateRange\",\n",
    "                         options=[{\"label\": x, \"value\": x} for x in [\"Day\", \"Week\", \"Month\"]],\n",
    "                        value=\"Day\",\n",
    "                        clearable=False,),\n",
    "        ]\n",
    "    ),\n",
    "    html.Div(dcc.Graph(id=\"CovidPeriod-chart\"))])\n",
    "    \n",
    "@app_period.callback(\n",
    "    [Output(\"CovidPeriod-chart\", \"figure\")],\n",
    "    [Input(\"Regione\", \"value\"), \n",
    "     Input(\"Provincia\", \"value\"), \n",
    "     Input(\"dateRange\", \"value\")]\n",
    ")\n",
    "def display_covid_period(regione, provincia, dateRange): # _options, regione_value\n",
    "#     print(regione_value)\n",
    "\n",
    "    if isinstance(regione, str):\n",
    "        regione = [regione]\n",
    "    if len(regione) == 0:\n",
    "        f_regione = True\n",
    "    else:\n",
    "        f_regione = df_covid_daily[column_regione].isin(regione)\n",
    "    if isinstance(provincia, str):\n",
    "        provincia = [provincia]\n",
    "    if len(provincia) == 0:\n",
    "        f_provincia = True\n",
    "    else:\n",
    "        f_provincia = df_covid_daily[column_provincia].isin(provincia)\n",
    "        \n",
    "    f_data = f_provincia & f_regione\n",
    "        \n",
    "    \n",
    "    if dateRange == \"Day\":\n",
    "        df_plot = df_covid_daily[f_data].groupby(by = [column_regione, column_provincia,\n",
    "                                                      df_covid_daily.loc[f_data, data_column].dt.date])[agg_column].sum()\n",
    "    elif dateRange == \"Week\":\n",
    "        df_plot = df_covid_daily[f_data].groupby(by = [column_regione, column_provincia,\n",
    "                                                      df_covid_daily.loc[f_data, data_column].dt.week])[agg_column].sum()\n",
    "    elif dateRange == \"Month\":\n",
    "        df_plot = df_covid_daily[f_data].groupby(by = [column_regione, column_provincia,\n",
    "                                                      df_covid_daily.loc[f_data, data_column].dt.month])[agg_column].sum()\n",
    "    \n",
    "    fig = go.Figure()\n",
    "    \n",
    "    l_selected_cities = set([b for a, b, c in df_plot.index.tolist()])\n",
    "\n",
    "    for city in l_selected_cities:\n",
    "\n",
    "        fig.add_trace(\n",
    "            go.Scatter(\n",
    "                x = df_plot.xs(city, level=1).index.get_level_values(1), y = df_plot.xs(city, level=1), \n",
    "#                 color = b,\n",
    "                name = city, # str(a) + ' - ' + str(b) ,\n",
    "                mode='lines'\n",
    "            )\n",
    "        )\n",
    "\n",
    "    fig.update_layout(\n",
    "        title='Numero di casi giornalieri per vari citta',\n",
    "        showlegend=True\n",
    "    )\n",
    "#     return [fig]\n",
    "\n",
    "\n",
    "@app_period.callback(\n",
    "    [Output(\"Regione\", \"value\")],\n",
    "    [Input(\"Provincia\", \"value\")]\n",
    ")\n",
    "def change_regione(provincia):\n",
    "    print(provincia)\n",
    "    if isinstance(provincia, str):\n",
    "        provincia = [provincia]\n",
    "    if len(provincia) == 0:\n",
    "#         f_provincia = [True]*df_covid_daily.shape[0]\n",
    "        new_regione = []\n",
    "    elif provincia is None:\n",
    "        new_regione = []\n",
    "    else:\n",
    "        f_provincia = df_covid_daily[column_provincia].isin(provincia)\n",
    "        new_regione = df_covid_daily.loc[f_provincia, column_regione].unique()\n",
    "    \n",
    "    if isinstance(new_regione, str):\n",
    "        new_regione = [new_regione]\n",
    "    if len(new_regione) == 0:\n",
    "        return ['']\n",
    "    return [new_regione]\n",
    "\n",
    "# @app_period.callback(\n",
    "#     [Output(\"Provincia\", \"value\")],\n",
    "#     [Input(\"Regione\", \"value\")]\n",
    "# )\n",
    "# def change_provincia(regione):\n",
    "#     if len(regione) == 0:\n",
    "# #         f_provincia = [True]*df_covid_daily.shape[0]\n",
    "#         new_provincia = []\n",
    "#     elif regione is None:\n",
    "#         new_provincia = []\n",
    "#     else:\n",
    "#         all_prov = df_covid_daily.loc[df_covid_daily[column_regione].isin(regione),column_provincia].unique()\n",
    "#         new_provincia = set(all_prov).intersection\n",
    "#         new_regione = df_covid_daily.loc[f_provincia, column_regione].unique()\n",
    "        \n",
    "    \n",
    "#     if isinstance(new_provincia, str):\n",
    "#         new_provincia = [new_provincia]\n",
    "#     if len(new_provincia) == 0:\n",
    "#         return ['']\n",
    "#     return [new_provincia]\n",
    "    \n",
    "    \n",
    "    # this command takes the selected cities from the user and finds the regions these cities belong to\n",
    "#     new_regione = df_plot.loc[(slice(None), l_selected_cities)].index.get_level_values(0).unique()\n",
    "    \n",
    "#     # Finally we add to new regione only missing regione\n",
    "#     new_regione = regione + new_regione[~new_regione.isin(regione)].tolist()\n",
    "    \n",
    "\n",
    "# app_period.run_server(mode='inline', port=8050) # debug=True, use_reloader=False"
   ]
  },
  {
   "cell_type": "code",
   "execution_count": 35,
   "metadata": {},
   "outputs": [],
   "source": [
    "# fig = px.line(df_covid_regioni_all_daily, x = 'data', y='perc_positivi_tamponi', color='Regione' )\n",
    "\n",
    "# fig.show()"
   ]
  },
  {
   "cell_type": "code",
   "execution_count": null,
   "metadata": {},
   "outputs": [],
   "source": [
    "# fig = px.line(df_covid_regioni_all_daily, x = 'data', y='totale_casi', color='Regione' )\n",
    "\n",
    "# fig.show()"
   ]
  },
  {
   "cell_type": "code",
   "execution_count": null,
   "metadata": {
    "scrolled": false
   },
   "outputs": [],
   "source": [
    "#Plot per region\n",
    "\n",
    "column_regione = 'Regione'\n",
    "column_provincia = 'Provincia'\n",
    "agg_column = 'tamponi_giornalieri'\n",
    "data_column = 'data'\n",
    "\n",
    "app_period = JupyterDash(\"CovidPeriod\")\n",
    "\n",
    "app_period.layout = html.Div([\n",
    "    html.Label(\n",
    "        [\n",
    "            \"Regione\",\n",
    "            dcc.Dropdown(id=\"Regione\",\n",
    "                         options=[{\"label\": x, \"value\": x} for x in df_covid_regioni_all_daily['Regione'].unique()],\n",
    "                        value=df_covid_regioni_all_daily['Regione'].unique()[0],\n",
    "                         multi=True,\n",
    "#                         clearable=False,\n",
    "                        ),\n",
    "        ]\n",
    "    ),\n",
    "    html.Label(\n",
    "        [\n",
    "            \"Data range\",\n",
    "            dcc.Dropdown(id=\"dateRange\",\n",
    "                         options=[{\"label\": x, \"value\": x} for x in [\"Day\", \"Week\", \"Month\"]],\n",
    "                        value=\"Day\",\n",
    "                        clearable=False,),\n",
    "        ]\n",
    "    ),\n",
    "    html.Label(\n",
    "        [\n",
    "            \"KPI\",\n",
    "            dcc.Dropdown(id=\"KPI\",\n",
    "                         options=[{\"label\": x, \"value\": x} for x in [\"perc_positivi_tamponi\", \"deceduti_giornalieri\",\n",
    "                                                                     \"terapia_intensiva_giornalieri\"]],\n",
    "                        value=\"perc_positivi_tamponi\",\n",
    "                        multi=True,\n",
    "                        clearable=False,),\n",
    "        ]\n",
    "    ),\n",
    "    html.Div(dcc.Graph(id=\"CovidPeriod-chart\"))])\n",
    "    \n",
    "@app_period.callback(\n",
    "    [Output(\"CovidPeriod-chart\", \"figure\")],\n",
    "    [Input(\"KPI\", \"value\"),\n",
    "    Input(\"Regione\", \"value\"), \n",
    "     Input(\"dateRange\", \"value\")]\n",
    ")\n",
    "def display_covid_period(kpis, regione, dateRange): # _options, regione_value\n",
    "#     print(regione_value)\n",
    "\n",
    "    if isinstance(regione, str):\n",
    "        regione = [regione]\n",
    "    if len(regione) == 0:\n",
    "        f_regione = [True]*df_covid_regioni_all_daily.shape[0]\n",
    "    else:\n",
    "        f_regione = df_covid_regioni_all_daily[column_regione].isin(regione)\n",
    "        \n",
    "    f_data = f_regione \n",
    "    \n",
    "    agg_column = kpis\n",
    "    \n",
    "    if isinstance(kpis, str):\n",
    "        kpis = [kpis]\n",
    "    kpi_dic = {kpi : 'sum' for kpi in kpis}\n",
    "    \n",
    "    if dateRange == \"Day\":\n",
    "        df_plot = df_covid_regioni_all_daily[f_data].groupby(by = [column_regione,\n",
    "                                                      df_covid_regioni_all_daily.loc[f_data, data_column].dt.date]).agg(kpi_dic)\n",
    "    elif dateRange == \"Week\":\n",
    "        df_plot = df_covid_regioni_all_daily[f_data].groupby(by = [column_regione,\n",
    "                                                      df_covid_regioni_all_daily.loc[f_data, data_column].dt.week]).agg(kpi_dic)\n",
    "    elif dateRange == \"Month\":\n",
    "        df_plot = df_covid_regioni_all_daily[f_data].groupby(by = [column_regione,\n",
    "                                                      df_covid_regioni_all_daily.loc[f_data, data_column].dt.month]).agg(kpi_dic)\n",
    "    \n",
    "    fig = go.Figure()\n",
    "    \n",
    "    for region in df_plot.index.get_level_values(0).unique():\n",
    "        for kpi in kpis:\n",
    "\n",
    "            fig.add_trace(\n",
    "                go.Scatter(\n",
    "                    x = df_plot[kpi].xs(region).index.get_level_values(0), y = df_plot[kpi].xs(region), \n",
    "    #                 color = b,\n",
    "                    name = region,\n",
    "                    mode='lines'\n",
    "                )\n",
    "            )\n",
    "\n",
    "    fig.update_layout(\n",
    "        title='Numero di casi giornalieri per vari citta',\n",
    "        showlegend=True\n",
    "    )\n",
    "#     return [fig]\n",
    "    \n",
    "    \n",
    "    # this command takes the selected cities from the user and finds the regions these cities belong to\n",
    "#     new_regione = df_plot.loc[(slice(None), l_selected_cities)].index.get_level_values(0).unique()\n",
    "    \n",
    "#     # Finally we add to new regione only missing regione\n",
    "#     new_regione = regione + new_regione[~new_regione.isin(regione)].tolist()\n",
    "    \n",
    "\n",
    "# app_period.run_server(mode='inline', port=8050) # debug=True, use_reloader=False"
   ]
  },
  {
   "cell_type": "markdown",
   "metadata": {},
   "source": [
    "- Deri ne dhjetor te covid\n",
    "- Dati secondata covid + traffic\n",
    "- Correlation of traffic and covid (build function)\n",
    "- HeatMap Correlation for reagion after finding a decent lag\n",
    "- "
   ]
  },
  {
   "cell_type": "code",
   "execution_count": 131,
   "metadata": {
    "scrolled": false
   },
   "outputs": [
    {
     "data": {
      "text/html": [
       "\n",
       "        <iframe\n",
       "            width=\"100%\"\n",
       "            height=\"650\"\n",
       "            src=\"http://127.0.0.1:8051/\"\n",
       "            frameborder=\"0\"\n",
       "            allowfullscreen\n",
       "        ></iframe>\n",
       "        "
      ],
      "text/plain": [
       "<IPython.lib.display.IFrame at 0x7ff9747aae48>"
      ]
     },
     "metadata": {},
     "output_type": "display_data"
    }
   ],
   "source": [
    "column_regione = 'Regione'\n",
    "column_provincia = 'Provincia'\n",
    "agg_column = 'tamponi_giornalieri'\n",
    "data_column = 'data'\n",
    "jdata = json_data\n",
    "\n",
    "app_period = JupyterDash(\"CovidMap\")\n",
    "\n",
    "app_period.layout = html.Div([\n",
    "    html.Label(\n",
    "        [\n",
    "            \"Data range\",\n",
    "            dcc.Dropdown(id=\"dateRange\",\n",
    "                         options=[{\"label\": x, \"value\": x} for x in [\"Day\", \"Week\", \"Month\"]],\n",
    "                        value=\"Day\",\n",
    "                        clearable=False,),\n",
    "        ]\n",
    "    ),\n",
    "    html.Label([\n",
    "            \"KPI\",\n",
    "            dcc.Dropdown(id=\"KPI\",\n",
    "                         options=[{\"label\": x, \"value\": x} for x in [\"perc_positivi_tamponi\", \"deceduti_giornalieri\",\n",
    "                                                                     \"terapia_intensiva_giornalieri\"]],\n",
    "                        value=\"perc_positivi_tamponi\",\n",
    "                        clearable=False,),\n",
    "        ]\n",
    "    ),\n",
    "    html.Div(dcc.Graph(id=\"CovidMap-chart\"))])\n",
    "    \n",
    "@app_period.callback(\n",
    "    [Output(\"CovidMap-chart\", \"figure\")],\n",
    "    [Input(\"KPI\", \"value\"), \n",
    "     Input(\"dateRange\", \"value\")]\n",
    ")\n",
    "def display_covid_period(kpi, dateRange):\n",
    "    \n",
    "    kpi_dic = {kpi : 'sum', 'Residenti': 'min'}\n",
    "    \n",
    "    if dateRange == \"Day\":\n",
    "        df_plot = pd.DataFrame(df_covid_regioni_all_daily.groupby(by = [column_regione,\n",
    "                df_covid_regioni_all_daily[data_column].dt.date]).agg(kpi_dic).to_records())\n",
    "    elif dateRange == \"Week\":\n",
    "        df_plot = pd.DataFrame(df_covid_regioni_all_daily.groupby(by = [column_regione,\n",
    "                df_covid_regioni_all_daily[data_column].dt.week]).agg(kpi_dic).to_records())\n",
    "    elif dateRange == \"Month\":\n",
    "        df_plot = pd.DataFrame(df_covid_regioni_all_daily.groupby(by = [column_regione,\n",
    "                df_covid_regioni_all_daily[data_column].dt.month]).agg(kpi_dic).to_records())\n",
    "\n",
    "    layout = go.Layout(# width = 770, height=650,\n",
    "                       margin={\"r\":0,\"t\":0,\"l\":0,\"b\":0},\n",
    "                      mapbox = dict(center= {\"lat\": 41.892770, \"lon\": 12.483667},\n",
    "                                    accesstoken=map_token,\n",
    "                                    zoom=4))\n",
    "\n",
    "    mask = df_plot[data_column]==df_plot[data_column].min()\n",
    "    current_df = df_plot[mask]\n",
    "\n",
    "    data = [go.Choroplethmapbox( \n",
    "                                 locations = current_df[column_regione],\n",
    "                                 z = current_df[kpi]/current_df['Residenti'],\n",
    "                                 colorscale = 'deep',\n",
    "    #                              text =regions,\n",
    "                                 featureidkey=\"properties.nomeTesto\",\n",
    "                                 colorbar = dict(thickness=20, ticklen=3),\n",
    "                                 geojson = jdata,\n",
    "                                 marker_line_width=0, marker_opacity=0.7)]\n",
    "\n",
    "\n",
    "    date_range = df_plot[data_column].unique()\n",
    "    frames = []\n",
    "\n",
    "    for N, q in enumerate(date_range):\n",
    "        mask = df_plot[data_column]==q\n",
    "        current_df = df_plot[mask]\n",
    "        frames.append(go.Frame(data=[go.Choroplethmapbox(\n",
    "                                    locations = current_df[column_regione],\n",
    "                                     z = current_df[kpi]/current_df['Residenti'])],\n",
    "                              name=f'frame{N+1}')\n",
    "                      )\n",
    "\n",
    "    sliders = [dict(steps= [dict(method= 'animate',\n",
    "                           args= [[f'frame{k+1}'],\n",
    "                                  dict(mode= 'immediate',\n",
    "                                  frame= dict( duration=600, redraw= True ),\n",
    "                                           transition=dict( duration= 200)\n",
    "                                          )\n",
    "                                    ],\n",
    "                            label='dateRange : {}'.format(date_range[k])\n",
    "                             ) for k in range(0,len(frames))], \n",
    "                transition= dict(duration= 100 ),\n",
    "                x=0,\n",
    "                y=0,\n",
    "                currentvalue=dict(font=dict(size=12), visible=True, xanchor= 'center'),\n",
    "                len=1.0)\n",
    "           ]\n",
    "\n",
    "    # Update Layout\n",
    "    layout.update(updatemenus=[dict(type='buttons', showactive=False,\n",
    "                                   y=0,\n",
    "                                   x=0,\n",
    "                                   xanchor='left',\n",
    "                                   pad=dict(t=5, r=10),\n",
    "                                   buttons=[dict(label='Play',\n",
    "                                                 method='animate',\n",
    "                                                 args=[None, \n",
    "                                                       dict(frame=dict(duration=600, \n",
    "                                                            redraw=True),\n",
    "                                                            transition=dict(duration=200),\n",
    "                                                            fromcurrent=True,\n",
    "                                                            mode='immediate'\n",
    "                                                           )\n",
    "                                                      ]\n",
    "                                                )\n",
    "                                           ]\n",
    "                                  )\n",
    "                             ],\n",
    "                 sliders=sliders);\n",
    "    # Plot the figure \n",
    "#     fig=go.Figure(data=data, layout=layout, frames=frames)\n",
    "#     fig.show()\n",
    "    return go.Figure(data=data, layout=layout, frames=frames)\n",
    "\n",
    "app_period.run_server(mode='inline', port=8051) # debug=True, use_reloader=False"
   ]
  },
  {
   "cell_type": "code",
   "execution_count": null,
   "metadata": {},
   "outputs": [],
   "source": []
  },
  {
   "cell_type": "code",
   "execution_count": null,
   "metadata": {},
   "outputs": [],
   "source": [
    "df_covid_plot =pd.DataFrame(df_covid_regioni_all_daily.groupby(by=['Regione', 'month'\n",
    "                                            ]).agg({'totale_casi_giornalieri': 'sum',\n",
    "                                                   'Residenti': 'min'}).to_records())\n",
    "\n",
    "jdata = json_data\n",
    "regions = df_covid_plot['Regione'].unique()\n",
    "L = len(regions)\n",
    "\n",
    "layout = go.Layout(# width = 770, height=650,\n",
    "                   margin={\"r\":0,\"t\":0,\"l\":0,\"b\":0},\n",
    "                  mapbox = dict(center= {\"lat\": 41.892770, \"lon\": 12.483667},\n",
    "                                accesstoken=map_token,\n",
    "                                zoom=4))\n",
    "\n",
    "mask = df_covid_plot['month']==df_covid_plot['month'].min()\n",
    "current_df = df_covid_plot[mask]\n",
    "\n",
    "data = [go.Choroplethmapbox( \n",
    "                             locations = current_df['Regione'],\n",
    "                             z = current_df['totale_casi_giornalieri']/current_df['Residenti'],\n",
    "                             colorscale = 'deep',\n",
    "#                              text =regions,\n",
    "                             featureidkey=\"properties.nomeTesto\",\n",
    "                             colorbar = dict(thickness=20, ticklen=3),\n",
    "                             geojson = jdata,\n",
    "                             marker_line_width=0, marker_opacity=0.7)]\n",
    "\n",
    "\n",
    "date_range = df_covid_plot.month.unique()\n",
    "frames = []\n",
    "\n",
    "for N, q in enumerate(date_range):\n",
    "    mask = df_covid_plot['month']==q\n",
    "    current_df = df_covid_plot[mask]\n",
    "    frames.append(go.Frame(data=[go.Choroplethmapbox(\n",
    "                                locations = current_df['Regione'],\n",
    "                                 z = current_df['totale_casi_giornalieri']/current_df['Residenti'])],\n",
    "                          name=f'frame{N+1}')\n",
    "                  )\n",
    "\n",
    "sliders = [dict(steps= [dict(method= 'animate',\n",
    "                       args= [[f'frame{k+1}'],\n",
    "                              dict(mode= 'immediate',\n",
    "                              frame= dict( duration=600, redraw= True ),\n",
    "                                       transition=dict( duration= 200)\n",
    "                                      )\n",
    "                                ],\n",
    "                        label='Date : {}'.format(date_range[k])\n",
    "                         ) for k in range(0,len(frames))], \n",
    "            transition= dict(duration= 100 ),\n",
    "            x=0,\n",
    "            y=0,\n",
    "            currentvalue=dict(font=dict(size=12), visible=True, xanchor= 'center'),\n",
    "            len=1.0)\n",
    "       ]\n",
    "\n",
    "# Update Layout\n",
    "layout.update(updatemenus=[dict(type='buttons', showactive=False,\n",
    "                               y=0,\n",
    "                               x=0,\n",
    "                               xanchor='left',\n",
    "                               pad=dict(t=5, r=10),\n",
    "                               buttons=[dict(label='Play',\n",
    "                                             method='animate',\n",
    "                                             args=[None, \n",
    "                                                   dict(frame=dict(duration=600, \n",
    "                                                        redraw=True),\n",
    "                                                        transition=dict(duration=200),\n",
    "                                                        fromcurrent=True,\n",
    "                                                        mode='immediate'\n",
    "                                                       )\n",
    "                                                  ]\n",
    "                                            )\n",
    "                                       ]\n",
    "                              )\n",
    "                         ],\n",
    "             sliders=sliders);\n",
    "# Plot the figure \n",
    "fig=go.Figure(data=data, layout=layout, frames=frames)\n",
    "fig.show()"
   ]
  },
  {
   "cell_type": "code",
   "execution_count": null,
   "metadata": {},
   "outputs": [],
   "source": [
    "# TODO add documentation on github (link to datasets, also for traffic)\n",
    "# TODO fix plot (hover)\n",
    "# TODO fix representation of feature into the plot (compute right kpi)\n",
    "# TODO more kpi\n",
    "# TODO add week (eventually day) resampling\n",
    "# TODO then: correlation"
   ]
  }
 ],
 "metadata": {
  "kernelspec": {
   "display_name": "Python 3",
   "language": "python",
   "name": "python3"
  },
  "language_info": {
   "codemirror_mode": {
    "name": "ipython",
    "version": 3
   },
   "file_extension": ".py",
   "mimetype": "text/x-python",
   "name": "python",
   "nbconvert_exporter": "python",
   "pygments_lexer": "ipython3",
   "version": "3.6.9"
  }
 },
 "nbformat": 4,
 "nbformat_minor": 2
}
