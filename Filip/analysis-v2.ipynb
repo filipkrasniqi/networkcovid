{
 "cells": [
  {
   "cell_type": "code",
   "execution_count": 112,
   "metadata": {},
   "outputs": [],
   "source": [
    "import numpy as np\n",
    "import pandas as pd\n",
    "from datetime import date\n",
    "from matplotlib import pyplot as plt\n",
    "\n",
    "from numpy import cos, sin, arcsin, sqrt\n",
    "from math import radians\n",
    "import seaborn as sns\n",
    "from jupyter_dash import JupyterDash\n",
    "\n",
    "import dash_core_components as dcc\n",
    "import dash_html_components as html\n",
    "from dash.dependencies import Input, Output\n",
    "import plotly.figure_factory as ff\n",
    "import plotly.express as px\n",
    "import numpy as np\n",
    "\n",
    "# need for token (mapbox)\n",
    "px.set_mapbox_access_token(\"pk.eyJ1IjoiZmlsaXBrcmFzbmlxaSIsImEiOiJja2luOW9jdmgwa3J3MnpvNXhkNGJ6MWFtIn0.eevoM5byqvtc1nC0oXpuOw\")\n",
    "\n",
    "def haversine(row, lonlat):\n",
    "    lat1, lon1 = lonlat\n",
    "    lon2, lat2 = row['LNG'], row['LAT']\n",
    "    lon1, lat1, lon2, lat2 = map(radians, [lon1, lat1, lon2, lat2])\n",
    "    dlon = lon2 - lon1 \n",
    "    dlat = lat2 - lat1 \n",
    "    a = sin(dlat/2)**2 + cos(lat1) * cos(lat2) * sin(dlon/2)**2\n",
    "    c = 2 * arcsin(sqrt(a)) \n",
    "    km = 6367 * c\n",
    "    return km\n",
    "\n",
    "def cell_from_coords(data, lonlat):\n",
    "    data['LAT'], data['LNG'] = pd.to_numeric(data['LAT_Y'],errors='coerce'), pd.to_numeric(data['LONG_X'],errors='coerce')\n",
    "    data['distance'] = data.apply(lambda row: haversine(row, lonlat), axis=1)\n",
    "    row = data.sort_values(by='distance').iloc[0:1]\n",
    "    data.drop(['distance', 'LAT', \"LNG\"], axis=1, inplace=True)\n",
    "    return row\n",
    "\n",
    "def normalize(data, column):\n",
    "    data.loc[:, column] = (data[column]-data[column].mean())/data[column].std()\n",
    "    return data\n",
    "\n",
    "def fix_coords(data):\n",
    "    data['LAT'], data['LNG'] = pd.to_numeric(data['LAT_Y'],errors='coerce'), pd.to_numeric(data['LONG_X'],errors='coerce')\n",
    "    return data\n",
    "\n",
    "def prepare_for_hexbin(dataframe, weekly = True, monthly = True):\n",
    "    if weekly:\n",
    "        data_groupped = dataframe.groupby('ECELL_ID').resample('W-Mon', on='Date').mean().reset_index().sort_values(by='Date')\n",
    "    elif monthly:\n",
    "        data_groupped = dataframe.groupby('ECELL_ID').resample('MS', on='Date').mean().reset_index().sort_values(by='Date') \n",
    "    else:\n",
    "        data_groupped = dataframe.groupby('ECELL_ID').resample('D', on='Date').mean().reset_index().sort_values(by='Date')\n",
    "    data_groupped = data_groupped.sort_values(by='Date')\n",
    "    data_groupped['DateString'] = data_groupped['Date'].map(lambda x: x.strftime('%j'))\n",
    "    data_groupped[\"DateString\"] = (data_groupped[\"DateString\"].astype(int)+1)//7\n",
    "    return data_groupped\n",
    "\n",
    "def prepare_for_timeseries(dataframe, weekly = True, monthly = True):\n",
    "    if weekly:\n",
    "        data_groupped = dataframe.groupby('COMUNE').resample('W-Mon', on='Date').sum().reset_index().sort_values(by='Date')\n",
    "    elif monthly:\n",
    "        data_groupped = dataframe.groupby('COMUNE').resample('MS', on='Date').sum().reset_index().sort_values(by='Date') \n",
    "    else:\n",
    "        data_groupped = dataframe.groupby('COMUNE').resample('D', on='Date').sum().reset_index().sort_values(by='Date')\n",
    "    data_groupped = data_groupped.sort_values(by='Date')\n",
    "    data_groupped['DateString'] = data_groupped['Date'].map(lambda x: x.strftime('%j'))\n",
    "    data_groupped[\"DateString\"] = (data_groupped[\"DateString\"].astype(int)+1)//7\n",
    "    return data_groupped\n",
    "\n",
    "def normalize_per_city(data, column, cities = [\"MILANO\", \"ROMA\"], city_column = \"COMUNE\"):\n",
    "    means = {city: data.where(lambda x: x[city_column] == city).dropna()[column].mean() for city in cities}#, \"ROMA\": daily_selected_data_groupped.where(lambda x: x.COMUNE ==\"ROMA\").dropna()[\"DL_VOL\"].mean()}\n",
    "    stds = {city: data.where(lambda x: x[city_column] == city).dropna()[column].std() for city in cities}\n",
    "    data = data.where(lambda x:x[column] > 0).dropna()# filtering before doing computations: some fields are wrongly 0\n",
    "    data[\"NORM_{}\".format(column)] = data.apply(lambda x: (x[column] - means[x[city_column]]) / stds[x[city_column]], axis=1)\n",
    "    return data\n",
    "\n",
    "def assign_constant_col(df, col, val):\n",
    "    df[col] = val\n",
    "    return df\n",
    "\n",
    "def remove_outliers(df, col):\n",
    "    df = df.dropna(subset=[col])\n",
    "    return df[df[col] < np.percentile(df[col],95)]\n",
    "\n",
    "\n",
    "data_path = \"/Users/filipkrasniqi/Documents/Datasets.tmp/traffic-covid/\"\n",
    "cities = [\"Milano\", \"ROMA\", \"TORINO\"]"
   ]
  },
  {
   "cell_type": "markdown",
   "metadata": {},
   "source": [
    "# Reading data regarding Rome and Milan"
   ]
  },
  {
   "cell_type": "markdown",
   "metadata": {},
   "source": [
    "## Reading data for Rome and Milan and adding coordinates as float"
   ]
  },
  {
   "cell_type": "code",
   "execution_count": 3,
   "metadata": {},
   "outputs": [],
   "source": [
    "#data_milano, data_rome, data_turin = [pd.read_pickle(\"{}LTE_1800_{}.pkl\".format(data_path, city)) for city in cities]\n",
    "#data_milano, data_rome, data_turin = fix_coords(data_milano), fix_coords(data_rome), fix_coords(data_turin)\n",
    "data_milano = fix_coords(pd.read_pickle(\"{}LTE_1800_{}.pkl\".format(data_path, cities[0])))\n",
    "data_milano_2 = fix_coords(pd.read_pickle(\"{}LTE_1800_{}_P2.pkl\".format(data_path, cities[0])))\n",
    "data_rome = fix_coords(pd.read_pickle(\"{}LTE_1800_{}.pkl\".format(data_path, cities[1])))"
   ]
  },
  {
   "cell_type": "markdown",
   "metadata": {},
   "source": [
    "## Removing outliers for each column\n",
    "Outliers = those outside the 95% confidence. This is done before merging data among the cities"
   ]
  },
  {
   "cell_type": "code",
   "execution_count": 5,
   "metadata": {},
   "outputs": [],
   "source": [
    "# remove outliers from the three datasets regarding DL_VOL and Hin_Succ\n",
    "data_milano = remove_outliers(data_milano, \"DL_VOL\")\n",
    "data_milano = remove_outliers(data_milano, \"Hin_Succ\")\n",
    "\n",
    "data_milano_2 = remove_outliers(data_milano_2, \"DL_VOL\")\n",
    "data_milano_2 = remove_outliers(data_milano_2, \"Hin_Succ\")\n",
    "\n",
    "data_rome = remove_outliers(data_rome, \"DL_VOL\")\n",
    "data_rome = remove_outliers(data_rome, \"Hin_Succ\")"
   ]
  },
  {
   "cell_type": "markdown",
   "metadata": {},
   "source": [
    "## Merging data for cities"
   ]
  },
  {
   "cell_type": "code",
   "execution_count": 6,
   "metadata": {},
   "outputs": [],
   "source": [
    "# merging them\n",
    "all_data_milano = pd.concat([data_milano, data_milano_2])\n",
    "all_data_milano[\"City\"] = 0\n",
    "data_rome[\"City\"] = 1\n",
    "all_data = pd.concat([all_data_milano, data_rome])\n",
    "all_data[\"USERNUM_AVG\"] = all_data[\"USERNUM_AVG\"].astype(float)"
   ]
  },
  {
   "cell_type": "markdown",
   "metadata": {},
   "source": [
    "## Grouping by week and month and assigning city name"
   ]
  },
  {
   "cell_type": "code",
   "execution_count": 7,
   "metadata": {},
   "outputs": [],
   "source": [
    "data_groupped_week = prepare_for_hexbin(all_data)"
   ]
  },
  {
   "cell_type": "code",
   "execution_count": 8,
   "metadata": {},
   "outputs": [],
   "source": [
    "data_groupped_month = prepare_for_hexbin(all_data, weekly = False)"
   ]
  },
  {
   "cell_type": "code",
   "execution_count": 9,
   "metadata": {},
   "outputs": [],
   "source": [
    "# columns to use for hexbin visualization\n",
    "columns, required_columns = [\"DL_VOL\", \"Hin_Succ\", \"USERNUM_AVG\"], [\"LAT\", \"LNG\", \"DateString\", \"City\"]\n",
    "\n",
    "# week: take groupped data and assign the column I need. Plus, fix the city\n",
    "week_selected_data_groupped = data_groupped_week[columns+required_columns].dropna()\n",
    "week_selected_data_groupped[\"City\"] = week_selected_data_groupped[\"City\"].astype(int)\n",
    "week_selected_data_groupped[\"City\"] = week_selected_data_groupped[\"City\"].apply(lambda x: cities[x])\n",
    "\n",
    "# month: do the same as week\n",
    "month_selected_data_groupped = data_groupped_month[columns+required_columns].dropna()\n",
    "month_selected_data_groupped[\"City\"] = month_selected_data_groupped[\"City\"].astype(int)\n",
    "month_selected_data_groupped[\"City\"] = month_selected_data_groupped[\"City\"].apply(lambda x: cities[x])"
   ]
  },
  {
   "cell_type": "markdown",
   "metadata": {},
   "source": [
    "# Visualization"
   ]
  },
  {
   "cell_type": "markdown",
   "metadata": {},
   "source": [
    "## Hexagon map showing the evolution of the aggregated KPI per city over time\n",
    "From this visualization we can understand different things. TODO\n",
    "1)\n",
    "2)"
   ]
  },
  {
   "cell_type": "code",
   "execution_count": 230,
   "metadata": {
    "scrolled": true
   },
   "outputs": [
    {
     "data": {
      "text/html": [
       "\n",
       "        <iframe\n",
       "            width=\"100%\"\n",
       "            height=\"650\"\n",
       "            src=\"http://127.0.0.1:8050/\"\n",
       "            frameborder=\"0\"\n",
       "            allowfullscreen\n",
       "        ></iframe>\n",
       "        "
      ],
      "text/plain": [
       "<IPython.lib.display.IFrame at 0x265352f10>"
      ]
     },
     "metadata": {},
     "output_type": "display_data"
    }
   ],
   "source": [
    "app = JupyterDash(\"Map\")\n",
    "\n",
    "app.layout = html.Div([\n",
    "    html.Label([\"KPIs\", dcc.Dropdown(\n",
    "        id=\"kpi\",\n",
    "        options=[{\"label\": x, \"value\": x} for x in columns],\n",
    "        value=columns[0],\n",
    "        clearable=False,\n",
    "                )]),\n",
    "    html.Label(\n",
    "        [\n",
    "            \"Città\",\n",
    "            dcc.Dropdown(id=\"city\",\n",
    "                         options=[{\"label\": x, \"value\": x} for x in week_selected_data_groupped.City.unique()],\n",
    "                        value=week_selected_data_groupped[\"City\"].unique()[1],\n",
    "                        clearable=False,),\n",
    "        ]\n",
    "    ),\n",
    "    html.Label(\n",
    "        [\n",
    "            \"Data range\",\n",
    "            dcc.Dropdown(id=\"dateRange\",\n",
    "                         options=[{\"label\": x, \"value\": x} for x in [\"Week\", \"Month\"]],\n",
    "                        value=\"Week\",\n",
    "                        clearable=False,),\n",
    "        ]\n",
    "    ),\n",
    "    html.Div(dcc.Graph(id=\"map-chart\"))\n",
    "])\n",
    "\n",
    "@app.callback(\n",
    "    Output(\"map-chart\", \"figure\"), \n",
    "    [Input(\"kpi\", \"value\"), Input(\"city\", \"value\"), Input(\"dateRange\", \"value\")])\n",
    "\n",
    "def display_map(kpi, city, dateRange):\n",
    "    \n",
    "    if dateRange == \"Week\":\n",
    "        selected_data_groupped = week_selected_data_groupped\n",
    "    else:\n",
    "        selected_data_groupped = month_selected_data_groupped\n",
    "    \n",
    "    filtered_data_groupped = selected_data_groupped.where(lambda x:x.City==city).dropna()\n",
    "    fig = ff.create_hexbin_mapbox(\n",
    "        data_frame=filtered_data_groupped,\n",
    "        lat=\"LAT\", lon=\"LNG\", nx_hexagon=30, animation_frame=\"DateString\", color=kpi,\n",
    "        color_continuous_scale=\"Inferno\", labels={\"color\": kpi, \"frame\": \"DateString\"}\n",
    "    )\n",
    "    fig.update_layout(margin=dict(b=0, t=0, l=0, r=0))\n",
    "    fig.layout.sliders[0].pad.t=20\n",
    "    fig.layout.updatemenus[0].pad.t=60\n",
    "    return fig\n",
    "\n",
    "app.run_server(mode='inline')"
   ]
  },
  {
   "cell_type": "markdown",
   "metadata": {},
   "source": [
    "## Initializing data to group them for period"
   ]
  },
  {
   "cell_type": "code",
   "execution_count": 97,
   "metadata": {},
   "outputs": [],
   "source": [
    "# preparing data for period visualization\n",
    "all_data[\"hour\"] = [t.hour for t in pd.DatetimeIndex(all_data.Date)]\n",
    "columns_all_data, required_columns_all_data = [\"DL_VOL\", \"Hin_Succ\", \"USERNUM_AVG\"], [\"LAT\", \"LNG\", \"City\", 'hour', 'Date', 'ECELL_ID']\n",
    "periods = [\"Dawn\", \"Morning\", \"Lunch\", \"Afternoon\", \"Evening\"]\n",
    "# getting data with relative period\n",
    "evening_data = all_data[columns_all_data+required_columns_all_data].where(lambda x: (x.hour >= 20) & (x.hour <= 23)).dropna()\n",
    "afternoon_data = all_data[columns_all_data+required_columns_all_data].where(lambda x: (x.hour >= 16) & (x.hour <= 19)).dropna()\n",
    "lunch_data = all_data[columns_all_data+required_columns_all_data].where(lambda x: (x.hour >= 12) & (x.hour <= 15)).dropna()\n",
    "morning_data = all_data[columns_all_data+required_columns_all_data].where(lambda x: (x.hour >= 8) & (x.hour <= 11)).dropna()\n",
    "dawn_data = all_data[columns_all_data+required_columns_all_data].where(lambda x: (x.hour >= 4) & (x.hour <= 7)).dropna()\n",
    "# remember to assign column \"period\"! e.g.: evening_data_<week/month/day>[\"period\"] = periods[4]"
   ]
  },
  {
   "cell_type": "markdown",
   "metadata": {},
   "source": [
    "## Current instance: period hexbin data"
   ]
  },
  {
   "cell_type": "code",
   "execution_count": 215,
   "metadata": {},
   "outputs": [],
   "source": [
    "# resampling data for hexbin\n",
    "evening_data_week, afternoon_data_week, lunch_data_week, morning_data_week, dawn_data_week = \\\n",
    "        prepare_for_hexbin(evening_data), prepare_for_hexbin(afternoon_data), prepare_for_hexbin(lunch_data), \\\n",
    "        prepare_for_hexbin(morning_data), prepare_for_hexbin(dawn_data)\n",
    "\n",
    "# assigning data after resampling\n",
    "evening_data_week, afternoon_data_week, lunch_data_week, morning_data_week, dawn_data_week = \\\n",
    "    assign_constant_col(evening_data_week, \"period\", periods[4]),\n",
    "    assign_constant_col(afternoon_data_week, \"period\", periods[3]),\n",
    "    assign_constant_col(lunch_data_week, \"period\", periods[2]),\n",
    "    assign_constant_col(morning_data_week, \"period\", periods[1]),\n",
    "    assign_constant_col(dawn_data_week, \"period\", periods[0])\n",
    "\n",
    "# same operations for month\n",
    "evening_data_month, afternoon_data_month, lunch_data_month, morning_data_month, dawn_data_month = \\\n",
    "        prepare_for_hexbin(evening_data, weekly = False), prepare_for_hexbin(afternoon_data, weekly = False), \\\n",
    "        prepare_for_hexbin(lunch_data, weekly = False), prepare_for_hexbin(morning_data, weekly = False), \\\n",
    "        prepare_for_hexbin(dawn_data, weekly = False)\n",
    "\n",
    "evening_data_month, afternoon_data_month, lunch_data_month, morning_data_month, dawn_data_month = \\\n",
    "    assign_constant_col(evening_data_month, \"period\", periods[4]),\n",
    "    assign_constant_col(afternoon_data_month, \"period\", periods[3]),\n",
    "    assign_constant_col(lunch_data_month, \"period\", periods[2]),\n",
    "    assign_constant_col(morning_data_month, \"period\", periods[1]),\n",
    "    assign_constant_col(dawn_data_month, \"period\", periods[0])\n",
    "\n",
    "#period_data_groupped_month = prepare_for_hexbin(period_data, weekly = False)\n",
    "#period_data = pd.concat([dawn_data, morning_data, lunch_data, afternoon_data, evening_data])\n",
    "period_data_groupped_week = pd.concat([evening_data_week, afternoon_data_week, lunch_data_week, morning_data_week, dawn_data_week])\n",
    "period_data_groupped_month = pd.concat([evening_data_month, afternoon_data_month, lunch_data_month, morning_data_month, dawn_data_month])\n",
    "\n",
    "period_columns = columns+required_columns+['period', 'ECELL_ID']\n",
    "period_week_selected_data_groupped = period_data_groupped_week[period_columns].dropna()\n",
    "period_week_selected_data_groupped[\"period\"] = period_week_selected_data_groupped[\"period\"].astype(int)\n",
    "period_week_selected_data_groupped[\"City\"] = period_week_selected_data_groupped[\"City\"].astype(int)\n",
    "period_week_selected_data_groupped[\"City\"] = period_week_selected_data_groupped[\"City\"].apply(lambda x: cities[x])\n",
    "period_week_selected_data_groupped[\"period\"] = period_week_selected_data_groupped[\"period\"].apply(lambda x: periods[x])\n",
    "\n",
    "period_month_selected_data_groupped = period_data_groupped_month[period_columns].dropna()\n",
    "period_month_selected_data_groupped[\"period\"] = period_month_selected_data_groupped[\"period\"].astype(int)\n",
    "period_month_selected_data_groupped[\"City\"] = period_month_selected_data_groupped[\"City\"].astype(int)\n",
    "period_month_selected_data_groupped[\"City\"] = period_month_selected_data_groupped[\"City\"].apply(lambda x: cities[x])\n",
    "period_month_selected_data_groupped[\"period\"] = period_month_selected_data_groupped[\"period\"].apply(lambda x: periods[x])"
   ]
  },
  {
   "cell_type": "code",
   "execution_count": 232,
   "metadata": {
    "scrolled": false
   },
   "outputs": [
    {
     "data": {
      "text/html": [
       "\n",
       "        <iframe\n",
       "            width=\"100%\"\n",
       "            height=\"650\"\n",
       "            src=\"http://127.0.0.1:16000/\"\n",
       "            frameborder=\"0\"\n",
       "            allowfullscreen\n",
       "        ></iframe>\n",
       "        "
      ],
      "text/plain": [
       "<IPython.lib.display.IFrame at 0x266ccd9d0>"
      ]
     },
     "metadata": {},
     "output_type": "display_data"
    }
   ],
   "source": [
    "app_period = JupyterDash(\"PERIOD\")\n",
    "\n",
    "app_period.layout = html.Div([\n",
    "    html.Label([\"KPIs\", dcc.Dropdown(\n",
    "        id=\"kpi\",\n",
    "        options=[{\"label\": x, \"value\": x} for x in columns],\n",
    "        value=columns[0],\n",
    "        clearable=False,\n",
    "                )]),\n",
    "    html.Label(\n",
    "        [\n",
    "            \"Città\",\n",
    "            dcc.Dropdown(id=\"city\",\n",
    "                         options=[{\"label\": x, \"value\": x} for x in period_week_selected_data_groupped.City.unique()],\n",
    "                        value=period_week_selected_data_groupped[\"City\"].unique()[1],\n",
    "                        clearable=False,),\n",
    "        ]\n",
    "    ),\n",
    "    html.Label(\n",
    "        [\n",
    "            \"Data range\",\n",
    "            dcc.Dropdown(id=\"dateRange\",\n",
    "                         options=[{\"label\": x, \"value\": x} for x in [\"Week\", \"Month\"]],\n",
    "                        value=\"Week\",\n",
    "                        clearable=False,),\n",
    "        ]\n",
    "    ),\n",
    "    html.Label(\n",
    "        [\n",
    "            \"Period\",\n",
    "            dcc.Dropdown(id=\"period\",\n",
    "                         options=[{\"label\": x, \"value\": x} for x in period_week_selected_data_groupped.period.unique()],\n",
    "                        value=\"Dawn\",\n",
    "                        clearable=False,),\n",
    "        ]\n",
    "    ),\n",
    "    html.Label(\n",
    "        [\n",
    "            \"Period vs evening\",\n",
    "            dcc.Dropdown(id=\"period_vs_evening\",\n",
    "                         options=[{\"label\": x, \"value\": x} for x in [\"Yes\", \"No\"]],\n",
    "                        value=\"No\",\n",
    "                        clearable=False,),\n",
    "        ]\n",
    "    ),\n",
    "    html.Div(dcc.Graph(id=\"period-chart\"))])\n",
    "    \n",
    "@app_period.callback(\n",
    "    Output(\"period-chart\", \"figure\"), \n",
    "    [Input(\"kpi\", \"value\"), Input(\"city\", \"value\"), Input(\"dateRange\", \"value\"), Input(\"period\", \"value\"), Input(\"period_vs_evening\", \"value\")])\n",
    "def display_map_period(kpi, city, dateRange, period, periodVsEvening):\n",
    "    \n",
    "    if period == 'Evening':\n",
    "        periodVsEvening = 'No'\n",
    "    \n",
    "    if dateRange == \"Week\":\n",
    "        selected_data_groupped = period_week_selected_data_groupped\n",
    "    else:\n",
    "        selected_data_groupped = period_month_selected_data_groupped\n",
    "    \n",
    "    filtered_data_groupped = selected_data_groupped.where(lambda x:x.City==city).dropna()\n",
    "    if periodVsEvening == 'No':\n",
    "        filtered_data_groupped = filtered_data_groupped.where(lambda x:x.period==period).dropna()\n",
    "        filtered_data_groupped = filtered_data_groupped.set_index(['ECELL_ID', 'DateString'])\n",
    "        filtered_data_groupped.reset_index(inplace=True)\n",
    "    else:\n",
    "        filtered_data_groupped = filtered_data_groupped.set_index(['ECELL_ID', 'DateString'])\n",
    "        filtered_data_groupped_evening = filtered_data_groupped.where(lambda x:x.period=='Evening').dropna()\n",
    "        filtered_data_groupped_period = filtered_data_groupped.where(lambda x:x.period==period).dropna()\n",
    "        \n",
    "        filtered_data_groupped = filtered_data_groupped_evening#\n",
    "        filtered_data_groupped[kpi] = (filtered_data_groupped[kpi] - filtered_data_groupped_period[kpi]).abs()\n",
    "        \n",
    "        filtered_data_groupped.reset_index(inplace=True)\n",
    "        filtered_data_groupped_evening.reset_index(inplace=True)\n",
    "        filtered_data_groupped_period.reset_index(inplace=True)\n",
    "        \n",
    "    fig = ff.create_hexbin_mapbox(\n",
    "        data_frame=filtered_data_groupped,\n",
    "        lat=\"LAT\", lon=\"LNG\", nx_hexagon=30, animation_frame=\"DateString\", color=kpi,\n",
    "        color_continuous_scale=\"Inferno\", labels={\"color\": kpi, \"frame\": \"DateString\"}\n",
    "    )\n",
    "    fig.update_layout(margin=dict(b=20, t=20, l=0, r=0))\n",
    "    \n",
    "    fig.layout.sliders[0].pad.t=30\n",
    "    fig.layout.updatemenus[0].pad.t=50\n",
    "\n",
    "#     fig.show()  \n",
    "    return fig\n",
    "\n",
    "app_period.run_server(mode='inline', port=16000) # debug=True, use_reloader=False"
   ]
  },
  {
   "cell_type": "markdown",
   "metadata": {},
   "source": [
    "## Compare aggregated data for Milano and Rome"
   ]
  },
  {
   "cell_type": "markdown",
   "metadata": {},
   "source": [
    "### Building visualization for both normalized and non-normalized case"
   ]
  },
  {
   "cell_type": "code",
   "execution_count": 124,
   "metadata": {},
   "outputs": [],
   "source": [
    "dataRanges = [\"Week\", \"Month\", \"Day\"]\n",
    "norm_columns = [\"NORM_{}\".format(col) for col in columns]\n",
    "towns = daily_selected_data_groupped.COMUNE.unique()\n",
    "\n",
    "def build_app_timeseries(columns, dataRanges, towns):    \n",
    "    name = \"TIMESERIES_TOTAL_{}\".format(\"_\".join(columns))\n",
    "    app_timeseries = JupyterDash(name)\n",
    "\n",
    "    dataRanges = [\"Week\", \"Month\", \"Day\"]\n",
    "\n",
    "    norm_columns = [\"NORM_{}\".format(col) for col in columns]\n",
    "\n",
    "    app_timeseries.layout = html.Div([\n",
    "    html.Label(\n",
    "        [\n",
    "            \"Data range\",\n",
    "            dcc.Dropdown(id=\"dateRange\",\n",
    "                         options=[{\"label\": x, \"value\": x} for x in dataRanges],\n",
    "                        value=dataRanges[0],\n",
    "                        clearable=False)\n",
    "        ]),\n",
    "    html.Label(\n",
    "        [\n",
    "            \"KPI\",\n",
    "            dcc.Dropdown(id=\"kpi\",\n",
    "                         options=[{\"label\": x, \"value\": x} for x in columns],\n",
    "                        value=columns[0],\n",
    "                        clearable=False)\n",
    "        ]),\n",
    "    html.Label(\n",
    "        [\n",
    "            \"Comune\",\n",
    "            dcc.Dropdown(id=\"town\",\n",
    "                         options=[{\"label\": x, \"value\": x} for x in towns],\n",
    "                        value=None,\n",
    "                        clearable=True)\n",
    "        ],\n",
    "    ),\n",
    "    html.Div(dcc.Graph(id=name))])\n",
    "\n",
    "    @app_timeseries.callback(\n",
    "    Output(name, \"figure\"), \n",
    "    [Input(\"dateRange\", \"value\"), Input(\"kpi\", \"value\"), Input(\"town\", \"value\")])\n",
    "    def display_map_period(dateRange, kpi, town):\n",
    "\n",
    "        if dateRange == \"Day\":\n",
    "            selected_data_groupped = daily_selected_data_groupped\n",
    "        elif dateRange==\"Week\":\n",
    "            selected_data_groupped = weekly_selected_data_groupped\n",
    "        else:\n",
    "            selected_data_groupped = monthly_selected_data_groupped\n",
    "        \n",
    "        if town is not None:\n",
    "            selected_data_groupped = selected_data_groupped.where(lambda x:x.COMUNE==town).dropna()\n",
    "\n",
    "        fig = px.line(selected_data_groupped, x='Date', y=kpi, color='COMUNE')\n",
    "\n",
    "        return fig\n",
    "    \n",
    "    return app_timeseries\n",
    "\n",
    "app_timeseries_normalized, app_timeseries = build_app_timeseries(norm_columns, dataRanges, towns), build_app_timeseries(columns, dataRanges, towns)"
   ]
  },
  {
   "cell_type": "markdown",
   "metadata": {},
   "source": [
    "### Comparing the raw data"
   ]
  },
  {
   "cell_type": "code",
   "execution_count": 125,
   "metadata": {
    "scrolled": true
   },
   "outputs": [
    {
     "data": {
      "text/html": [
       "\n",
       "        <iframe\n",
       "            width=\"100%\"\n",
       "            height=\"650\"\n",
       "            src=\"http://127.0.0.1:16001/\"\n",
       "            frameborder=\"0\"\n",
       "            allowfullscreen\n",
       "        ></iframe>\n",
       "        "
      ],
      "text/plain": [
       "<IPython.lib.display.IFrame at 0x13c494cd0>"
      ]
     },
     "metadata": {},
     "output_type": "display_data"
    }
   ],
   "source": [
    "app_timeseries.run_server(mode='inline', port=16001) # debug=True, use_reloader=False"
   ]
  },
  {
   "cell_type": "markdown",
   "metadata": {},
   "source": [
    "## Conclusions\n",
    "Comparing raw data between Rome and Milan gives interesting insights on how the mobile traffic is used in the two cities. We remind here that population in Rome is around 4M, while Milan has approximately 3M people (ratio Milan-Rome: 0.75).\n",
    "### Download\n",
    "When analysing data regarding downloads in the two cities, our data are not consistent at all. On average, the metropolitan city of Rome downloads 10000 more data than Milan; the difference is huge. This could be explained by different factors: for example, users may typically use **heavier applications**, for **longer time** (e.g.: people in Rome may use more 4G connection then WiFi even at home), and also the number of subscribers to our mobile operator may not be represented by the popilation ratio.\n",
    "### Avg. Number of users\n",
    "Analysing this KPI allows us to throw some more conclusions. As we can see from the plots, Milan has an average usage of 4M per week, while Rome is around 40-50M. This means that we have, on average, around 10 times the users of Milan. This partially explains the higher number of downloads in Rome; still, we can now conclude that people in Rome use much more the mobile network wrt Milan. Please have in mind that this information may be biased: indeed, if mobility is higher on one city wrt another, we would experience duplicates when counting users. For this reason, we compare also the last KPI.\n",
    "### Handover-IN (success)\n",
    "For our purpose, we'll consider the values prior to March, in particular those of February; by doing this, we are focusing on data that do not comprehend COVID-19 as a factor of variation of mobility. Indeed, something that is much more visible when analysing this feature is the drop around March, that can be seen in both situations. For a better comparison, we'll see the normalized data per city afterwards, so for now we'll just compare absolute values of Handover during February.\n",
    "\n",
    "Rome has a daily average of around 200M, while Milan lies around 14M. This means that we have much more mobility in Rome, and that the number of users as described above are much more biased in the Rome case than in Milan. Despite that, we can still draw the same conclusions about the usage of mobile traffic."
   ]
  },
  {
   "cell_type": "markdown",
   "metadata": {},
   "source": [
    "### Comparing normalized data"
   ]
  },
  {
   "cell_type": "code",
   "execution_count": 126,
   "metadata": {
    "scrolled": false
   },
   "outputs": [
    {
     "data": {
      "text/html": [
       "\n",
       "        <iframe\n",
       "            width=\"100%\"\n",
       "            height=\"650\"\n",
       "            src=\"http://127.0.0.1:16002/\"\n",
       "            frameborder=\"0\"\n",
       "            allowfullscreen\n",
       "        ></iframe>\n",
       "        "
      ],
      "text/plain": [
       "<IPython.lib.display.IFrame at 0x13c69b520>"
      ]
     },
     "metadata": {},
     "output_type": "display_data"
    }
   ],
   "source": [
    "app_timeseries_normalized.run_server(mode='inline', port=16002) # debug=True, use_reloader=False"
   ]
  },
  {
   "cell_type": "markdown",
   "metadata": {},
   "source": [
    "## Conclusions\n",
    "To understand this, here we provide a brief description of what we did. Basically, for each considered KPI we normalized the data for each city separately. By doing this, we can no more compare the absolute values; the analysis will be much more qualitative and focused on the behaviour during the month to **compare the two cases**, to draw some conclusions again on the use of mobile networks and on how people reacted to COVID-19 restrictions, both in terms of mobility and of usage of the mobile networks.\n",
    "\n",
    "### Download\n",
    "Our expectations would be to see a similar normalized behaviour, maybe in a different way, but still, we expect that entering lockdown would decrease the usage of mobile networks. The daily time series gives pretty interesting insights. In particular, we can see how Milan followed the just described trend for most of the time, even though at the end (when reaching summer) the usage keeps dropping in the same way as during lockdown. Instead, Rome is actually behaving in a very different way. Indeed, we can see how in march we have a huge increase of the usage of the networks, and while ending the lockdown we it drops in a logarithmic fashion.\n",
    "\n",
    "We should try to motivate this two aspects:\n",
    "1) why Rome has experienced such an increases of usage in March -> people are less used to use Internet then in Milan, but use mobile connection insteade of WiFi???\n",
    "2) why Milan follows our ideal trend in until May, but then follows the lockdown trend even though the city should experience a more normal behaviour -> people in Milan use internet for other purposes, and they were aware of the fact that they should behave properly regardless from the Lockdown???\n",
    "\n",
    "### Avg. Number of users\n",
    "If compared with the download scenario, the trend makes complete sense. Indeed, we see again a slow but linear decrease of users for Milan, while Rome experiences first a huge increase when entering March, and then a decrease once lockdown finishes. So, nothing new if compared with download.\n",
    "\n",
    "### Handover-IN (success)\n",
    "We can see that when normalizing the data we see a pattern. Mobility seems to work similar in the two cases, when normalizing the KPI, even though Milan seems to be a bit more reluctant to mobility after the lockdown if compared to Rome."
   ]
  },
  {
   "cell_type": "code",
   "execution_count": 113,
   "metadata": {},
   "outputs": [],
   "source": [
    "#data_groupped_day = prepare_for_timeseries(all_data, weekly = False, monthly = False)\n",
    "daily_selected_data_groupped = data_groupped_day[columns+required_columns + [\"Date\", \"COMUNE\"]].dropna()\n",
    "\n",
    "daily_selected_data_groupped_n = normalize_per_city(daily_selected_data_groupped, \"USERNUM_AVG\")\n",
    "daily_selected_data_groupped_n = normalize_per_city(daily_selected_data_groupped_n, \"Hin_Succ\")\n",
    "daily_selected_data_groupped_n = normalize_per_city(daily_selected_data_groupped_n, \"DL_VOL\")"
   ]
  },
  {
   "cell_type": "code",
   "execution_count": 114,
   "metadata": {},
   "outputs": [],
   "source": [
    "#data_groupped_weekly = prepare_for_timeseries(all_data, weekly = True, monthly = False)\n",
    "weekly_selected_data_groupped = data_groupped_weekly[columns+required_columns + [\"Date\", \"COMUNE\"]].dropna()\n",
    "\n",
    "weekly_selected_data_groupped = normalize_per_city(weekly_selected_data_groupped, \"USERNUM_AVG\")\n",
    "weekly_selected_data_groupped = normalize_per_city(weekly_selected_data_groupped, \"Hin_Succ\")\n",
    "weekly_selected_data_groupped = normalize_per_city(weekly_selected_data_groupped, \"DL_VOL\")"
   ]
  },
  {
   "cell_type": "code",
   "execution_count": 115,
   "metadata": {},
   "outputs": [],
   "source": [
    "#data_groupped_month = prepare_for_timeseries(all_data, weekly = False, monthly = True)\n",
    "monthly_selected_data_groupped = data_groupped_month[columns+required_columns + [\"Date\", \"COMUNE\"]].dropna()\n",
    "\n",
    "monthly_selected_data_groupped = normalize_per_city(monthly_selected_data_groupped, \"USERNUM_AVG\")\n",
    "monthly_selected_data_groupped = normalize_per_city(monthly_selected_data_groupped, \"Hin_Succ\")\n",
    "monthly_selected_data_groupped = normalize_per_city(monthly_selected_data_groupped, \"DL_VOL\")"
   ]
  },
  {
   "cell_type": "code",
   "execution_count": 116,
   "metadata": {
    "scrolled": false
   },
   "outputs": [
    {
     "data": {
      "text/html": [
       "\n",
       "        <iframe\n",
       "            width=\"100%\"\n",
       "            height=\"650\"\n",
       "            src=\"http://127.0.0.1:16001/\"\n",
       "            frameborder=\"0\"\n",
       "            allowfullscreen\n",
       "        ></iframe>\n",
       "        "
      ],
      "text/plain": [
       "<IPython.lib.display.IFrame at 0x13c6b90a0>"
      ]
     },
     "metadata": {},
     "output_type": "display_data"
    }
   ],
   "source": [
    "\n",
    "    \n",
    "app_timeseries.run_server(mode='inline', port=16001) # debug=True, use_reloader=False"
   ]
  },
  {
   "cell_type": "code",
   "execution_count": null,
   "metadata": {},
   "outputs": [],
   "source": [
    "# TODO mostrare confronto alba, mattina, pomeriggio, sera per città (confronto di come si comportano)\n",
    "# TODO mostrare confronto per città"
   ]
  },
  {
   "cell_type": "code",
   "execution_count": null,
   "metadata": {},
   "outputs": [],
   "source": [
    "# TODO stesso ma con app\n",
    "def build_app_timeseries_period(column):\n",
    "    name = \"TIMESERIES_{}\".format(column)\n",
    "    app_timeseries = JupyterDash(name)\n",
    "    \n",
    "    dataRanges, periods = [\"Week\", \"Month\", \"Day\"], data[\"period\"].unique()\n",
    "\n",
    "    app_timeseries.layout = html.Div([\n",
    "    html.Label(\n",
    "        [\n",
    "            \"Data range\",\n",
    "            dcc.Dropdown(id=\"dateRange\",\n",
    "                         options=[{\"label\": x, \"value\": x} for x in ,\n",
    "                        value=dataRanges[0],\n",
    "                        clearable=False,),\n",
    "        ]\n",
    "    ),\n",
    "    html.Label(\n",
    "        [\n",
    "            \"Period to show\",\n",
    "            dcc.Dropdown(id=\"period\",\n",
    "                         options=[{\"label\": x, \"value\": x} for x in periods],\n",
    "                        value=periods[0],\n",
    "                        clearable=False,),\n",
    "        ]\n",
    "    ),\n",
    "    html.Label(\n",
    "        [\n",
    "            \"Period to compare\",\n",
    "            dcc.Dropdown(id=\"periodToCompare\",\n",
    "                         options=[{\"label\": x, \"value\": x} for x in periods],\n",
    "                        value=periods[0],\n",
    "                        clearable=True,),\n",
    "        ]\n",
    "    ),\n",
    "    html.Div(dcc.Graph(id=name))])\n",
    "    \n",
    "    @app_timeseries.callback(\n",
    "    Output(name, \"figure\"), \n",
    "    [Input(\"dateRange\", \"value\"), Input(\"period\", \"value\"), Input(\"periodToCompare\", \"value\")])\n",
    "    def display_map_period(dateRange, period, periodToCompare):\n",
    "        \n",
    "        # TODO continuare qui con filtro\n",
    "        if period == 'Evening':\n",
    "            periodVsEvening = 'No'\n",
    "\n",
    "        if dateRange == \"Week\":\n",
    "            selected_data_groupped = period_week_selected_data_groupped\n",
    "        else:\n",
    "            selected_data_groupped = period_month_selected_data_groupped\n",
    "\n",
    "        filtered_data_groupped = selected_data_groupped.where(lambda x:x.City==city).dropna()\n",
    "        if periodVsEvening == 'No':\n",
    "            filtered_data_groupped = filtered_data_groupped.where(lambda x:x.period==period).dropna()\n",
    "            filtered_data_groupped = filtered_data_groupped.set_index(['ECELL_ID', 'DateString'])\n",
    "            filtered_data_groupped.reset_index(inplace=True)\n",
    "        else:\n",
    "            filtered_data_groupped = filtered_data_groupped.set_index(['ECELL_ID', 'DateString'])\n",
    "            filtered_data_groupped_evening = filtered_data_groupped.where(lambda x:x.period=='Evening').dropna()\n",
    "            filtered_data_groupped_period = filtered_data_groupped.where(lambda x:x.period==period).dropna()\n",
    "\n",
    "            filtered_data_groupped = filtered_data_groupped_evening#\n",
    "            filtered_data_groupped[kpi] = (filtered_data_groupped[kpi] - filtered_data_groupped_period[kpi]).abs()\n",
    "\n",
    "            filtered_data_groupped.reset_index(inplace=True)\n",
    "            filtered_data_groupped_evening.reset_index(inplace=True)\n",
    "            filtered_data_groupped_period.reset_index(inplace=True)\n",
    "\n",
    "        fig = ff.create_hexbin_mapbox(\n",
    "            data_frame=filtered_data_groupped,\n",
    "            lat=\"LAT\", lon=\"LNG\", nx_hexagon=30, animation_frame=\"DateString\", color=kpi,\n",
    "            color_continuous_scale=\"Inferno\", labels={\"color\": kpi, \"frame\": \"DateString\"}\n",
    "        )\n",
    "        fig.update_layout(margin=dict(b=20, t=20, l=0, r=0))\n",
    "\n",
    "        fig.layout.sliders[0].pad.t=30\n",
    "        fig.layout.updatemenus[0].pad.t=50\n",
    "\n",
    "    #     fig.show()  \n",
    "        return fig\n",
    "    \n",
    "    return name, \n",
    "    \n",
    "\n",
    "\n",
    "fig = px.line(daily_selected_data_groupped, x='Date', y='NORM_DL_VOL', color='COMUNE')\n",
    "fig.show()"
   ]
  },
  {
   "cell_type": "code",
   "execution_count": 94,
   "metadata": {},
   "outputs": [
    {
     "data": {
      "application/vnd.plotly.v1+json": {
       "config": {
        "plotlyServerURL": "https://plot.ly"
       },
       "data": [
        {
         "hovertemplate": "COMUNE=ROMA<br>Date=%{x}<br>NORM_USERNUM_AVG=%{y}<extra></extra>",
         "legendgroup": "ROMA",
         "line": {
          "color": "#636efa",
          "dash": "solid"
         },
         "mode": "lines",
         "name": "ROMA",
         "orientation": "v",
         "showlegend": true,
         "type": "scatter",
         "x": [
          "2020-01-01T00:00:00",
          "2020-01-02T00:00:00",
          "2020-01-03T00:00:00",
          "2020-01-04T00:00:00",
          "2020-01-05T00:00:00",
          "2020-01-06T00:00:00",
          "2020-01-07T00:00:00",
          "2020-01-08T00:00:00",
          "2020-01-09T00:00:00",
          "2020-01-10T00:00:00",
          "2020-01-11T00:00:00",
          "2020-01-12T00:00:00",
          "2020-01-13T00:00:00",
          "2020-01-14T00:00:00",
          "2020-01-15T00:00:00",
          "2020-01-16T00:00:00",
          "2020-01-17T00:00:00",
          "2020-01-18T00:00:00",
          "2020-01-19T00:00:00",
          "2020-01-20T00:00:00",
          "2020-01-21T00:00:00",
          "2020-01-22T00:00:00",
          "2020-01-23T00:00:00",
          "2020-01-24T00:00:00",
          "2020-01-25T00:00:00",
          "2020-01-26T00:00:00",
          "2020-01-27T00:00:00",
          "2020-01-28T00:00:00",
          "2020-01-29T00:00:00",
          "2020-01-30T00:00:00",
          "2020-02-01T00:00:00",
          "2020-02-02T00:00:00",
          "2020-02-03T00:00:00",
          "2020-02-04T00:00:00",
          "2020-02-05T00:00:00",
          "2020-02-06T00:00:00",
          "2020-02-07T00:00:00",
          "2020-02-08T00:00:00",
          "2020-02-09T00:00:00",
          "2020-02-10T00:00:00",
          "2020-02-11T00:00:00",
          "2020-02-12T00:00:00",
          "2020-02-13T00:00:00",
          "2020-02-14T00:00:00",
          "2020-02-15T00:00:00",
          "2020-02-16T00:00:00",
          "2020-02-17T00:00:00",
          "2020-02-18T00:00:00",
          "2020-02-19T00:00:00",
          "2020-02-20T00:00:00",
          "2020-02-21T00:00:00",
          "2020-02-22T00:00:00",
          "2020-02-23T00:00:00",
          "2020-02-24T00:00:00",
          "2020-02-25T00:00:00",
          "2020-02-26T00:00:00",
          "2020-02-27T00:00:00",
          "2020-02-28T00:00:00",
          "2020-02-29T00:00:00",
          "2020-03-01T00:00:00",
          "2020-03-02T00:00:00",
          "2020-03-03T00:00:00",
          "2020-03-04T00:00:00",
          "2020-03-05T00:00:00",
          "2020-03-06T00:00:00",
          "2020-03-07T00:00:00",
          "2020-03-08T00:00:00",
          "2020-03-09T00:00:00",
          "2020-03-10T00:00:00",
          "2020-03-11T00:00:00",
          "2020-03-12T00:00:00",
          "2020-03-13T00:00:00",
          "2020-03-14T00:00:00",
          "2020-03-15T00:00:00",
          "2020-03-16T00:00:00",
          "2020-03-17T00:00:00",
          "2020-03-18T00:00:00",
          "2020-03-19T00:00:00",
          "2020-03-20T00:00:00",
          "2020-03-21T00:00:00",
          "2020-03-22T00:00:00",
          "2020-03-23T00:00:00",
          "2020-03-24T00:00:00",
          "2020-03-25T00:00:00",
          "2020-03-26T00:00:00",
          "2020-03-27T00:00:00",
          "2020-03-28T00:00:00",
          "2020-03-29T00:00:00",
          "2020-03-30T00:00:00",
          "2020-04-01T00:00:00",
          "2020-04-02T00:00:00",
          "2020-04-03T00:00:00",
          "2020-04-04T00:00:00",
          "2020-04-05T00:00:00",
          "2020-04-06T00:00:00",
          "2020-04-07T00:00:00",
          "2020-04-08T00:00:00",
          "2020-04-09T00:00:00",
          "2020-04-10T00:00:00",
          "2020-04-11T00:00:00",
          "2020-04-12T00:00:00",
          "2020-04-13T00:00:00",
          "2020-04-14T00:00:00",
          "2020-04-15T00:00:00",
          "2020-04-16T00:00:00",
          "2020-04-17T00:00:00",
          "2020-04-18T00:00:00",
          "2020-04-19T00:00:00",
          "2020-04-20T00:00:00",
          "2020-04-21T00:00:00",
          "2020-04-22T00:00:00",
          "2020-04-23T00:00:00",
          "2020-04-24T00:00:00",
          "2020-04-25T00:00:00",
          "2020-04-26T00:00:00",
          "2020-04-27T00:00:00",
          "2020-04-28T00:00:00",
          "2020-04-29T00:00:00",
          "2020-04-30T00:00:00",
          "2020-05-01T00:00:00",
          "2020-05-02T00:00:00",
          "2020-05-03T00:00:00",
          "2020-05-04T00:00:00",
          "2020-05-05T00:00:00",
          "2020-05-06T00:00:00",
          "2020-05-07T00:00:00",
          "2020-05-08T00:00:00",
          "2020-05-09T00:00:00",
          "2020-05-10T00:00:00",
          "2020-05-11T00:00:00",
          "2020-05-12T00:00:00",
          "2020-05-13T00:00:00",
          "2020-05-14T00:00:00",
          "2020-05-15T00:00:00",
          "2020-05-16T00:00:00",
          "2020-05-17T00:00:00",
          "2020-05-18T00:00:00",
          "2020-05-19T00:00:00",
          "2020-05-20T00:00:00",
          "2020-05-21T00:00:00",
          "2020-05-22T00:00:00",
          "2020-05-23T00:00:00",
          "2020-05-24T00:00:00",
          "2020-05-25T00:00:00",
          "2020-05-26T00:00:00",
          "2020-05-27T00:00:00",
          "2020-05-28T00:00:00",
          "2020-05-29T00:00:00",
          "2020-05-30T00:00:00",
          "2020-06-01T00:00:00",
          "2020-06-02T00:00:00",
          "2020-06-03T00:00:00",
          "2020-06-04T00:00:00",
          "2020-06-05T00:00:00",
          "2020-06-06T00:00:00",
          "2020-06-07T00:00:00",
          "2020-06-08T00:00:00",
          "2020-06-09T00:00:00",
          "2020-06-10T00:00:00",
          "2020-06-11T00:00:00",
          "2020-06-12T00:00:00",
          "2020-06-13T00:00:00",
          "2020-06-14T00:00:00",
          "2020-06-15T00:00:00",
          "2020-06-16T00:00:00",
          "2020-06-17T00:00:00",
          "2020-06-18T00:00:00",
          "2020-06-19T00:00:00",
          "2020-06-20T00:00:00",
          "2020-06-21T00:00:00",
          "2020-06-22T00:00:00",
          "2020-06-23T00:00:00",
          "2020-06-24T00:00:00",
          "2020-06-25T00:00:00",
          "2020-06-26T00:00:00",
          "2020-06-27T00:00:00",
          "2020-06-28T00:00:00",
          "2020-06-29T00:00:00",
          "2020-07-01T00:00:00",
          "2020-07-02T00:00:00",
          "2020-07-03T00:00:00",
          "2020-07-04T00:00:00",
          "2020-07-05T00:00:00",
          "2020-07-06T00:00:00",
          "2020-07-07T00:00:00",
          "2020-07-08T00:00:00",
          "2020-07-09T00:00:00",
          "2020-07-10T00:00:00",
          "2020-07-11T00:00:00",
          "2020-07-12T00:00:00",
          "2020-07-13T00:00:00",
          "2020-07-14T00:00:00",
          "2020-07-15T00:00:00",
          "2020-07-16T00:00:00",
          "2020-07-17T00:00:00",
          "2020-07-18T00:00:00",
          "2020-07-19T00:00:00",
          "2020-07-20T00:00:00",
          "2020-07-21T00:00:00",
          "2020-07-22T00:00:00",
          "2020-07-23T00:00:00",
          "2020-07-24T00:00:00",
          "2020-07-25T00:00:00",
          "2020-07-26T00:00:00",
          "2020-07-27T00:00:00",
          "2020-07-28T00:00:00",
          "2020-07-29T00:00:00",
          "2020-07-30T00:00:00"
         ],
         "xaxis": "x",
         "y": [
          -0.8144246157965926,
          -0.6511037698982276,
          -0.5473256189671852,
          -0.8425529254968823,
          -1.0121010589490849,
          -0.8595680410873006,
          -0.12234617572176058,
          -0.05340261660850263,
          -0.03612421379825682,
          -0.11502645814023317,
          -0.5290789402821979,
          -0.6776609465577292,
          -0.0419041103307637,
          0.01689055407350282,
          -0.061545469415724086,
          -0.015079179761466326,
          -0.21825906571162149,
          -0.500077650271728,
          -0.7169932869453916,
          -0.14533746774821185,
          0.022525035382655958,
          0.10469701148818257,
          0.23775149251938346,
          0.14686753134787767,
          -0.06192435169588352,
          -0.2531789318182972,
          0.25838830700853727,
          0.31464772282140296,
          0.2636309180116647,
          0.3247389293433157,
          -0.01262126001849687,
          -0.26160179784673643,
          0.287887442657765,
          0.3164885912847487,
          0.2568392239658574,
          0.3429603213752516,
          0.28933222949142456,
          -0.035017544925481245,
          -0.22951416268311323,
          0.3017676822253434,
          0.3221739940884327,
          0.2835656065143428,
          0.3035409556164921,
          0.24837756976675876,
          0.026789460376297494,
          -0.1182062592131984,
          0.2989039318632444,
          0.43494233734277227,
          0.4089667642269094,
          0.23386074613448976,
          0.32779932565490344,
          0.21073223750847572,
          0.09159222060558625,
          0.4187688324874975,
          0.4038322870919804,
          0.4956115032447819,
          0.4517874096288512,
          0.43989133671280406,
          0.19624088271097365,
          0.017257423767626984,
          0.44323670087031447,
          0.41535395194981733,
          0.4974020408248299,
          0.6213011227198202,
          0.6054476293852923,
          0.3172861018371849,
          0.16356615844641822,
          0.9792531513331909,
          1.0301331130229583,
          0.9203010682089225,
          0.8261006763697757,
          0.5627284174314608,
          -0.09712041468493555,
          -0.12989175847472703,
          0.7042332623096667,
          0.5759517837083311,
          0.7954801015365226,
          0.8888085214926983,
          0.833955562718757,
          0.2139404535388736,
          0.012449199741012162,
          0.8383679024238936,
          0.7292578569570087,
          0.683168960003072,
          0.42787337665931224,
          0.5356076780518668,
          0.11563535831953159,
          -0.34686901610673493,
          0.8445735610370986,
          0.7655940065729738,
          0.5886688499904846,
          0.4915930985529269,
          -0.048391060800840116,
          -0.22800509190318832,
          0.6567367491169245,
          0.5056886747738807,
          0.39477930361764074,
          0.42543663046191893,
          0.4999310165122797,
          0.06789011512848842,
          -0.02290476832409439,
          -0.5065853509647009,
          0.3720883947681019,
          0.5247637893622397,
          0.5455251566078111,
          0.4941190780568453,
          -0.15525888057040035,
          -0.4201515545980345,
          0.35511621107928193,
          0.4059527740017506,
          0.40700776289761353,
          0.5310008407217663,
          0.5564778840744294,
          -0.33272449672957666,
          -0.2382800389721665,
          0.6557507417039944,
          0.6185852798920776,
          0.3982517339410291,
          0.4817790061396111,
          -0.34406601271900167,
          -0.08680798682816233,
          -0.23316804613628098,
          0.6908333321638072,
          0.6711060788068953,
          0.7404101674680295,
          0.6508945686265462,
          0.6412691853648211,
          0.06595955860823068,
          -0.13352506781437784,
          0.778283782182683,
          0.7500603296588169,
          0.6025868748596351,
          0.6316233055900543,
          0.6057099483920799,
          0.07614550489090179,
          -0.13554529438901441,
          0.7323394755134998,
          0.5883985610697982,
          0.6770256762195775,
          0.574092676058177,
          0.4890006682974472,
          -0.06603864406127853,
          -0.30117513483367575,
          0.6206358834472115,
          0.6113878360006948,
          0.6414771147600976,
          0.7101058635421513,
          0.5846860124410082,
          0.008530768836148579,
          0.37011497162471024,
          -0.26428442554748816,
          0.45957666803781866,
          0.3708329707286126,
          0.40398357801882906,
          -0.2429646240666871,
          -0.5616352867036005,
          0.3633592727098659,
          0.37833155995192813,
          0.368577475803678,
          0.25949140577176116,
          0.26131791784754,
          -0.27932778078209114,
          -0.6369020189033301,
          0.3422038313656732,
          0.3499187861895915,
          0.22557574634736677,
          0.2994188495455226,
          0.254264311536198,
          -0.3851736721106537,
          -0.7217387470637368,
          0.24084599984649394,
          0.24862145653902226,
          0.26100463193738704,
          0.292707273801292,
          0.16552005325462796,
          -0.6653668274191072,
          -1.2193038567820282,
          -0.8889709361300395,
          0.20582054165223812,
          0.31498251159098556,
          0.07842359363548738,
          -0.6832958524203353,
          -1.051030862341076,
          -0.044767656875020156,
          -0.022653672433586552,
          -0.03130837182691951,
          0.07845175805215532,
          -0.05302085264724539,
          -0.9230874588662786,
          -1.239306843829125,
          -0.13574578972064075,
          -0.03680948301836086,
          -0.06182665991475079,
          -0.08721690793528858,
          -0.201427252695667,
          -1.017660576633116,
          -1.3832000773470516,
          -0.21741868965308156,
          -0.18837854927461542,
          -0.3955702584759917,
          -0.0922394028478659,
          -0.2557438255165034,
          -1.045512132427323,
          -1.422705735059939,
          -0.20991854152384803,
          -0.16549022887427603,
          -0.16649685055136343,
          -0.20335966221059543
         ],
         "yaxis": "y"
        },
        {
         "hovertemplate": "COMUNE=MILANO<br>Date=%{x}<br>NORM_USERNUM_AVG=%{y}<extra></extra>",
         "legendgroup": "MILANO",
         "line": {
          "color": "#EF553B",
          "dash": "solid"
         },
         "mode": "lines",
         "name": "MILANO",
         "orientation": "v",
         "showlegend": true,
         "type": "scatter",
         "x": [
          "2020-02-01T00:00:00",
          "2020-02-02T00:00:00",
          "2020-02-03T00:00:00",
          "2020-02-04T00:00:00",
          "2020-02-05T00:00:00",
          "2020-02-06T00:00:00",
          "2020-02-07T00:00:00",
          "2020-02-08T00:00:00",
          "2020-02-09T00:00:00",
          "2020-02-10T00:00:00",
          "2020-02-11T00:00:00",
          "2020-02-12T00:00:00",
          "2020-02-13T00:00:00",
          "2020-02-14T00:00:00",
          "2020-02-15T00:00:00",
          "2020-02-16T00:00:00",
          "2020-02-17T00:00:00",
          "2020-02-18T00:00:00",
          "2020-02-19T00:00:00",
          "2020-02-20T00:00:00",
          "2020-02-21T00:00:00",
          "2020-02-22T00:00:00",
          "2020-02-23T00:00:00",
          "2020-02-24T00:00:00",
          "2020-02-25T00:00:00",
          "2020-02-26T00:00:00",
          "2020-02-27T00:00:00",
          "2020-02-28T00:00:00",
          "2020-02-29T00:00:00",
          "2020-03-01T00:00:00",
          "2020-03-02T00:00:00",
          "2020-03-03T00:00:00",
          "2020-03-04T00:00:00",
          "2020-03-05T00:00:00",
          "2020-03-06T00:00:00",
          "2020-03-07T00:00:00",
          "2020-03-08T00:00:00",
          "2020-03-09T00:00:00",
          "2020-03-10T00:00:00",
          "2020-03-11T00:00:00",
          "2020-03-12T00:00:00",
          "2020-03-13T00:00:00",
          "2020-03-14T00:00:00",
          "2020-03-15T00:00:00",
          "2020-03-16T00:00:00",
          "2020-03-17T00:00:00",
          "2020-03-18T00:00:00",
          "2020-03-19T00:00:00",
          "2020-03-20T00:00:00",
          "2020-03-21T00:00:00",
          "2020-03-22T00:00:00",
          "2020-03-23T00:00:00",
          "2020-03-24T00:00:00",
          "2020-03-25T00:00:00",
          "2020-03-26T00:00:00",
          "2020-03-27T00:00:00",
          "2020-03-28T00:00:00",
          "2020-03-29T00:00:00",
          "2020-03-30T00:00:00",
          "2020-04-01T00:00:00",
          "2020-04-02T00:00:00",
          "2020-04-03T00:00:00",
          "2020-04-04T00:00:00",
          "2020-04-05T00:00:00",
          "2020-04-06T00:00:00",
          "2020-04-07T00:00:00",
          "2020-04-08T00:00:00",
          "2020-04-09T00:00:00",
          "2020-04-10T00:00:00",
          "2020-04-11T00:00:00",
          "2020-04-12T00:00:00",
          "2020-04-13T00:00:00",
          "2020-04-14T00:00:00",
          "2020-04-15T00:00:00",
          "2020-04-16T00:00:00",
          "2020-04-17T00:00:00",
          "2020-04-18T00:00:00",
          "2020-04-19T00:00:00",
          "2020-04-20T00:00:00",
          "2020-04-21T00:00:00",
          "2020-04-22T00:00:00",
          "2020-04-23T00:00:00",
          "2020-04-24T00:00:00",
          "2020-04-25T00:00:00",
          "2020-04-26T00:00:00",
          "2020-04-27T00:00:00",
          "2020-04-28T00:00:00",
          "2020-04-29T00:00:00",
          "2020-04-30T00:00:00",
          "2020-05-02T00:00:00",
          "2020-05-03T00:00:00",
          "2020-05-04T00:00:00",
          "2020-05-05T00:00:00",
          "2020-05-06T00:00:00",
          "2020-05-07T00:00:00",
          "2020-05-08T00:00:00",
          "2020-05-09T00:00:00",
          "2020-05-10T00:00:00",
          "2020-05-11T00:00:00",
          "2020-05-12T00:00:00",
          "2020-05-13T00:00:00",
          "2020-05-14T00:00:00",
          "2020-05-15T00:00:00",
          "2020-05-16T00:00:00",
          "2020-05-17T00:00:00",
          "2020-05-18T00:00:00",
          "2020-05-19T00:00:00",
          "2020-05-20T00:00:00",
          "2020-05-21T00:00:00",
          "2020-05-22T00:00:00",
          "2020-05-23T00:00:00",
          "2020-05-24T00:00:00",
          "2020-05-25T00:00:00",
          "2020-05-26T00:00:00",
          "2020-05-27T00:00:00",
          "2020-05-28T00:00:00",
          "2020-05-29T00:00:00",
          "2020-05-30T00:00:00",
          "2020-06-01T00:00:00",
          "2020-06-02T00:00:00",
          "2020-06-03T00:00:00",
          "2020-06-04T00:00:00",
          "2020-06-05T00:00:00",
          "2020-06-06T00:00:00",
          "2020-06-07T00:00:00",
          "2020-06-08T00:00:00",
          "2020-06-09T00:00:00",
          "2020-06-10T00:00:00",
          "2020-06-11T00:00:00",
          "2020-06-12T00:00:00",
          "2020-06-13T00:00:00",
          "2020-06-14T00:00:00",
          "2020-06-15T00:00:00",
          "2020-06-16T00:00:00",
          "2020-06-17T00:00:00",
          "2020-06-18T00:00:00",
          "2020-06-19T00:00:00",
          "2020-06-20T00:00:00",
          "2020-06-21T00:00:00",
          "2020-06-22T00:00:00",
          "2020-06-23T00:00:00",
          "2020-06-24T00:00:00",
          "2020-06-25T00:00:00",
          "2020-06-26T00:00:00",
          "2020-06-27T00:00:00",
          "2020-06-28T00:00:00",
          "2020-06-29T00:00:00",
          "2020-07-01T00:00:00",
          "2020-07-02T00:00:00",
          "2020-07-03T00:00:00",
          "2020-07-04T00:00:00",
          "2020-07-05T00:00:00",
          "2020-07-06T00:00:00",
          "2020-07-07T00:00:00",
          "2020-07-08T00:00:00",
          "2020-07-09T00:00:00",
          "2020-07-10T00:00:00",
          "2020-07-11T00:00:00",
          "2020-07-12T00:00:00",
          "2020-07-13T00:00:00",
          "2020-07-14T00:00:00",
          "2020-07-15T00:00:00",
          "2020-07-16T00:00:00",
          "2020-07-17T00:00:00",
          "2020-07-18T00:00:00",
          "2020-07-19T00:00:00",
          "2020-07-20T00:00:00",
          "2020-07-21T00:00:00",
          "2020-07-22T00:00:00",
          "2020-07-23T00:00:00",
          "2020-07-24T00:00:00",
          "2020-07-25T00:00:00",
          "2020-07-26T00:00:00",
          "2020-07-27T00:00:00",
          "2020-07-28T00:00:00",
          "2020-07-29T00:00:00",
          "2020-07-30T00:00:00"
         ],
         "xaxis": "x",
         "y": [
          0.634371151802488,
          0.41547790469312745,
          0.9388586920014808,
          0.9507811139658104,
          0.9767187771774108,
          0.7461742376605655,
          0.9451861540822459,
          0.6079173952868523,
          0.44961008594558266,
          0.9057568255632678,
          0.9557540601594645,
          0.9436686110092464,
          0.9604325085346879,
          0.9396515705715587,
          0.6432414328164936,
          0.4439352258325455,
          0.9572025910262673,
          0.9653148391014196,
          0.9441593131546053,
          0.92110319948541,
          0.936647989887741,
          0.697638712310074,
          0.6250594368867446,
          1.1174073448548694,
          1.097597497628945,
          1.012203123535229,
          0.9749691002937281,
          0.8965483247525043,
          0.30836416984581083,
          0.16022187974725097,
          1.0000002838705548,
          1.061769293966582,
          1.1085590883737395,
          1.0782672157113489,
          0.9951129763875206,
          0.4898489982524691,
          0.434997772767484,
          0.7988944587214282,
          1.0114769379430222,
          0.9550978852040342,
          0.7588425769420748,
          0.695605628419312,
          0.23743924687104476,
          0.21409326215218483,
          0.7501354743536284,
          0.7414253050349653,
          0.8190097445968681,
          0.7899737918587527,
          0.7539444790627332,
          0.3801220446568478,
          0.2508882420817134,
          0.720953709151988,
          0.6862442980738648,
          0.6444230610216454,
          0.6130185594582652,
          0.649408387732104,
          0.3348882337874773,
          0.12071391959205928,
          0.6636750186828363,
          0.5491434991806399,
          0.5803486105622767,
          0.46388596937039406,
          0.15396552378277098,
          0.05647107695792769,
          0.5026775397378017,
          0.5188138152186018,
          0.4932414336823151,
          0.46751691067169965,
          0.45350650100841716,
          0.18336429357450448,
          0.14722348202699398,
          -0.0135912088937395,
          0.49303662109167584,
          0.5145234642365155,
          0.5420795930752695,
          0.49483455914307245,
          0.15452951132717474,
          0.041533209954052935,
          0.4902040408133924,
          0.5095313636200626,
          0.5495226664082887,
          0.6080380510444109,
          0.5822190716276073,
          0.17095287806511877,
          0.1261815664515778,
          0.585083395061105,
          0.5851151263829817,
          0.546392820156568,
          0.5125204710499673,
          0.19297335207068758,
          0.13966172236544966,
          0.662875394613386,
          0.6321419241638805,
          0.618832146082274,
          0.6308446228434065,
          0.5944450745589861,
          0.24691928216166117,
          0.18396478102092226,
          0.5587520542318748,
          0.5750014761410847,
          0.5143234776885801,
          0.5229962457493742,
          0.4255245230060982,
          0.1620083086727839,
          0.09272614692625625,
          0.5068317979376387,
          0.4819961987722708,
          0.4902881665248312,
          0.5349748625918833,
          0.5041424695192831,
          0.1814594736311367,
          0.134507129951154,
          0.5601949459002189,
          0.5380880180657353,
          0.5494653491796357,
          0.5264543722583502,
          0.4378671207961913,
          0.16847141542368002,
          0.3125718260974658,
          0.0013996660491221741,
          0.39066280516450547,
          0.43999261735283524,
          0.3297634357136361,
          0.08522188316837173,
          -0.06321296445133477,
          0.35510644917325757,
          0.36852751960081553,
          0.3388009982597036,
          0.3072326348511147,
          0.24823484947136665,
          -0.018514095066454565,
          -0.06928880399394606,
          0.3227739885397185,
          0.30390932743785154,
          0.251124139761937,
          0.25812414948516293,
          0.17220423406572072,
          -0.045978055076334526,
          -0.1557488134936287,
          0.2929329143689039,
          0.2830210418749762,
          0.21151317244035944,
          0.2665910421122794,
          0.21076883618411987,
          -0.08339780594515316,
          -0.2112633385448007,
          0.25784068243344427,
          0.2505095417744986,
          0.106307030349983,
          0.1687770137498309,
          -0.15544455907346125,
          -0.25577176356888853,
          0.1933336102777414,
          0.167431606649031,
          0.22192389036124288,
          0.2116310863479933,
          0.14159564910311032,
          -0.19610552858207242,
          -0.2681739977644164,
          0.20728949746693803,
          0.19045556371700464,
          0.1983718151307904,
          0.16024238091640683,
          0.12078528649674336,
          -0.21473185267873066,
          -0.33818652469604477,
          0.13212834986214073,
          0.1334167070845949,
          0.103961368050338,
          0.09032109114907838,
          0.04127871200914671,
          -0.26655127545247137,
          -0.38810045056943365,
          0.07345171260294642,
          0.06578236413528156,
          0.05898356990608811,
          0.02876793483968029
         ],
         "yaxis": "y"
        }
       ],
       "layout": {
        "legend": {
         "title": {
          "text": "COMUNE"
         },
         "tracegroupgap": 0
        },
        "margin": {
         "t": 60
        },
        "template": {
         "data": {
          "bar": [
           {
            "error_x": {
             "color": "#2a3f5f"
            },
            "error_y": {
             "color": "#2a3f5f"
            },
            "marker": {
             "line": {
              "color": "#E5ECF6",
              "width": 0.5
             }
            },
            "type": "bar"
           }
          ],
          "barpolar": [
           {
            "marker": {
             "line": {
              "color": "#E5ECF6",
              "width": 0.5
             }
            },
            "type": "barpolar"
           }
          ],
          "carpet": [
           {
            "aaxis": {
             "endlinecolor": "#2a3f5f",
             "gridcolor": "white",
             "linecolor": "white",
             "minorgridcolor": "white",
             "startlinecolor": "#2a3f5f"
            },
            "baxis": {
             "endlinecolor": "#2a3f5f",
             "gridcolor": "white",
             "linecolor": "white",
             "minorgridcolor": "white",
             "startlinecolor": "#2a3f5f"
            },
            "type": "carpet"
           }
          ],
          "choropleth": [
           {
            "colorbar": {
             "outlinewidth": 0,
             "ticks": ""
            },
            "type": "choropleth"
           }
          ],
          "contour": [
           {
            "colorbar": {
             "outlinewidth": 0,
             "ticks": ""
            },
            "colorscale": [
             [
              0,
              "#0d0887"
             ],
             [
              0.1111111111111111,
              "#46039f"
             ],
             [
              0.2222222222222222,
              "#7201a8"
             ],
             [
              0.3333333333333333,
              "#9c179e"
             ],
             [
              0.4444444444444444,
              "#bd3786"
             ],
             [
              0.5555555555555556,
              "#d8576b"
             ],
             [
              0.6666666666666666,
              "#ed7953"
             ],
             [
              0.7777777777777778,
              "#fb9f3a"
             ],
             [
              0.8888888888888888,
              "#fdca26"
             ],
             [
              1,
              "#f0f921"
             ]
            ],
            "type": "contour"
           }
          ],
          "contourcarpet": [
           {
            "colorbar": {
             "outlinewidth": 0,
             "ticks": ""
            },
            "type": "contourcarpet"
           }
          ],
          "heatmap": [
           {
            "colorbar": {
             "outlinewidth": 0,
             "ticks": ""
            },
            "colorscale": [
             [
              0,
              "#0d0887"
             ],
             [
              0.1111111111111111,
              "#46039f"
             ],
             [
              0.2222222222222222,
              "#7201a8"
             ],
             [
              0.3333333333333333,
              "#9c179e"
             ],
             [
              0.4444444444444444,
              "#bd3786"
             ],
             [
              0.5555555555555556,
              "#d8576b"
             ],
             [
              0.6666666666666666,
              "#ed7953"
             ],
             [
              0.7777777777777778,
              "#fb9f3a"
             ],
             [
              0.8888888888888888,
              "#fdca26"
             ],
             [
              1,
              "#f0f921"
             ]
            ],
            "type": "heatmap"
           }
          ],
          "heatmapgl": [
           {
            "colorbar": {
             "outlinewidth": 0,
             "ticks": ""
            },
            "colorscale": [
             [
              0,
              "#0d0887"
             ],
             [
              0.1111111111111111,
              "#46039f"
             ],
             [
              0.2222222222222222,
              "#7201a8"
             ],
             [
              0.3333333333333333,
              "#9c179e"
             ],
             [
              0.4444444444444444,
              "#bd3786"
             ],
             [
              0.5555555555555556,
              "#d8576b"
             ],
             [
              0.6666666666666666,
              "#ed7953"
             ],
             [
              0.7777777777777778,
              "#fb9f3a"
             ],
             [
              0.8888888888888888,
              "#fdca26"
             ],
             [
              1,
              "#f0f921"
             ]
            ],
            "type": "heatmapgl"
           }
          ],
          "histogram": [
           {
            "marker": {
             "colorbar": {
              "outlinewidth": 0,
              "ticks": ""
             }
            },
            "type": "histogram"
           }
          ],
          "histogram2d": [
           {
            "colorbar": {
             "outlinewidth": 0,
             "ticks": ""
            },
            "colorscale": [
             [
              0,
              "#0d0887"
             ],
             [
              0.1111111111111111,
              "#46039f"
             ],
             [
              0.2222222222222222,
              "#7201a8"
             ],
             [
              0.3333333333333333,
              "#9c179e"
             ],
             [
              0.4444444444444444,
              "#bd3786"
             ],
             [
              0.5555555555555556,
              "#d8576b"
             ],
             [
              0.6666666666666666,
              "#ed7953"
             ],
             [
              0.7777777777777778,
              "#fb9f3a"
             ],
             [
              0.8888888888888888,
              "#fdca26"
             ],
             [
              1,
              "#f0f921"
             ]
            ],
            "type": "histogram2d"
           }
          ],
          "histogram2dcontour": [
           {
            "colorbar": {
             "outlinewidth": 0,
             "ticks": ""
            },
            "colorscale": [
             [
              0,
              "#0d0887"
             ],
             [
              0.1111111111111111,
              "#46039f"
             ],
             [
              0.2222222222222222,
              "#7201a8"
             ],
             [
              0.3333333333333333,
              "#9c179e"
             ],
             [
              0.4444444444444444,
              "#bd3786"
             ],
             [
              0.5555555555555556,
              "#d8576b"
             ],
             [
              0.6666666666666666,
              "#ed7953"
             ],
             [
              0.7777777777777778,
              "#fb9f3a"
             ],
             [
              0.8888888888888888,
              "#fdca26"
             ],
             [
              1,
              "#f0f921"
             ]
            ],
            "type": "histogram2dcontour"
           }
          ],
          "mesh3d": [
           {
            "colorbar": {
             "outlinewidth": 0,
             "ticks": ""
            },
            "type": "mesh3d"
           }
          ],
          "parcoords": [
           {
            "line": {
             "colorbar": {
              "outlinewidth": 0,
              "ticks": ""
             }
            },
            "type": "parcoords"
           }
          ],
          "pie": [
           {
            "automargin": true,
            "type": "pie"
           }
          ],
          "scatter": [
           {
            "marker": {
             "colorbar": {
              "outlinewidth": 0,
              "ticks": ""
             }
            },
            "type": "scatter"
           }
          ],
          "scatter3d": [
           {
            "line": {
             "colorbar": {
              "outlinewidth": 0,
              "ticks": ""
             }
            },
            "marker": {
             "colorbar": {
              "outlinewidth": 0,
              "ticks": ""
             }
            },
            "type": "scatter3d"
           }
          ],
          "scattercarpet": [
           {
            "marker": {
             "colorbar": {
              "outlinewidth": 0,
              "ticks": ""
             }
            },
            "type": "scattercarpet"
           }
          ],
          "scattergeo": [
           {
            "marker": {
             "colorbar": {
              "outlinewidth": 0,
              "ticks": ""
             }
            },
            "type": "scattergeo"
           }
          ],
          "scattergl": [
           {
            "marker": {
             "colorbar": {
              "outlinewidth": 0,
              "ticks": ""
             }
            },
            "type": "scattergl"
           }
          ],
          "scattermapbox": [
           {
            "marker": {
             "colorbar": {
              "outlinewidth": 0,
              "ticks": ""
             }
            },
            "type": "scattermapbox"
           }
          ],
          "scatterpolar": [
           {
            "marker": {
             "colorbar": {
              "outlinewidth": 0,
              "ticks": ""
             }
            },
            "type": "scatterpolar"
           }
          ],
          "scatterpolargl": [
           {
            "marker": {
             "colorbar": {
              "outlinewidth": 0,
              "ticks": ""
             }
            },
            "type": "scatterpolargl"
           }
          ],
          "scatterternary": [
           {
            "marker": {
             "colorbar": {
              "outlinewidth": 0,
              "ticks": ""
             }
            },
            "type": "scatterternary"
           }
          ],
          "surface": [
           {
            "colorbar": {
             "outlinewidth": 0,
             "ticks": ""
            },
            "colorscale": [
             [
              0,
              "#0d0887"
             ],
             [
              0.1111111111111111,
              "#46039f"
             ],
             [
              0.2222222222222222,
              "#7201a8"
             ],
             [
              0.3333333333333333,
              "#9c179e"
             ],
             [
              0.4444444444444444,
              "#bd3786"
             ],
             [
              0.5555555555555556,
              "#d8576b"
             ],
             [
              0.6666666666666666,
              "#ed7953"
             ],
             [
              0.7777777777777778,
              "#fb9f3a"
             ],
             [
              0.8888888888888888,
              "#fdca26"
             ],
             [
              1,
              "#f0f921"
             ]
            ],
            "type": "surface"
           }
          ],
          "table": [
           {
            "cells": {
             "fill": {
              "color": "#EBF0F8"
             },
             "line": {
              "color": "white"
             }
            },
            "header": {
             "fill": {
              "color": "#C8D4E3"
             },
             "line": {
              "color": "white"
             }
            },
            "type": "table"
           }
          ]
         },
         "layout": {
          "annotationdefaults": {
           "arrowcolor": "#2a3f5f",
           "arrowhead": 0,
           "arrowwidth": 1
          },
          "autotypenumbers": "strict",
          "coloraxis": {
           "colorbar": {
            "outlinewidth": 0,
            "ticks": ""
           }
          },
          "colorscale": {
           "diverging": [
            [
             0,
             "#8e0152"
            ],
            [
             0.1,
             "#c51b7d"
            ],
            [
             0.2,
             "#de77ae"
            ],
            [
             0.3,
             "#f1b6da"
            ],
            [
             0.4,
             "#fde0ef"
            ],
            [
             0.5,
             "#f7f7f7"
            ],
            [
             0.6,
             "#e6f5d0"
            ],
            [
             0.7,
             "#b8e186"
            ],
            [
             0.8,
             "#7fbc41"
            ],
            [
             0.9,
             "#4d9221"
            ],
            [
             1,
             "#276419"
            ]
           ],
           "sequential": [
            [
             0,
             "#0d0887"
            ],
            [
             0.1111111111111111,
             "#46039f"
            ],
            [
             0.2222222222222222,
             "#7201a8"
            ],
            [
             0.3333333333333333,
             "#9c179e"
            ],
            [
             0.4444444444444444,
             "#bd3786"
            ],
            [
             0.5555555555555556,
             "#d8576b"
            ],
            [
             0.6666666666666666,
             "#ed7953"
            ],
            [
             0.7777777777777778,
             "#fb9f3a"
            ],
            [
             0.8888888888888888,
             "#fdca26"
            ],
            [
             1,
             "#f0f921"
            ]
           ],
           "sequentialminus": [
            [
             0,
             "#0d0887"
            ],
            [
             0.1111111111111111,
             "#46039f"
            ],
            [
             0.2222222222222222,
             "#7201a8"
            ],
            [
             0.3333333333333333,
             "#9c179e"
            ],
            [
             0.4444444444444444,
             "#bd3786"
            ],
            [
             0.5555555555555556,
             "#d8576b"
            ],
            [
             0.6666666666666666,
             "#ed7953"
            ],
            [
             0.7777777777777778,
             "#fb9f3a"
            ],
            [
             0.8888888888888888,
             "#fdca26"
            ],
            [
             1,
             "#f0f921"
            ]
           ]
          },
          "colorway": [
           "#636efa",
           "#EF553B",
           "#00cc96",
           "#ab63fa",
           "#FFA15A",
           "#19d3f3",
           "#FF6692",
           "#B6E880",
           "#FF97FF",
           "#FECB52"
          ],
          "font": {
           "color": "#2a3f5f"
          },
          "geo": {
           "bgcolor": "white",
           "lakecolor": "white",
           "landcolor": "#E5ECF6",
           "showlakes": true,
           "showland": true,
           "subunitcolor": "white"
          },
          "hoverlabel": {
           "align": "left"
          },
          "hovermode": "closest",
          "mapbox": {
           "style": "light"
          },
          "paper_bgcolor": "white",
          "plot_bgcolor": "#E5ECF6",
          "polar": {
           "angularaxis": {
            "gridcolor": "white",
            "linecolor": "white",
            "ticks": ""
           },
           "bgcolor": "#E5ECF6",
           "radialaxis": {
            "gridcolor": "white",
            "linecolor": "white",
            "ticks": ""
           }
          },
          "scene": {
           "xaxis": {
            "backgroundcolor": "#E5ECF6",
            "gridcolor": "white",
            "gridwidth": 2,
            "linecolor": "white",
            "showbackground": true,
            "ticks": "",
            "zerolinecolor": "white"
           },
           "yaxis": {
            "backgroundcolor": "#E5ECF6",
            "gridcolor": "white",
            "gridwidth": 2,
            "linecolor": "white",
            "showbackground": true,
            "ticks": "",
            "zerolinecolor": "white"
           },
           "zaxis": {
            "backgroundcolor": "#E5ECF6",
            "gridcolor": "white",
            "gridwidth": 2,
            "linecolor": "white",
            "showbackground": true,
            "ticks": "",
            "zerolinecolor": "white"
           }
          },
          "shapedefaults": {
           "line": {
            "color": "#2a3f5f"
           }
          },
          "ternary": {
           "aaxis": {
            "gridcolor": "white",
            "linecolor": "white",
            "ticks": ""
           },
           "baxis": {
            "gridcolor": "white",
            "linecolor": "white",
            "ticks": ""
           },
           "bgcolor": "#E5ECF6",
           "caxis": {
            "gridcolor": "white",
            "linecolor": "white",
            "ticks": ""
           }
          },
          "title": {
           "x": 0.05
          },
          "xaxis": {
           "automargin": true,
           "gridcolor": "white",
           "linecolor": "white",
           "ticks": "",
           "title": {
            "standoff": 15
           },
           "zerolinecolor": "white",
           "zerolinewidth": 2
          },
          "yaxis": {
           "automargin": true,
           "gridcolor": "white",
           "linecolor": "white",
           "ticks": "",
           "title": {
            "standoff": 15
           },
           "zerolinecolor": "white",
           "zerolinewidth": 2
          }
         }
        },
        "xaxis": {
         "anchor": "y",
         "domain": [
          0,
          1
         ],
         "title": {
          "text": "Date"
         }
        },
        "yaxis": {
         "anchor": "x",
         "domain": [
          0,
          1
         ],
         "title": {
          "text": "NORM_USERNUM_AVG"
         }
        }
       }
      },
      "text/html": [
       "<div>                            <div id=\"559c8c33-bc22-4bad-ad80-a3e380289265\" class=\"plotly-graph-div\" style=\"height:525px; width:100%;\"></div>            <script type=\"text/javascript\">                require([\"plotly\"], function(Plotly) {                    window.PLOTLYENV=window.PLOTLYENV || {};                                    if (document.getElementById(\"559c8c33-bc22-4bad-ad80-a3e380289265\")) {                    Plotly.newPlot(                        \"559c8c33-bc22-4bad-ad80-a3e380289265\",                        [{\"hovertemplate\": \"COMUNE=ROMA<br>Date=%{x}<br>NORM_USERNUM_AVG=%{y}<extra></extra>\", \"legendgroup\": \"ROMA\", \"line\": {\"color\": \"#636efa\", \"dash\": \"solid\"}, \"mode\": \"lines\", \"name\": \"ROMA\", \"orientation\": \"v\", \"showlegend\": true, \"type\": \"scatter\", \"x\": [\"2020-01-01T00:00:00\", \"2020-01-02T00:00:00\", \"2020-01-03T00:00:00\", \"2020-01-04T00:00:00\", \"2020-01-05T00:00:00\", \"2020-01-06T00:00:00\", \"2020-01-07T00:00:00\", \"2020-01-08T00:00:00\", \"2020-01-09T00:00:00\", \"2020-01-10T00:00:00\", \"2020-01-11T00:00:00\", \"2020-01-12T00:00:00\", \"2020-01-13T00:00:00\", \"2020-01-14T00:00:00\", \"2020-01-15T00:00:00\", \"2020-01-16T00:00:00\", \"2020-01-17T00:00:00\", \"2020-01-18T00:00:00\", \"2020-01-19T00:00:00\", \"2020-01-20T00:00:00\", \"2020-01-21T00:00:00\", \"2020-01-22T00:00:00\", \"2020-01-23T00:00:00\", \"2020-01-24T00:00:00\", \"2020-01-25T00:00:00\", \"2020-01-26T00:00:00\", \"2020-01-27T00:00:00\", \"2020-01-28T00:00:00\", \"2020-01-29T00:00:00\", \"2020-01-30T00:00:00\", \"2020-02-01T00:00:00\", \"2020-02-02T00:00:00\", \"2020-02-03T00:00:00\", \"2020-02-04T00:00:00\", \"2020-02-05T00:00:00\", \"2020-02-06T00:00:00\", \"2020-02-07T00:00:00\", \"2020-02-08T00:00:00\", \"2020-02-09T00:00:00\", \"2020-02-10T00:00:00\", \"2020-02-11T00:00:00\", \"2020-02-12T00:00:00\", \"2020-02-13T00:00:00\", \"2020-02-14T00:00:00\", \"2020-02-15T00:00:00\", \"2020-02-16T00:00:00\", \"2020-02-17T00:00:00\", \"2020-02-18T00:00:00\", \"2020-02-19T00:00:00\", \"2020-02-20T00:00:00\", \"2020-02-21T00:00:00\", \"2020-02-22T00:00:00\", \"2020-02-23T00:00:00\", \"2020-02-24T00:00:00\", \"2020-02-25T00:00:00\", \"2020-02-26T00:00:00\", \"2020-02-27T00:00:00\", \"2020-02-28T00:00:00\", \"2020-02-29T00:00:00\", \"2020-03-01T00:00:00\", \"2020-03-02T00:00:00\", \"2020-03-03T00:00:00\", \"2020-03-04T00:00:00\", \"2020-03-05T00:00:00\", \"2020-03-06T00:00:00\", \"2020-03-07T00:00:00\", \"2020-03-08T00:00:00\", \"2020-03-09T00:00:00\", \"2020-03-10T00:00:00\", \"2020-03-11T00:00:00\", \"2020-03-12T00:00:00\", \"2020-03-13T00:00:00\", \"2020-03-14T00:00:00\", \"2020-03-15T00:00:00\", \"2020-03-16T00:00:00\", \"2020-03-17T00:00:00\", \"2020-03-18T00:00:00\", \"2020-03-19T00:00:00\", \"2020-03-20T00:00:00\", \"2020-03-21T00:00:00\", \"2020-03-22T00:00:00\", \"2020-03-23T00:00:00\", \"2020-03-24T00:00:00\", \"2020-03-25T00:00:00\", \"2020-03-26T00:00:00\", \"2020-03-27T00:00:00\", \"2020-03-28T00:00:00\", \"2020-03-29T00:00:00\", \"2020-03-30T00:00:00\", \"2020-04-01T00:00:00\", \"2020-04-02T00:00:00\", \"2020-04-03T00:00:00\", \"2020-04-04T00:00:00\", \"2020-04-05T00:00:00\", \"2020-04-06T00:00:00\", \"2020-04-07T00:00:00\", \"2020-04-08T00:00:00\", \"2020-04-09T00:00:00\", \"2020-04-10T00:00:00\", \"2020-04-11T00:00:00\", \"2020-04-12T00:00:00\", \"2020-04-13T00:00:00\", \"2020-04-14T00:00:00\", \"2020-04-15T00:00:00\", \"2020-04-16T00:00:00\", \"2020-04-17T00:00:00\", \"2020-04-18T00:00:00\", \"2020-04-19T00:00:00\", \"2020-04-20T00:00:00\", \"2020-04-21T00:00:00\", \"2020-04-22T00:00:00\", \"2020-04-23T00:00:00\", \"2020-04-24T00:00:00\", \"2020-04-25T00:00:00\", \"2020-04-26T00:00:00\", \"2020-04-27T00:00:00\", \"2020-04-28T00:00:00\", \"2020-04-29T00:00:00\", \"2020-04-30T00:00:00\", \"2020-05-01T00:00:00\", \"2020-05-02T00:00:00\", \"2020-05-03T00:00:00\", \"2020-05-04T00:00:00\", \"2020-05-05T00:00:00\", \"2020-05-06T00:00:00\", \"2020-05-07T00:00:00\", \"2020-05-08T00:00:00\", \"2020-05-09T00:00:00\", \"2020-05-10T00:00:00\", \"2020-05-11T00:00:00\", \"2020-05-12T00:00:00\", \"2020-05-13T00:00:00\", \"2020-05-14T00:00:00\", \"2020-05-15T00:00:00\", \"2020-05-16T00:00:00\", \"2020-05-17T00:00:00\", \"2020-05-18T00:00:00\", \"2020-05-19T00:00:00\", \"2020-05-20T00:00:00\", \"2020-05-21T00:00:00\", \"2020-05-22T00:00:00\", \"2020-05-23T00:00:00\", \"2020-05-24T00:00:00\", \"2020-05-25T00:00:00\", \"2020-05-26T00:00:00\", \"2020-05-27T00:00:00\", \"2020-05-28T00:00:00\", \"2020-05-29T00:00:00\", \"2020-05-30T00:00:00\", \"2020-06-01T00:00:00\", \"2020-06-02T00:00:00\", \"2020-06-03T00:00:00\", \"2020-06-04T00:00:00\", \"2020-06-05T00:00:00\", \"2020-06-06T00:00:00\", \"2020-06-07T00:00:00\", \"2020-06-08T00:00:00\", \"2020-06-09T00:00:00\", \"2020-06-10T00:00:00\", \"2020-06-11T00:00:00\", \"2020-06-12T00:00:00\", \"2020-06-13T00:00:00\", \"2020-06-14T00:00:00\", \"2020-06-15T00:00:00\", \"2020-06-16T00:00:00\", \"2020-06-17T00:00:00\", \"2020-06-18T00:00:00\", \"2020-06-19T00:00:00\", \"2020-06-20T00:00:00\", \"2020-06-21T00:00:00\", \"2020-06-22T00:00:00\", \"2020-06-23T00:00:00\", \"2020-06-24T00:00:00\", \"2020-06-25T00:00:00\", \"2020-06-26T00:00:00\", \"2020-06-27T00:00:00\", \"2020-06-28T00:00:00\", \"2020-06-29T00:00:00\", \"2020-07-01T00:00:00\", \"2020-07-02T00:00:00\", \"2020-07-03T00:00:00\", \"2020-07-04T00:00:00\", \"2020-07-05T00:00:00\", \"2020-07-06T00:00:00\", \"2020-07-07T00:00:00\", \"2020-07-08T00:00:00\", \"2020-07-09T00:00:00\", \"2020-07-10T00:00:00\", \"2020-07-11T00:00:00\", \"2020-07-12T00:00:00\", \"2020-07-13T00:00:00\", \"2020-07-14T00:00:00\", \"2020-07-15T00:00:00\", \"2020-07-16T00:00:00\", \"2020-07-17T00:00:00\", \"2020-07-18T00:00:00\", \"2020-07-19T00:00:00\", \"2020-07-20T00:00:00\", \"2020-07-21T00:00:00\", \"2020-07-22T00:00:00\", \"2020-07-23T00:00:00\", \"2020-07-24T00:00:00\", \"2020-07-25T00:00:00\", \"2020-07-26T00:00:00\", \"2020-07-27T00:00:00\", \"2020-07-28T00:00:00\", \"2020-07-29T00:00:00\", \"2020-07-30T00:00:00\"], \"xaxis\": \"x\", \"y\": [-0.8144246157965926, -0.6511037698982276, -0.5473256189671852, -0.8425529254968823, -1.0121010589490849, -0.8595680410873006, -0.12234617572176058, -0.05340261660850263, -0.03612421379825682, -0.11502645814023317, -0.5290789402821979, -0.6776609465577292, -0.0419041103307637, 0.01689055407350282, -0.061545469415724086, -0.015079179761466326, -0.21825906571162149, -0.500077650271728, -0.7169932869453916, -0.14533746774821185, 0.022525035382655958, 0.10469701148818257, 0.23775149251938346, 0.14686753134787767, -0.06192435169588352, -0.2531789318182972, 0.25838830700853727, 0.31464772282140296, 0.2636309180116647, 0.3247389293433157, -0.01262126001849687, -0.26160179784673643, 0.287887442657765, 0.3164885912847487, 0.2568392239658574, 0.3429603213752516, 0.28933222949142456, -0.035017544925481245, -0.22951416268311323, 0.3017676822253434, 0.3221739940884327, 0.2835656065143428, 0.3035409556164921, 0.24837756976675876, 0.026789460376297494, -0.1182062592131984, 0.2989039318632444, 0.43494233734277227, 0.4089667642269094, 0.23386074613448976, 0.32779932565490344, 0.21073223750847572, 0.09159222060558625, 0.4187688324874975, 0.4038322870919804, 0.4956115032447819, 0.4517874096288512, 0.43989133671280406, 0.19624088271097365, 0.017257423767626984, 0.44323670087031447, 0.41535395194981733, 0.4974020408248299, 0.6213011227198202, 0.6054476293852923, 0.3172861018371849, 0.16356615844641822, 0.9792531513331909, 1.0301331130229583, 0.9203010682089225, 0.8261006763697757, 0.5627284174314608, -0.09712041468493555, -0.12989175847472703, 0.7042332623096667, 0.5759517837083311, 0.7954801015365226, 0.8888085214926983, 0.833955562718757, 0.2139404535388736, 0.012449199741012162, 0.8383679024238936, 0.7292578569570087, 0.683168960003072, 0.42787337665931224, 0.5356076780518668, 0.11563535831953159, -0.34686901610673493, 0.8445735610370986, 0.7655940065729738, 0.5886688499904846, 0.4915930985529269, -0.048391060800840116, -0.22800509190318832, 0.6567367491169245, 0.5056886747738807, 0.39477930361764074, 0.42543663046191893, 0.4999310165122797, 0.06789011512848842, -0.02290476832409439, -0.5065853509647009, 0.3720883947681019, 0.5247637893622397, 0.5455251566078111, 0.4941190780568453, -0.15525888057040035, -0.4201515545980345, 0.35511621107928193, 0.4059527740017506, 0.40700776289761353, 0.5310008407217663, 0.5564778840744294, -0.33272449672957666, -0.2382800389721665, 0.6557507417039944, 0.6185852798920776, 0.3982517339410291, 0.4817790061396111, -0.34406601271900167, -0.08680798682816233, -0.23316804613628098, 0.6908333321638072, 0.6711060788068953, 0.7404101674680295, 0.6508945686265462, 0.6412691853648211, 0.06595955860823068, -0.13352506781437784, 0.778283782182683, 0.7500603296588169, 0.6025868748596351, 0.6316233055900543, 0.6057099483920799, 0.07614550489090179, -0.13554529438901441, 0.7323394755134998, 0.5883985610697982, 0.6770256762195775, 0.574092676058177, 0.4890006682974472, -0.06603864406127853, -0.30117513483367575, 0.6206358834472115, 0.6113878360006948, 0.6414771147600976, 0.7101058635421513, 0.5846860124410082, 0.008530768836148579, 0.37011497162471024, -0.26428442554748816, 0.45957666803781866, 0.3708329707286126, 0.40398357801882906, -0.2429646240666871, -0.5616352867036005, 0.3633592727098659, 0.37833155995192813, 0.368577475803678, 0.25949140577176116, 0.26131791784754, -0.27932778078209114, -0.6369020189033301, 0.3422038313656732, 0.3499187861895915, 0.22557574634736677, 0.2994188495455226, 0.254264311536198, -0.3851736721106537, -0.7217387470637368, 0.24084599984649394, 0.24862145653902226, 0.26100463193738704, 0.292707273801292, 0.16552005325462796, -0.6653668274191072, -1.2193038567820282, -0.8889709361300395, 0.20582054165223812, 0.31498251159098556, 0.07842359363548738, -0.6832958524203353, -1.051030862341076, -0.044767656875020156, -0.022653672433586552, -0.03130837182691951, 0.07845175805215532, -0.05302085264724539, -0.9230874588662786, -1.239306843829125, -0.13574578972064075, -0.03680948301836086, -0.06182665991475079, -0.08721690793528858, -0.201427252695667, -1.017660576633116, -1.3832000773470516, -0.21741868965308156, -0.18837854927461542, -0.3955702584759917, -0.0922394028478659, -0.2557438255165034, -1.045512132427323, -1.422705735059939, -0.20991854152384803, -0.16549022887427603, -0.16649685055136343, -0.20335966221059543], \"yaxis\": \"y\"}, {\"hovertemplate\": \"COMUNE=MILANO<br>Date=%{x}<br>NORM_USERNUM_AVG=%{y}<extra></extra>\", \"legendgroup\": \"MILANO\", \"line\": {\"color\": \"#EF553B\", \"dash\": \"solid\"}, \"mode\": \"lines\", \"name\": \"MILANO\", \"orientation\": \"v\", \"showlegend\": true, \"type\": \"scatter\", \"x\": [\"2020-02-01T00:00:00\", \"2020-02-02T00:00:00\", \"2020-02-03T00:00:00\", \"2020-02-04T00:00:00\", \"2020-02-05T00:00:00\", \"2020-02-06T00:00:00\", \"2020-02-07T00:00:00\", \"2020-02-08T00:00:00\", \"2020-02-09T00:00:00\", \"2020-02-10T00:00:00\", \"2020-02-11T00:00:00\", \"2020-02-12T00:00:00\", \"2020-02-13T00:00:00\", \"2020-02-14T00:00:00\", \"2020-02-15T00:00:00\", \"2020-02-16T00:00:00\", \"2020-02-17T00:00:00\", \"2020-02-18T00:00:00\", \"2020-02-19T00:00:00\", \"2020-02-20T00:00:00\", \"2020-02-21T00:00:00\", \"2020-02-22T00:00:00\", \"2020-02-23T00:00:00\", \"2020-02-24T00:00:00\", \"2020-02-25T00:00:00\", \"2020-02-26T00:00:00\", \"2020-02-27T00:00:00\", \"2020-02-28T00:00:00\", \"2020-02-29T00:00:00\", \"2020-03-01T00:00:00\", \"2020-03-02T00:00:00\", \"2020-03-03T00:00:00\", \"2020-03-04T00:00:00\", \"2020-03-05T00:00:00\", \"2020-03-06T00:00:00\", \"2020-03-07T00:00:00\", \"2020-03-08T00:00:00\", \"2020-03-09T00:00:00\", \"2020-03-10T00:00:00\", \"2020-03-11T00:00:00\", \"2020-03-12T00:00:00\", \"2020-03-13T00:00:00\", \"2020-03-14T00:00:00\", \"2020-03-15T00:00:00\", \"2020-03-16T00:00:00\", \"2020-03-17T00:00:00\", \"2020-03-18T00:00:00\", \"2020-03-19T00:00:00\", \"2020-03-20T00:00:00\", \"2020-03-21T00:00:00\", \"2020-03-22T00:00:00\", \"2020-03-23T00:00:00\", \"2020-03-24T00:00:00\", \"2020-03-25T00:00:00\", \"2020-03-26T00:00:00\", \"2020-03-27T00:00:00\", \"2020-03-28T00:00:00\", \"2020-03-29T00:00:00\", \"2020-03-30T00:00:00\", \"2020-04-01T00:00:00\", \"2020-04-02T00:00:00\", \"2020-04-03T00:00:00\", \"2020-04-04T00:00:00\", \"2020-04-05T00:00:00\", \"2020-04-06T00:00:00\", \"2020-04-07T00:00:00\", \"2020-04-08T00:00:00\", \"2020-04-09T00:00:00\", \"2020-04-10T00:00:00\", \"2020-04-11T00:00:00\", \"2020-04-12T00:00:00\", \"2020-04-13T00:00:00\", \"2020-04-14T00:00:00\", \"2020-04-15T00:00:00\", \"2020-04-16T00:00:00\", \"2020-04-17T00:00:00\", \"2020-04-18T00:00:00\", \"2020-04-19T00:00:00\", \"2020-04-20T00:00:00\", \"2020-04-21T00:00:00\", \"2020-04-22T00:00:00\", \"2020-04-23T00:00:00\", \"2020-04-24T00:00:00\", \"2020-04-25T00:00:00\", \"2020-04-26T00:00:00\", \"2020-04-27T00:00:00\", \"2020-04-28T00:00:00\", \"2020-04-29T00:00:00\", \"2020-04-30T00:00:00\", \"2020-05-02T00:00:00\", \"2020-05-03T00:00:00\", \"2020-05-04T00:00:00\", \"2020-05-05T00:00:00\", \"2020-05-06T00:00:00\", \"2020-05-07T00:00:00\", \"2020-05-08T00:00:00\", \"2020-05-09T00:00:00\", \"2020-05-10T00:00:00\", \"2020-05-11T00:00:00\", \"2020-05-12T00:00:00\", \"2020-05-13T00:00:00\", \"2020-05-14T00:00:00\", \"2020-05-15T00:00:00\", \"2020-05-16T00:00:00\", \"2020-05-17T00:00:00\", \"2020-05-18T00:00:00\", \"2020-05-19T00:00:00\", \"2020-05-20T00:00:00\", \"2020-05-21T00:00:00\", \"2020-05-22T00:00:00\", \"2020-05-23T00:00:00\", \"2020-05-24T00:00:00\", \"2020-05-25T00:00:00\", \"2020-05-26T00:00:00\", \"2020-05-27T00:00:00\", \"2020-05-28T00:00:00\", \"2020-05-29T00:00:00\", \"2020-05-30T00:00:00\", \"2020-06-01T00:00:00\", \"2020-06-02T00:00:00\", \"2020-06-03T00:00:00\", \"2020-06-04T00:00:00\", \"2020-06-05T00:00:00\", \"2020-06-06T00:00:00\", \"2020-06-07T00:00:00\", \"2020-06-08T00:00:00\", \"2020-06-09T00:00:00\", \"2020-06-10T00:00:00\", \"2020-06-11T00:00:00\", \"2020-06-12T00:00:00\", \"2020-06-13T00:00:00\", \"2020-06-14T00:00:00\", \"2020-06-15T00:00:00\", \"2020-06-16T00:00:00\", \"2020-06-17T00:00:00\", \"2020-06-18T00:00:00\", \"2020-06-19T00:00:00\", \"2020-06-20T00:00:00\", \"2020-06-21T00:00:00\", \"2020-06-22T00:00:00\", \"2020-06-23T00:00:00\", \"2020-06-24T00:00:00\", \"2020-06-25T00:00:00\", \"2020-06-26T00:00:00\", \"2020-06-27T00:00:00\", \"2020-06-28T00:00:00\", \"2020-06-29T00:00:00\", \"2020-07-01T00:00:00\", \"2020-07-02T00:00:00\", \"2020-07-03T00:00:00\", \"2020-07-04T00:00:00\", \"2020-07-05T00:00:00\", \"2020-07-06T00:00:00\", \"2020-07-07T00:00:00\", \"2020-07-08T00:00:00\", \"2020-07-09T00:00:00\", \"2020-07-10T00:00:00\", \"2020-07-11T00:00:00\", \"2020-07-12T00:00:00\", \"2020-07-13T00:00:00\", \"2020-07-14T00:00:00\", \"2020-07-15T00:00:00\", \"2020-07-16T00:00:00\", \"2020-07-17T00:00:00\", \"2020-07-18T00:00:00\", \"2020-07-19T00:00:00\", \"2020-07-20T00:00:00\", \"2020-07-21T00:00:00\", \"2020-07-22T00:00:00\", \"2020-07-23T00:00:00\", \"2020-07-24T00:00:00\", \"2020-07-25T00:00:00\", \"2020-07-26T00:00:00\", \"2020-07-27T00:00:00\", \"2020-07-28T00:00:00\", \"2020-07-29T00:00:00\", \"2020-07-30T00:00:00\"], \"xaxis\": \"x\", \"y\": [0.634371151802488, 0.41547790469312745, 0.9388586920014808, 0.9507811139658104, 0.9767187771774108, 0.7461742376605655, 0.9451861540822459, 0.6079173952868523, 0.44961008594558266, 0.9057568255632678, 0.9557540601594645, 0.9436686110092464, 0.9604325085346879, 0.9396515705715587, 0.6432414328164936, 0.4439352258325455, 0.9572025910262673, 0.9653148391014196, 0.9441593131546053, 0.92110319948541, 0.936647989887741, 0.697638712310074, 0.6250594368867446, 1.1174073448548694, 1.097597497628945, 1.012203123535229, 0.9749691002937281, 0.8965483247525043, 0.30836416984581083, 0.16022187974725097, 1.0000002838705548, 1.061769293966582, 1.1085590883737395, 1.0782672157113489, 0.9951129763875206, 0.4898489982524691, 0.434997772767484, 0.7988944587214282, 1.0114769379430222, 0.9550978852040342, 0.7588425769420748, 0.695605628419312, 0.23743924687104476, 0.21409326215218483, 0.7501354743536284, 0.7414253050349653, 0.8190097445968681, 0.7899737918587527, 0.7539444790627332, 0.3801220446568478, 0.2508882420817134, 0.720953709151988, 0.6862442980738648, 0.6444230610216454, 0.6130185594582652, 0.649408387732104, 0.3348882337874773, 0.12071391959205928, 0.6636750186828363, 0.5491434991806399, 0.5803486105622767, 0.46388596937039406, 0.15396552378277098, 0.05647107695792769, 0.5026775397378017, 0.5188138152186018, 0.4932414336823151, 0.46751691067169965, 0.45350650100841716, 0.18336429357450448, 0.14722348202699398, -0.0135912088937395, 0.49303662109167584, 0.5145234642365155, 0.5420795930752695, 0.49483455914307245, 0.15452951132717474, 0.041533209954052935, 0.4902040408133924, 0.5095313636200626, 0.5495226664082887, 0.6080380510444109, 0.5822190716276073, 0.17095287806511877, 0.1261815664515778, 0.585083395061105, 0.5851151263829817, 0.546392820156568, 0.5125204710499673, 0.19297335207068758, 0.13966172236544966, 0.662875394613386, 0.6321419241638805, 0.618832146082274, 0.6308446228434065, 0.5944450745589861, 0.24691928216166117, 0.18396478102092226, 0.5587520542318748, 0.5750014761410847, 0.5143234776885801, 0.5229962457493742, 0.4255245230060982, 0.1620083086727839, 0.09272614692625625, 0.5068317979376387, 0.4819961987722708, 0.4902881665248312, 0.5349748625918833, 0.5041424695192831, 0.1814594736311367, 0.134507129951154, 0.5601949459002189, 0.5380880180657353, 0.5494653491796357, 0.5264543722583502, 0.4378671207961913, 0.16847141542368002, 0.3125718260974658, 0.0013996660491221741, 0.39066280516450547, 0.43999261735283524, 0.3297634357136361, 0.08522188316837173, -0.06321296445133477, 0.35510644917325757, 0.36852751960081553, 0.3388009982597036, 0.3072326348511147, 0.24823484947136665, -0.018514095066454565, -0.06928880399394606, 0.3227739885397185, 0.30390932743785154, 0.251124139761937, 0.25812414948516293, 0.17220423406572072, -0.045978055076334526, -0.1557488134936287, 0.2929329143689039, 0.2830210418749762, 0.21151317244035944, 0.2665910421122794, 0.21076883618411987, -0.08339780594515316, -0.2112633385448007, 0.25784068243344427, 0.2505095417744986, 0.106307030349983, 0.1687770137498309, -0.15544455907346125, -0.25577176356888853, 0.1933336102777414, 0.167431606649031, 0.22192389036124288, 0.2116310863479933, 0.14159564910311032, -0.19610552858207242, -0.2681739977644164, 0.20728949746693803, 0.19045556371700464, 0.1983718151307904, 0.16024238091640683, 0.12078528649674336, -0.21473185267873066, -0.33818652469604477, 0.13212834986214073, 0.1334167070845949, 0.103961368050338, 0.09032109114907838, 0.04127871200914671, -0.26655127545247137, -0.38810045056943365, 0.07345171260294642, 0.06578236413528156, 0.05898356990608811, 0.02876793483968029], \"yaxis\": \"y\"}],                        {\"legend\": {\"title\": {\"text\": \"COMUNE\"}, \"tracegroupgap\": 0}, \"margin\": {\"t\": 60}, \"template\": {\"data\": {\"bar\": [{\"error_x\": {\"color\": \"#2a3f5f\"}, \"error_y\": {\"color\": \"#2a3f5f\"}, \"marker\": {\"line\": {\"color\": \"#E5ECF6\", \"width\": 0.5}}, \"type\": \"bar\"}], \"barpolar\": [{\"marker\": {\"line\": {\"color\": \"#E5ECF6\", \"width\": 0.5}}, \"type\": \"barpolar\"}], \"carpet\": [{\"aaxis\": {\"endlinecolor\": \"#2a3f5f\", \"gridcolor\": \"white\", \"linecolor\": \"white\", \"minorgridcolor\": \"white\", \"startlinecolor\": \"#2a3f5f\"}, \"baxis\": {\"endlinecolor\": \"#2a3f5f\", \"gridcolor\": \"white\", \"linecolor\": \"white\", \"minorgridcolor\": \"white\", \"startlinecolor\": \"#2a3f5f\"}, \"type\": \"carpet\"}], \"choropleth\": [{\"colorbar\": {\"outlinewidth\": 0, \"ticks\": \"\"}, \"type\": \"choropleth\"}], \"contour\": [{\"colorbar\": {\"outlinewidth\": 0, \"ticks\": \"\"}, \"colorscale\": [[0.0, \"#0d0887\"], [0.1111111111111111, \"#46039f\"], [0.2222222222222222, \"#7201a8\"], [0.3333333333333333, \"#9c179e\"], [0.4444444444444444, \"#bd3786\"], [0.5555555555555556, \"#d8576b\"], [0.6666666666666666, \"#ed7953\"], [0.7777777777777778, \"#fb9f3a\"], [0.8888888888888888, \"#fdca26\"], [1.0, \"#f0f921\"]], \"type\": \"contour\"}], \"contourcarpet\": [{\"colorbar\": {\"outlinewidth\": 0, \"ticks\": \"\"}, \"type\": \"contourcarpet\"}], \"heatmap\": [{\"colorbar\": {\"outlinewidth\": 0, \"ticks\": \"\"}, \"colorscale\": [[0.0, \"#0d0887\"], [0.1111111111111111, \"#46039f\"], [0.2222222222222222, \"#7201a8\"], [0.3333333333333333, \"#9c179e\"], [0.4444444444444444, \"#bd3786\"], [0.5555555555555556, \"#d8576b\"], [0.6666666666666666, \"#ed7953\"], [0.7777777777777778, \"#fb9f3a\"], [0.8888888888888888, \"#fdca26\"], [1.0, \"#f0f921\"]], \"type\": \"heatmap\"}], \"heatmapgl\": [{\"colorbar\": {\"outlinewidth\": 0, \"ticks\": \"\"}, \"colorscale\": [[0.0, \"#0d0887\"], [0.1111111111111111, \"#46039f\"], [0.2222222222222222, \"#7201a8\"], [0.3333333333333333, \"#9c179e\"], [0.4444444444444444, \"#bd3786\"], [0.5555555555555556, \"#d8576b\"], [0.6666666666666666, \"#ed7953\"], [0.7777777777777778, \"#fb9f3a\"], [0.8888888888888888, \"#fdca26\"], [1.0, \"#f0f921\"]], \"type\": \"heatmapgl\"}], \"histogram\": [{\"marker\": {\"colorbar\": {\"outlinewidth\": 0, \"ticks\": \"\"}}, \"type\": \"histogram\"}], \"histogram2d\": [{\"colorbar\": {\"outlinewidth\": 0, \"ticks\": \"\"}, \"colorscale\": [[0.0, \"#0d0887\"], [0.1111111111111111, \"#46039f\"], [0.2222222222222222, \"#7201a8\"], [0.3333333333333333, \"#9c179e\"], [0.4444444444444444, \"#bd3786\"], [0.5555555555555556, \"#d8576b\"], [0.6666666666666666, \"#ed7953\"], [0.7777777777777778, \"#fb9f3a\"], [0.8888888888888888, \"#fdca26\"], [1.0, \"#f0f921\"]], \"type\": \"histogram2d\"}], \"histogram2dcontour\": [{\"colorbar\": {\"outlinewidth\": 0, \"ticks\": \"\"}, \"colorscale\": [[0.0, \"#0d0887\"], [0.1111111111111111, \"#46039f\"], [0.2222222222222222, \"#7201a8\"], [0.3333333333333333, \"#9c179e\"], [0.4444444444444444, \"#bd3786\"], [0.5555555555555556, \"#d8576b\"], [0.6666666666666666, \"#ed7953\"], [0.7777777777777778, \"#fb9f3a\"], [0.8888888888888888, \"#fdca26\"], [1.0, \"#f0f921\"]], \"type\": \"histogram2dcontour\"}], \"mesh3d\": [{\"colorbar\": {\"outlinewidth\": 0, \"ticks\": \"\"}, \"type\": \"mesh3d\"}], \"parcoords\": [{\"line\": {\"colorbar\": {\"outlinewidth\": 0, \"ticks\": \"\"}}, \"type\": \"parcoords\"}], \"pie\": [{\"automargin\": true, \"type\": \"pie\"}], \"scatter\": [{\"marker\": {\"colorbar\": {\"outlinewidth\": 0, \"ticks\": \"\"}}, \"type\": \"scatter\"}], \"scatter3d\": [{\"line\": {\"colorbar\": {\"outlinewidth\": 0, \"ticks\": \"\"}}, \"marker\": {\"colorbar\": {\"outlinewidth\": 0, \"ticks\": \"\"}}, \"type\": \"scatter3d\"}], \"scattercarpet\": [{\"marker\": {\"colorbar\": {\"outlinewidth\": 0, \"ticks\": \"\"}}, \"type\": \"scattercarpet\"}], \"scattergeo\": [{\"marker\": {\"colorbar\": {\"outlinewidth\": 0, \"ticks\": \"\"}}, \"type\": \"scattergeo\"}], \"scattergl\": [{\"marker\": {\"colorbar\": {\"outlinewidth\": 0, \"ticks\": \"\"}}, \"type\": \"scattergl\"}], \"scattermapbox\": [{\"marker\": {\"colorbar\": {\"outlinewidth\": 0, \"ticks\": \"\"}}, \"type\": \"scattermapbox\"}], \"scatterpolar\": [{\"marker\": {\"colorbar\": {\"outlinewidth\": 0, \"ticks\": \"\"}}, \"type\": \"scatterpolar\"}], \"scatterpolargl\": [{\"marker\": {\"colorbar\": {\"outlinewidth\": 0, \"ticks\": \"\"}}, \"type\": \"scatterpolargl\"}], \"scatterternary\": [{\"marker\": {\"colorbar\": {\"outlinewidth\": 0, \"ticks\": \"\"}}, \"type\": \"scatterternary\"}], \"surface\": [{\"colorbar\": {\"outlinewidth\": 0, \"ticks\": \"\"}, \"colorscale\": [[0.0, \"#0d0887\"], [0.1111111111111111, \"#46039f\"], [0.2222222222222222, \"#7201a8\"], [0.3333333333333333, \"#9c179e\"], [0.4444444444444444, \"#bd3786\"], [0.5555555555555556, \"#d8576b\"], [0.6666666666666666, \"#ed7953\"], [0.7777777777777778, \"#fb9f3a\"], [0.8888888888888888, \"#fdca26\"], [1.0, \"#f0f921\"]], \"type\": \"surface\"}], \"table\": [{\"cells\": {\"fill\": {\"color\": \"#EBF0F8\"}, \"line\": {\"color\": \"white\"}}, \"header\": {\"fill\": {\"color\": \"#C8D4E3\"}, \"line\": {\"color\": \"white\"}}, \"type\": \"table\"}]}, \"layout\": {\"annotationdefaults\": {\"arrowcolor\": \"#2a3f5f\", \"arrowhead\": 0, \"arrowwidth\": 1}, \"autotypenumbers\": \"strict\", \"coloraxis\": {\"colorbar\": {\"outlinewidth\": 0, \"ticks\": \"\"}}, \"colorscale\": {\"diverging\": [[0, \"#8e0152\"], [0.1, \"#c51b7d\"], [0.2, \"#de77ae\"], [0.3, \"#f1b6da\"], [0.4, \"#fde0ef\"], [0.5, \"#f7f7f7\"], [0.6, \"#e6f5d0\"], [0.7, \"#b8e186\"], [0.8, \"#7fbc41\"], [0.9, \"#4d9221\"], [1, \"#276419\"]], \"sequential\": [[0.0, \"#0d0887\"], [0.1111111111111111, \"#46039f\"], [0.2222222222222222, \"#7201a8\"], [0.3333333333333333, \"#9c179e\"], [0.4444444444444444, \"#bd3786\"], [0.5555555555555556, \"#d8576b\"], [0.6666666666666666, \"#ed7953\"], [0.7777777777777778, \"#fb9f3a\"], [0.8888888888888888, \"#fdca26\"], [1.0, \"#f0f921\"]], \"sequentialminus\": [[0.0, \"#0d0887\"], [0.1111111111111111, \"#46039f\"], [0.2222222222222222, \"#7201a8\"], [0.3333333333333333, \"#9c179e\"], [0.4444444444444444, \"#bd3786\"], [0.5555555555555556, \"#d8576b\"], [0.6666666666666666, \"#ed7953\"], [0.7777777777777778, \"#fb9f3a\"], [0.8888888888888888, \"#fdca26\"], [1.0, \"#f0f921\"]]}, \"colorway\": [\"#636efa\", \"#EF553B\", \"#00cc96\", \"#ab63fa\", \"#FFA15A\", \"#19d3f3\", \"#FF6692\", \"#B6E880\", \"#FF97FF\", \"#FECB52\"], \"font\": {\"color\": \"#2a3f5f\"}, \"geo\": {\"bgcolor\": \"white\", \"lakecolor\": \"white\", \"landcolor\": \"#E5ECF6\", \"showlakes\": true, \"showland\": true, \"subunitcolor\": \"white\"}, \"hoverlabel\": {\"align\": \"left\"}, \"hovermode\": \"closest\", \"mapbox\": {\"style\": \"light\"}, \"paper_bgcolor\": \"white\", \"plot_bgcolor\": \"#E5ECF6\", \"polar\": {\"angularaxis\": {\"gridcolor\": \"white\", \"linecolor\": \"white\", \"ticks\": \"\"}, \"bgcolor\": \"#E5ECF6\", \"radialaxis\": {\"gridcolor\": \"white\", \"linecolor\": \"white\", \"ticks\": \"\"}}, \"scene\": {\"xaxis\": {\"backgroundcolor\": \"#E5ECF6\", \"gridcolor\": \"white\", \"gridwidth\": 2, \"linecolor\": \"white\", \"showbackground\": true, \"ticks\": \"\", \"zerolinecolor\": \"white\"}, \"yaxis\": {\"backgroundcolor\": \"#E5ECF6\", \"gridcolor\": \"white\", \"gridwidth\": 2, \"linecolor\": \"white\", \"showbackground\": true, \"ticks\": \"\", \"zerolinecolor\": \"white\"}, \"zaxis\": {\"backgroundcolor\": \"#E5ECF6\", \"gridcolor\": \"white\", \"gridwidth\": 2, \"linecolor\": \"white\", \"showbackground\": true, \"ticks\": \"\", \"zerolinecolor\": \"white\"}}, \"shapedefaults\": {\"line\": {\"color\": \"#2a3f5f\"}}, \"ternary\": {\"aaxis\": {\"gridcolor\": \"white\", \"linecolor\": \"white\", \"ticks\": \"\"}, \"baxis\": {\"gridcolor\": \"white\", \"linecolor\": \"white\", \"ticks\": \"\"}, \"bgcolor\": \"#E5ECF6\", \"caxis\": {\"gridcolor\": \"white\", \"linecolor\": \"white\", \"ticks\": \"\"}}, \"title\": {\"x\": 0.05}, \"xaxis\": {\"automargin\": true, \"gridcolor\": \"white\", \"linecolor\": \"white\", \"ticks\": \"\", \"title\": {\"standoff\": 15}, \"zerolinecolor\": \"white\", \"zerolinewidth\": 2}, \"yaxis\": {\"automargin\": true, \"gridcolor\": \"white\", \"linecolor\": \"white\", \"ticks\": \"\", \"title\": {\"standoff\": 15}, \"zerolinecolor\": \"white\", \"zerolinewidth\": 2}}}, \"xaxis\": {\"anchor\": \"y\", \"domain\": [0.0, 1.0], \"title\": {\"text\": \"Date\"}}, \"yaxis\": {\"anchor\": \"x\", \"domain\": [0.0, 1.0], \"title\": {\"text\": \"NORM_USERNUM_AVG\"}}},                        {\"responsive\": true}                    ).then(function(){\n",
       "                            \n",
       "var gd = document.getElementById('559c8c33-bc22-4bad-ad80-a3e380289265');\n",
       "var x = new MutationObserver(function (mutations, observer) {{\n",
       "        var display = window.getComputedStyle(gd).display;\n",
       "        if (!display || display === 'none') {{\n",
       "            console.log([gd, 'removed!']);\n",
       "            Plotly.purge(gd);\n",
       "            observer.disconnect();\n",
       "        }}\n",
       "}});\n",
       "\n",
       "// Listen for the removal of the full notebook cells\n",
       "var notebookContainer = gd.closest('#notebook-container');\n",
       "if (notebookContainer) {{\n",
       "    x.observe(notebookContainer, {childList: true});\n",
       "}}\n",
       "\n",
       "// Listen for the clearing of the current output cell\n",
       "var outputEl = gd.closest('.output');\n",
       "if (outputEl) {{\n",
       "    x.observe(outputEl, {childList: true});\n",
       "}}\n",
       "\n",
       "                        })                };                });            </script>        </div>"
      ]
     },
     "metadata": {},
     "output_type": "display_data"
    }
   ],
   "source": [
    "fig = px.line(daily_selected_data_groupped, x='Date', y='NORM_USERNUM_AVG', color='COMUNE')\n",
    "fig.show()"
   ]
  },
  {
   "cell_type": "code",
   "execution_count": 95,
   "metadata": {
    "scrolled": true
   },
   "outputs": [
    {
     "data": {
      "application/vnd.plotly.v1+json": {
       "config": {
        "plotlyServerURL": "https://plot.ly"
       },
       "data": [
        {
         "hovertemplate": "COMUNE=ROMA<br>Date=%{x}<br>NORM_Hin_Succ=%{y}<extra></extra>",
         "legendgroup": "ROMA",
         "line": {
          "color": "#636efa",
          "dash": "solid"
         },
         "mode": "lines",
         "name": "ROMA",
         "orientation": "v",
         "showlegend": true,
         "type": "scatter",
         "x": [
          "2020-01-01T00:00:00",
          "2020-01-02T00:00:00",
          "2020-01-03T00:00:00",
          "2020-01-04T00:00:00",
          "2020-01-05T00:00:00",
          "2020-01-06T00:00:00",
          "2020-01-07T00:00:00",
          "2020-01-08T00:00:00",
          "2020-01-09T00:00:00",
          "2020-01-10T00:00:00",
          "2020-01-11T00:00:00",
          "2020-01-12T00:00:00",
          "2020-01-13T00:00:00",
          "2020-01-14T00:00:00",
          "2020-01-15T00:00:00",
          "2020-01-16T00:00:00",
          "2020-01-17T00:00:00",
          "2020-01-18T00:00:00",
          "2020-01-19T00:00:00",
          "2020-01-20T00:00:00",
          "2020-01-21T00:00:00",
          "2020-01-22T00:00:00",
          "2020-01-23T00:00:00",
          "2020-01-24T00:00:00",
          "2020-01-25T00:00:00",
          "2020-01-26T00:00:00",
          "2020-01-27T00:00:00",
          "2020-01-28T00:00:00",
          "2020-01-29T00:00:00",
          "2020-01-30T00:00:00",
          "2020-02-01T00:00:00",
          "2020-02-02T00:00:00",
          "2020-02-03T00:00:00",
          "2020-02-04T00:00:00",
          "2020-02-05T00:00:00",
          "2020-02-06T00:00:00",
          "2020-02-07T00:00:00",
          "2020-02-08T00:00:00",
          "2020-02-09T00:00:00",
          "2020-02-10T00:00:00",
          "2020-02-11T00:00:00",
          "2020-02-12T00:00:00",
          "2020-02-13T00:00:00",
          "2020-02-14T00:00:00",
          "2020-02-15T00:00:00",
          "2020-02-16T00:00:00",
          "2020-02-17T00:00:00",
          "2020-02-18T00:00:00",
          "2020-02-19T00:00:00",
          "2020-02-20T00:00:00",
          "2020-02-21T00:00:00",
          "2020-02-22T00:00:00",
          "2020-02-23T00:00:00",
          "2020-02-24T00:00:00",
          "2020-02-25T00:00:00",
          "2020-02-26T00:00:00",
          "2020-02-27T00:00:00",
          "2020-02-28T00:00:00",
          "2020-02-29T00:00:00",
          "2020-03-01T00:00:00",
          "2020-03-02T00:00:00",
          "2020-03-03T00:00:00",
          "2020-03-04T00:00:00",
          "2020-03-05T00:00:00",
          "2020-03-06T00:00:00",
          "2020-03-07T00:00:00",
          "2020-03-08T00:00:00",
          "2020-03-09T00:00:00",
          "2020-03-10T00:00:00",
          "2020-03-11T00:00:00",
          "2020-03-12T00:00:00",
          "2020-03-13T00:00:00",
          "2020-03-14T00:00:00",
          "2020-03-15T00:00:00",
          "2020-03-16T00:00:00",
          "2020-03-17T00:00:00",
          "2020-03-18T00:00:00",
          "2020-03-19T00:00:00",
          "2020-03-20T00:00:00",
          "2020-03-21T00:00:00",
          "2020-03-22T00:00:00",
          "2020-03-23T00:00:00",
          "2020-03-24T00:00:00",
          "2020-03-25T00:00:00",
          "2020-03-26T00:00:00",
          "2020-03-27T00:00:00",
          "2020-03-28T00:00:00",
          "2020-03-29T00:00:00",
          "2020-03-30T00:00:00",
          "2020-04-01T00:00:00",
          "2020-04-02T00:00:00",
          "2020-04-03T00:00:00",
          "2020-04-04T00:00:00",
          "2020-04-05T00:00:00",
          "2020-04-06T00:00:00",
          "2020-04-07T00:00:00",
          "2020-04-08T00:00:00",
          "2020-04-09T00:00:00",
          "2020-04-10T00:00:00",
          "2020-04-11T00:00:00",
          "2020-04-12T00:00:00",
          "2020-04-13T00:00:00",
          "2020-04-14T00:00:00",
          "2020-04-15T00:00:00",
          "2020-04-16T00:00:00",
          "2020-04-17T00:00:00",
          "2020-04-18T00:00:00",
          "2020-04-19T00:00:00",
          "2020-04-20T00:00:00",
          "2020-04-21T00:00:00",
          "2020-04-22T00:00:00",
          "2020-04-23T00:00:00",
          "2020-04-24T00:00:00",
          "2020-04-25T00:00:00",
          "2020-04-26T00:00:00",
          "2020-04-27T00:00:00",
          "2020-04-28T00:00:00",
          "2020-04-29T00:00:00",
          "2020-04-30T00:00:00",
          "2020-05-01T00:00:00",
          "2020-05-02T00:00:00",
          "2020-05-03T00:00:00",
          "2020-05-04T00:00:00",
          "2020-05-05T00:00:00",
          "2020-05-06T00:00:00",
          "2020-05-07T00:00:00",
          "2020-05-08T00:00:00",
          "2020-05-09T00:00:00",
          "2020-05-10T00:00:00",
          "2020-05-11T00:00:00",
          "2020-05-12T00:00:00",
          "2020-05-13T00:00:00",
          "2020-05-14T00:00:00",
          "2020-05-15T00:00:00",
          "2020-05-16T00:00:00",
          "2020-05-17T00:00:00",
          "2020-05-18T00:00:00",
          "2020-05-19T00:00:00",
          "2020-05-20T00:00:00",
          "2020-05-21T00:00:00",
          "2020-05-22T00:00:00",
          "2020-05-23T00:00:00",
          "2020-05-24T00:00:00",
          "2020-05-25T00:00:00",
          "2020-05-26T00:00:00",
          "2020-05-27T00:00:00",
          "2020-05-28T00:00:00",
          "2020-05-29T00:00:00",
          "2020-05-30T00:00:00",
          "2020-06-01T00:00:00",
          "2020-06-02T00:00:00",
          "2020-06-03T00:00:00",
          "2020-06-04T00:00:00",
          "2020-06-05T00:00:00",
          "2020-06-06T00:00:00",
          "2020-06-07T00:00:00",
          "2020-06-08T00:00:00",
          "2020-06-09T00:00:00",
          "2020-06-10T00:00:00",
          "2020-06-11T00:00:00",
          "2020-06-12T00:00:00",
          "2020-06-13T00:00:00",
          "2020-06-14T00:00:00",
          "2020-06-15T00:00:00",
          "2020-06-16T00:00:00",
          "2020-06-17T00:00:00",
          "2020-06-18T00:00:00",
          "2020-06-19T00:00:00",
          "2020-06-20T00:00:00",
          "2020-06-21T00:00:00",
          "2020-06-22T00:00:00",
          "2020-06-23T00:00:00",
          "2020-06-24T00:00:00",
          "2020-06-25T00:00:00",
          "2020-06-26T00:00:00",
          "2020-06-27T00:00:00",
          "2020-06-28T00:00:00",
          "2020-06-29T00:00:00",
          "2020-07-01T00:00:00",
          "2020-07-02T00:00:00",
          "2020-07-03T00:00:00",
          "2020-07-04T00:00:00",
          "2020-07-05T00:00:00",
          "2020-07-06T00:00:00",
          "2020-07-07T00:00:00",
          "2020-07-08T00:00:00",
          "2020-07-09T00:00:00",
          "2020-07-10T00:00:00",
          "2020-07-11T00:00:00",
          "2020-07-12T00:00:00",
          "2020-07-13T00:00:00",
          "2020-07-14T00:00:00",
          "2020-07-15T00:00:00",
          "2020-07-16T00:00:00",
          "2020-07-17T00:00:00",
          "2020-07-18T00:00:00",
          "2020-07-19T00:00:00",
          "2020-07-20T00:00:00",
          "2020-07-21T00:00:00",
          "2020-07-22T00:00:00",
          "2020-07-23T00:00:00",
          "2020-07-24T00:00:00",
          "2020-07-25T00:00:00",
          "2020-07-26T00:00:00",
          "2020-07-27T00:00:00",
          "2020-07-28T00:00:00",
          "2020-07-29T00:00:00",
          "2020-07-30T00:00:00"
         ],
         "xaxis": "x",
         "y": [
          -0.06729987192531307,
          0.32740294593887204,
          0.5303136404680869,
          0.29888218408761796,
          -0.06574329202066372,
          -0.24617253708044964,
          0.8133000616792307,
          0.8419476431325352,
          0.8617042950255985,
          0.9552555467570418,
          0.6378048347658537,
          -0.006081934329009459,
          0.8483501787705685,
          0.873488760323994,
          0.8411257475428324,
          0.8419681616443723,
          0.987844779930931,
          0.6072510075684017,
          -0.11370207607449861,
          0.7572029670793364,
          0.8187476201796761,
          0.8698518768992286,
          0.7475861077691991,
          0.9895424056058377,
          0.8368761661557159,
          0.21711561043913735,
          0.8221264263222248,
          0.8271799078042181,
          0.8762522542937946,
          0.9210164732424796,
          0.7877781031313037,
          0.1402143255218605,
          0.8679998608219215,
          0.8903028752328567,
          0.9321779357259126,
          0.9874662361858845,
          1.010189986481762,
          0.7934694823479636,
          0.0970492737890599,
          0.8218714192173348,
          0.7849077001153834,
          0.7740830148062354,
          0.8627466050291238,
          1.0021522014448065,
          0.9083153320285919,
          0.3412782627923576,
          0.7843064317240704,
          0.7136928395741302,
          0.730149871581438,
          0.714485127711197,
          0.8962082245307325,
          0.9197574877539554,
          0.349517706803427,
          0.6705331074555095,
          0.702918462616227,
          0.7611092357661755,
          0.734017139896889,
          0.9650224495848496,
          0.8557094850161132,
          0.04814660779292674,
          0.7095298919036589,
          0.6706309275608303,
          0.7731856110929723,
          0.8248031345864035,
          0.920602212087939,
          0.6206768930181682,
          -0.020870370555935464,
          0.7415836071174994,
          0.4225681686125177,
          0.10213959739897395,
          -0.4481374650040568,
          -0.8678467860010276,
          -1.9408134524653642,
          -2.2495904271438305,
          -0.9968635710945714,
          -1.2364400863316594,
          -1.1259223659412392,
          -1.0484480825822915,
          -1.0582220984942028,
          -2.013418586573103,
          -2.5458651837809443,
          -1.2034551346583713,
          -1.3523342039836947,
          -1.4849751054279718,
          -1.7684652485052657,
          -1.5488966837351026,
          -2.1619011166585542,
          -2.7170953264315947,
          -1.2937189256221848,
          -1.203312660191734,
          -1.3917324825123527,
          -1.31841424652434,
          -1.995607727955891,
          -2.5832668743177813,
          -1.214113726413923,
          -1.2853264591095042,
          -1.293582773896973,
          -1.246920303824308,
          -1.139190334844349,
          -1.7552206555067524,
          -2.344933416124473,
          -2.7651766439983407,
          -1.432040962226101,
          -0.995889777721684,
          -1.0622713280124039,
          -1.008521672757846,
          -1.8659913159519814,
          -2.543411899312324,
          -1.3045825505071302,
          -1.1903384251847444,
          -1.2611342217197974,
          -0.9284646711178308,
          -0.7312617098191547,
          -2.2416298221091773,
          -2.140024005757765,
          -0.6711744182195593,
          -0.6956936750912552,
          -0.7897382830406464,
          -0.6137862076614937,
          -2.242951579045025,
          -1.3977006336553475,
          -2.024390427609367,
          0.10562476542732668,
          -0.0172513002392241,
          0.060263776961035166,
          0.09215528953907969,
          0.1061741447820385,
          -0.5409952822287948,
          -1.1724229677538565,
          0.16246168156957558,
          0.2526648289317375,
          0.1792262176742809,
          0.2157997506755804,
          0.28657867643423407,
          -0.33775477162042183,
          -1.0102996702035634,
          0.554232024119809,
          0.585625955186357,
          0.512283887326818,
          0.6788479683967532,
          0.7066011555185308,
          0.28572443759031707,
          -0.3449343964978649,
          0.659959112764317,
          0.6687598520658612,
          0.6915552803630897,
          0.5852720032577194,
          0.30161853282620305,
          0.04892652402730073,
          0.5436469950289173,
          -0.4678902867749105,
          0.7498620211021615,
          0.8003565588433037,
          0.8454764927927543,
          0.48597334917285245,
          -0.20008853705261215,
          0.7676168565826097,
          0.8440153619653913,
          0.8367875869801706,
          0.531897578388519,
          0.9181776231380954,
          0.3466440512234081,
          -0.2324266844372068,
          0.8310041632392997,
          0.8605418833327871,
          0.7388650714869684,
          0.9270456327606698,
          0.910933220558838,
          0.4778138209656639,
          -0.2696247705410299,
          0.8035110596542295,
          0.8608357084222933,
          0.9077087744208943,
          0.9814048854024566,
          0.9937525914502272,
          0.201564736710143,
          -0.7441697688257455,
          -0.3892370553225006,
          0.8430627254580425,
          0.9040396997308913,
          0.9486713842920067,
          0.1830177954793998,
          -0.45738711894679984,
          0.7321242995804751,
          0.7080658124901503,
          0.7475770492261955,
          0.8584087180466198,
          0.8805408664500944,
          0.027734974604230446,
          -0.6562423524097741,
          0.6678886816499543,
          0.6745924898373458,
          0.6775453924697484,
          0.6831234791032726,
          0.6988582594939173,
          -0.0939423236063133,
          -0.768842656154959,
          0.5312730860815861,
          0.5520364825576571,
          0.5117086394482938,
          0.6608958208269211,
          0.7039568209063615,
          -0.10060773937822298,
          -0.8656520043837587,
          0.5376199025608086,
          0.5407077106088154,
          0.588740695681012,
          0.5784283956096785
         ],
         "yaxis": "y"
        },
        {
         "hovertemplate": "COMUNE=MILANO<br>Date=%{x}<br>NORM_Hin_Succ=%{y}<extra></extra>",
         "legendgroup": "MILANO",
         "line": {
          "color": "#EF553B",
          "dash": "solid"
         },
         "mode": "lines",
         "name": "MILANO",
         "orientation": "v",
         "showlegend": true,
         "type": "scatter",
         "x": [
          "2020-02-01T00:00:00",
          "2020-02-02T00:00:00",
          "2020-02-03T00:00:00",
          "2020-02-04T00:00:00",
          "2020-02-05T00:00:00",
          "2020-02-06T00:00:00",
          "2020-02-07T00:00:00",
          "2020-02-08T00:00:00",
          "2020-02-09T00:00:00",
          "2020-02-10T00:00:00",
          "2020-02-11T00:00:00",
          "2020-02-12T00:00:00",
          "2020-02-13T00:00:00",
          "2020-02-14T00:00:00",
          "2020-02-15T00:00:00",
          "2020-02-16T00:00:00",
          "2020-02-17T00:00:00",
          "2020-02-18T00:00:00",
          "2020-02-19T00:00:00",
          "2020-02-20T00:00:00",
          "2020-02-21T00:00:00",
          "2020-02-22T00:00:00",
          "2020-02-23T00:00:00",
          "2020-02-24T00:00:00",
          "2020-02-25T00:00:00",
          "2020-02-26T00:00:00",
          "2020-02-27T00:00:00",
          "2020-02-28T00:00:00",
          "2020-02-29T00:00:00",
          "2020-03-01T00:00:00",
          "2020-03-02T00:00:00",
          "2020-03-03T00:00:00",
          "2020-03-04T00:00:00",
          "2020-03-05T00:00:00",
          "2020-03-06T00:00:00",
          "2020-03-07T00:00:00",
          "2020-03-08T00:00:00",
          "2020-03-09T00:00:00",
          "2020-03-10T00:00:00",
          "2020-03-11T00:00:00",
          "2020-03-12T00:00:00",
          "2020-03-13T00:00:00",
          "2020-03-14T00:00:00",
          "2020-03-15T00:00:00",
          "2020-03-16T00:00:00",
          "2020-03-17T00:00:00",
          "2020-03-18T00:00:00",
          "2020-03-19T00:00:00",
          "2020-03-20T00:00:00",
          "2020-03-21T00:00:00",
          "2020-03-22T00:00:00",
          "2020-03-23T00:00:00",
          "2020-03-24T00:00:00",
          "2020-03-25T00:00:00",
          "2020-03-26T00:00:00",
          "2020-03-27T00:00:00",
          "2020-03-28T00:00:00",
          "2020-03-29T00:00:00",
          "2020-03-30T00:00:00",
          "2020-04-01T00:00:00",
          "2020-04-02T00:00:00",
          "2020-04-03T00:00:00",
          "2020-04-04T00:00:00",
          "2020-04-05T00:00:00",
          "2020-04-06T00:00:00",
          "2020-04-07T00:00:00",
          "2020-04-08T00:00:00",
          "2020-04-09T00:00:00",
          "2020-04-10T00:00:00",
          "2020-04-11T00:00:00",
          "2020-04-12T00:00:00",
          "2020-04-13T00:00:00",
          "2020-04-14T00:00:00",
          "2020-04-15T00:00:00",
          "2020-04-16T00:00:00",
          "2020-04-17T00:00:00",
          "2020-04-18T00:00:00",
          "2020-04-19T00:00:00",
          "2020-04-20T00:00:00",
          "2020-04-21T00:00:00",
          "2020-04-22T00:00:00",
          "2020-04-23T00:00:00",
          "2020-04-24T00:00:00",
          "2020-04-25T00:00:00",
          "2020-04-26T00:00:00",
          "2020-04-27T00:00:00",
          "2020-04-28T00:00:00",
          "2020-04-29T00:00:00",
          "2020-04-30T00:00:00",
          "2020-05-02T00:00:00",
          "2020-05-03T00:00:00",
          "2020-05-04T00:00:00",
          "2020-05-05T00:00:00",
          "2020-05-06T00:00:00",
          "2020-05-07T00:00:00",
          "2020-05-08T00:00:00",
          "2020-05-09T00:00:00",
          "2020-05-10T00:00:00",
          "2020-05-11T00:00:00",
          "2020-05-12T00:00:00",
          "2020-05-13T00:00:00",
          "2020-05-14T00:00:00",
          "2020-05-15T00:00:00",
          "2020-05-16T00:00:00",
          "2020-05-17T00:00:00",
          "2020-05-18T00:00:00",
          "2020-05-19T00:00:00",
          "2020-05-20T00:00:00",
          "2020-05-21T00:00:00",
          "2020-05-22T00:00:00",
          "2020-05-23T00:00:00",
          "2020-05-24T00:00:00",
          "2020-05-25T00:00:00",
          "2020-05-26T00:00:00",
          "2020-05-27T00:00:00",
          "2020-05-28T00:00:00",
          "2020-05-29T00:00:00",
          "2020-05-30T00:00:00",
          "2020-06-01T00:00:00",
          "2020-06-02T00:00:00",
          "2020-06-03T00:00:00",
          "2020-06-04T00:00:00",
          "2020-06-05T00:00:00",
          "2020-06-06T00:00:00",
          "2020-06-07T00:00:00",
          "2020-06-08T00:00:00",
          "2020-06-09T00:00:00",
          "2020-06-10T00:00:00",
          "2020-06-11T00:00:00",
          "2020-06-12T00:00:00",
          "2020-06-13T00:00:00",
          "2020-06-14T00:00:00",
          "2020-06-15T00:00:00",
          "2020-06-16T00:00:00",
          "2020-06-17T00:00:00",
          "2020-06-18T00:00:00",
          "2020-06-19T00:00:00",
          "2020-06-20T00:00:00",
          "2020-06-21T00:00:00",
          "2020-06-22T00:00:00",
          "2020-06-23T00:00:00",
          "2020-06-24T00:00:00",
          "2020-06-25T00:00:00",
          "2020-06-26T00:00:00",
          "2020-06-27T00:00:00",
          "2020-06-28T00:00:00",
          "2020-06-29T00:00:00",
          "2020-07-01T00:00:00",
          "2020-07-02T00:00:00",
          "2020-07-03T00:00:00",
          "2020-07-04T00:00:00",
          "2020-07-05T00:00:00",
          "2020-07-06T00:00:00",
          "2020-07-07T00:00:00",
          "2020-07-08T00:00:00",
          "2020-07-09T00:00:00",
          "2020-07-10T00:00:00",
          "2020-07-11T00:00:00",
          "2020-07-12T00:00:00",
          "2020-07-13T00:00:00",
          "2020-07-14T00:00:00",
          "2020-07-15T00:00:00",
          "2020-07-16T00:00:00",
          "2020-07-17T00:00:00",
          "2020-07-18T00:00:00",
          "2020-07-19T00:00:00",
          "2020-07-20T00:00:00",
          "2020-07-21T00:00:00",
          "2020-07-22T00:00:00",
          "2020-07-23T00:00:00",
          "2020-07-24T00:00:00",
          "2020-07-25T00:00:00",
          "2020-07-26T00:00:00",
          "2020-07-27T00:00:00",
          "2020-07-28T00:00:00",
          "2020-07-29T00:00:00",
          "2020-07-30T00:00:00"
         ],
         "xaxis": "x",
         "y": [
          1.6127672111471598,
          0.6909704120613727,
          1.770202385589391,
          1.804042593623697,
          1.8319049962732517,
          1.3482438848526905,
          1.926161430627147,
          1.561933945976187,
          0.9327333690095349,
          1.699543942866863,
          1.7870659342065538,
          1.8647840971550635,
          1.9230753128833091,
          1.9979037960749286,
          1.6662545643496203,
          0.9354369848469308,
          1.788049797377979,
          1.8002784803746525,
          1.8787382218224404,
          1.8534311862398933,
          1.935913388681059,
          1.666091256449057,
          0.9403429148105681,
          1.608692879816513,
          1.4061703349833672,
          1.3478777806657725,
          1.302424975382614,
          1.3784688977030148,
          0.40856888642329114,
          -0.2188757959649705,
          1.1665400855153045,
          1.5563068510008418,
          1.6360238624945633,
          1.4421231716575396,
          1.5322838572512059,
          0.7966841672996504,
          -0.06912010861725154,
          0.33143167125219447,
          0.38918611265154013,
          0.1669193749224463,
          -0.4519439457974968,
          -0.5339091181026585,
          -1.3888875526605111,
          -1.5598598811879436,
          -0.7526503461341454,
          -0.8268403222063503,
          -0.8277933978227513,
          -0.876529762778707,
          -0.8687963974629026,
          -1.4041752469667075,
          -1.7666344550878,
          -1.1290395843143348,
          -1.1592746365847757,
          -1.2340967614769882,
          -1.2722013805294816,
          -1.1854316764038602,
          -1.5195204872174985,
          -1.872821401660906,
          -1.1757533407641363,
          -1.2425717052920708,
          -1.2262057772653534,
          -1.2216676247253202,
          -1.5914107667883313,
          -1.8691305761787127,
          -1.197498055441982,
          -1.1817682920033188,
          -1.1832363898717004,
          -1.147307647805808,
          -1.0741959054541241,
          -1.4503572487976673,
          -1.7941745923516124,
          -1.9118138400990428,
          -1.0894909620017394,
          -1.081237554723896,
          -1.078255177654596,
          -1.0408891252753458,
          -1.4869696753734991,
          -1.8242801361025494,
          -1.1225276817793814,
          -1.0624146459473132,
          -0.9487556936287709,
          -0.9196045640835839,
          -0.8440458804021514,
          -1.4897198071907687,
          -1.6952156936151093,
          -0.8819226046179985,
          -0.9089785071848545,
          -0.8359989505313724,
          -0.8405277329459633,
          -1.2019515422056988,
          -1.5257623293513158,
          -0.17507313670164126,
          -0.2245249776645722,
          -0.20156381991593353,
          -0.18612352642396496,
          -0.1468539999906105,
          -0.5039170197990391,
          -0.9053549458174422,
          -0.4169120585953523,
          -0.18326998857949464,
          -0.340874829221696,
          -0.13291225727471068,
          -0.21538341635374825,
          -0.4606019417060386,
          -0.8113438079617289,
          0.08013929672937097,
          -0.035950533846733336,
          0.15274371371783008,
          0.18351487102249642,
          0.28023096330495467,
          0.0054102037969055335,
          -0.35650821422724016,
          0.22864976133529633,
          0.24530013959865046,
          0.28138482732368736,
          0.2675187149059991,
          0.3413402442599254,
          0.12610612032249846,
          0.2496227792535142,
          -0.4627031923364396,
          0.22075978106567318,
          0.1747879377624874,
          0.39874598313388837,
          0.2206413159082975,
          -0.6042670475163634,
          0.18118672949746065,
          0.302932434719911,
          0.3046230730675437,
          0.2831300131872868,
          0.3946994275322307,
          0.12912430465688074,
          -0.23204684586325391,
          0.3577945191836689,
          0.3153736187757188,
          0.28529016174903843,
          0.348814592536722,
          0.36760069010621066,
          0.19583123162152133,
          -0.2868031817684505,
          0.3659498747917071,
          0.35614269992715364,
          0.32763074679605586,
          0.403593015166175,
          0.45031748033076735,
          0.15917898201256023,
          -0.3390088356693603,
          0.3925493183905957,
          0.39868541196585167,
          0.1632526440485327,
          0.35355252953707506,
          0.07880773497457474,
          -0.35520877861681704,
          0.35430013168842334,
          0.33458337987412734,
          0.35739361167368,
          0.37592236544084695,
          0.42388100998510464,
          0.01698866701736155,
          -0.3649654217334503,
          0.3685922501663919,
          0.35675476990692806,
          0.3647993572463466,
          0.3787521433243747,
          0.44311285780776966,
          0.04264005470990742,
          -0.4322101269690026,
          0.31756589348184344,
          0.32671381309207453,
          0.30760946590489013,
          0.3378338094605399,
          0.3171887459327971,
          0.0031590311594302417,
          -0.45050864336816254,
          0.3170659303600376,
          0.33059973797186687,
          0.37664051862651987,
          0.378304385187175
         ],
         "yaxis": "y"
        }
       ],
       "layout": {
        "legend": {
         "title": {
          "text": "COMUNE"
         },
         "tracegroupgap": 0
        },
        "margin": {
         "t": 60
        },
        "template": {
         "data": {
          "bar": [
           {
            "error_x": {
             "color": "#2a3f5f"
            },
            "error_y": {
             "color": "#2a3f5f"
            },
            "marker": {
             "line": {
              "color": "#E5ECF6",
              "width": 0.5
             }
            },
            "type": "bar"
           }
          ],
          "barpolar": [
           {
            "marker": {
             "line": {
              "color": "#E5ECF6",
              "width": 0.5
             }
            },
            "type": "barpolar"
           }
          ],
          "carpet": [
           {
            "aaxis": {
             "endlinecolor": "#2a3f5f",
             "gridcolor": "white",
             "linecolor": "white",
             "minorgridcolor": "white",
             "startlinecolor": "#2a3f5f"
            },
            "baxis": {
             "endlinecolor": "#2a3f5f",
             "gridcolor": "white",
             "linecolor": "white",
             "minorgridcolor": "white",
             "startlinecolor": "#2a3f5f"
            },
            "type": "carpet"
           }
          ],
          "choropleth": [
           {
            "colorbar": {
             "outlinewidth": 0,
             "ticks": ""
            },
            "type": "choropleth"
           }
          ],
          "contour": [
           {
            "colorbar": {
             "outlinewidth": 0,
             "ticks": ""
            },
            "colorscale": [
             [
              0,
              "#0d0887"
             ],
             [
              0.1111111111111111,
              "#46039f"
             ],
             [
              0.2222222222222222,
              "#7201a8"
             ],
             [
              0.3333333333333333,
              "#9c179e"
             ],
             [
              0.4444444444444444,
              "#bd3786"
             ],
             [
              0.5555555555555556,
              "#d8576b"
             ],
             [
              0.6666666666666666,
              "#ed7953"
             ],
             [
              0.7777777777777778,
              "#fb9f3a"
             ],
             [
              0.8888888888888888,
              "#fdca26"
             ],
             [
              1,
              "#f0f921"
             ]
            ],
            "type": "contour"
           }
          ],
          "contourcarpet": [
           {
            "colorbar": {
             "outlinewidth": 0,
             "ticks": ""
            },
            "type": "contourcarpet"
           }
          ],
          "heatmap": [
           {
            "colorbar": {
             "outlinewidth": 0,
             "ticks": ""
            },
            "colorscale": [
             [
              0,
              "#0d0887"
             ],
             [
              0.1111111111111111,
              "#46039f"
             ],
             [
              0.2222222222222222,
              "#7201a8"
             ],
             [
              0.3333333333333333,
              "#9c179e"
             ],
             [
              0.4444444444444444,
              "#bd3786"
             ],
             [
              0.5555555555555556,
              "#d8576b"
             ],
             [
              0.6666666666666666,
              "#ed7953"
             ],
             [
              0.7777777777777778,
              "#fb9f3a"
             ],
             [
              0.8888888888888888,
              "#fdca26"
             ],
             [
              1,
              "#f0f921"
             ]
            ],
            "type": "heatmap"
           }
          ],
          "heatmapgl": [
           {
            "colorbar": {
             "outlinewidth": 0,
             "ticks": ""
            },
            "colorscale": [
             [
              0,
              "#0d0887"
             ],
             [
              0.1111111111111111,
              "#46039f"
             ],
             [
              0.2222222222222222,
              "#7201a8"
             ],
             [
              0.3333333333333333,
              "#9c179e"
             ],
             [
              0.4444444444444444,
              "#bd3786"
             ],
             [
              0.5555555555555556,
              "#d8576b"
             ],
             [
              0.6666666666666666,
              "#ed7953"
             ],
             [
              0.7777777777777778,
              "#fb9f3a"
             ],
             [
              0.8888888888888888,
              "#fdca26"
             ],
             [
              1,
              "#f0f921"
             ]
            ],
            "type": "heatmapgl"
           }
          ],
          "histogram": [
           {
            "marker": {
             "colorbar": {
              "outlinewidth": 0,
              "ticks": ""
             }
            },
            "type": "histogram"
           }
          ],
          "histogram2d": [
           {
            "colorbar": {
             "outlinewidth": 0,
             "ticks": ""
            },
            "colorscale": [
             [
              0,
              "#0d0887"
             ],
             [
              0.1111111111111111,
              "#46039f"
             ],
             [
              0.2222222222222222,
              "#7201a8"
             ],
             [
              0.3333333333333333,
              "#9c179e"
             ],
             [
              0.4444444444444444,
              "#bd3786"
             ],
             [
              0.5555555555555556,
              "#d8576b"
             ],
             [
              0.6666666666666666,
              "#ed7953"
             ],
             [
              0.7777777777777778,
              "#fb9f3a"
             ],
             [
              0.8888888888888888,
              "#fdca26"
             ],
             [
              1,
              "#f0f921"
             ]
            ],
            "type": "histogram2d"
           }
          ],
          "histogram2dcontour": [
           {
            "colorbar": {
             "outlinewidth": 0,
             "ticks": ""
            },
            "colorscale": [
             [
              0,
              "#0d0887"
             ],
             [
              0.1111111111111111,
              "#46039f"
             ],
             [
              0.2222222222222222,
              "#7201a8"
             ],
             [
              0.3333333333333333,
              "#9c179e"
             ],
             [
              0.4444444444444444,
              "#bd3786"
             ],
             [
              0.5555555555555556,
              "#d8576b"
             ],
             [
              0.6666666666666666,
              "#ed7953"
             ],
             [
              0.7777777777777778,
              "#fb9f3a"
             ],
             [
              0.8888888888888888,
              "#fdca26"
             ],
             [
              1,
              "#f0f921"
             ]
            ],
            "type": "histogram2dcontour"
           }
          ],
          "mesh3d": [
           {
            "colorbar": {
             "outlinewidth": 0,
             "ticks": ""
            },
            "type": "mesh3d"
           }
          ],
          "parcoords": [
           {
            "line": {
             "colorbar": {
              "outlinewidth": 0,
              "ticks": ""
             }
            },
            "type": "parcoords"
           }
          ],
          "pie": [
           {
            "automargin": true,
            "type": "pie"
           }
          ],
          "scatter": [
           {
            "marker": {
             "colorbar": {
              "outlinewidth": 0,
              "ticks": ""
             }
            },
            "type": "scatter"
           }
          ],
          "scatter3d": [
           {
            "line": {
             "colorbar": {
              "outlinewidth": 0,
              "ticks": ""
             }
            },
            "marker": {
             "colorbar": {
              "outlinewidth": 0,
              "ticks": ""
             }
            },
            "type": "scatter3d"
           }
          ],
          "scattercarpet": [
           {
            "marker": {
             "colorbar": {
              "outlinewidth": 0,
              "ticks": ""
             }
            },
            "type": "scattercarpet"
           }
          ],
          "scattergeo": [
           {
            "marker": {
             "colorbar": {
              "outlinewidth": 0,
              "ticks": ""
             }
            },
            "type": "scattergeo"
           }
          ],
          "scattergl": [
           {
            "marker": {
             "colorbar": {
              "outlinewidth": 0,
              "ticks": ""
             }
            },
            "type": "scattergl"
           }
          ],
          "scattermapbox": [
           {
            "marker": {
             "colorbar": {
              "outlinewidth": 0,
              "ticks": ""
             }
            },
            "type": "scattermapbox"
           }
          ],
          "scatterpolar": [
           {
            "marker": {
             "colorbar": {
              "outlinewidth": 0,
              "ticks": ""
             }
            },
            "type": "scatterpolar"
           }
          ],
          "scatterpolargl": [
           {
            "marker": {
             "colorbar": {
              "outlinewidth": 0,
              "ticks": ""
             }
            },
            "type": "scatterpolargl"
           }
          ],
          "scatterternary": [
           {
            "marker": {
             "colorbar": {
              "outlinewidth": 0,
              "ticks": ""
             }
            },
            "type": "scatterternary"
           }
          ],
          "surface": [
           {
            "colorbar": {
             "outlinewidth": 0,
             "ticks": ""
            },
            "colorscale": [
             [
              0,
              "#0d0887"
             ],
             [
              0.1111111111111111,
              "#46039f"
             ],
             [
              0.2222222222222222,
              "#7201a8"
             ],
             [
              0.3333333333333333,
              "#9c179e"
             ],
             [
              0.4444444444444444,
              "#bd3786"
             ],
             [
              0.5555555555555556,
              "#d8576b"
             ],
             [
              0.6666666666666666,
              "#ed7953"
             ],
             [
              0.7777777777777778,
              "#fb9f3a"
             ],
             [
              0.8888888888888888,
              "#fdca26"
             ],
             [
              1,
              "#f0f921"
             ]
            ],
            "type": "surface"
           }
          ],
          "table": [
           {
            "cells": {
             "fill": {
              "color": "#EBF0F8"
             },
             "line": {
              "color": "white"
             }
            },
            "header": {
             "fill": {
              "color": "#C8D4E3"
             },
             "line": {
              "color": "white"
             }
            },
            "type": "table"
           }
          ]
         },
         "layout": {
          "annotationdefaults": {
           "arrowcolor": "#2a3f5f",
           "arrowhead": 0,
           "arrowwidth": 1
          },
          "autotypenumbers": "strict",
          "coloraxis": {
           "colorbar": {
            "outlinewidth": 0,
            "ticks": ""
           }
          },
          "colorscale": {
           "diverging": [
            [
             0,
             "#8e0152"
            ],
            [
             0.1,
             "#c51b7d"
            ],
            [
             0.2,
             "#de77ae"
            ],
            [
             0.3,
             "#f1b6da"
            ],
            [
             0.4,
             "#fde0ef"
            ],
            [
             0.5,
             "#f7f7f7"
            ],
            [
             0.6,
             "#e6f5d0"
            ],
            [
             0.7,
             "#b8e186"
            ],
            [
             0.8,
             "#7fbc41"
            ],
            [
             0.9,
             "#4d9221"
            ],
            [
             1,
             "#276419"
            ]
           ],
           "sequential": [
            [
             0,
             "#0d0887"
            ],
            [
             0.1111111111111111,
             "#46039f"
            ],
            [
             0.2222222222222222,
             "#7201a8"
            ],
            [
             0.3333333333333333,
             "#9c179e"
            ],
            [
             0.4444444444444444,
             "#bd3786"
            ],
            [
             0.5555555555555556,
             "#d8576b"
            ],
            [
             0.6666666666666666,
             "#ed7953"
            ],
            [
             0.7777777777777778,
             "#fb9f3a"
            ],
            [
             0.8888888888888888,
             "#fdca26"
            ],
            [
             1,
             "#f0f921"
            ]
           ],
           "sequentialminus": [
            [
             0,
             "#0d0887"
            ],
            [
             0.1111111111111111,
             "#46039f"
            ],
            [
             0.2222222222222222,
             "#7201a8"
            ],
            [
             0.3333333333333333,
             "#9c179e"
            ],
            [
             0.4444444444444444,
             "#bd3786"
            ],
            [
             0.5555555555555556,
             "#d8576b"
            ],
            [
             0.6666666666666666,
             "#ed7953"
            ],
            [
             0.7777777777777778,
             "#fb9f3a"
            ],
            [
             0.8888888888888888,
             "#fdca26"
            ],
            [
             1,
             "#f0f921"
            ]
           ]
          },
          "colorway": [
           "#636efa",
           "#EF553B",
           "#00cc96",
           "#ab63fa",
           "#FFA15A",
           "#19d3f3",
           "#FF6692",
           "#B6E880",
           "#FF97FF",
           "#FECB52"
          ],
          "font": {
           "color": "#2a3f5f"
          },
          "geo": {
           "bgcolor": "white",
           "lakecolor": "white",
           "landcolor": "#E5ECF6",
           "showlakes": true,
           "showland": true,
           "subunitcolor": "white"
          },
          "hoverlabel": {
           "align": "left"
          },
          "hovermode": "closest",
          "mapbox": {
           "style": "light"
          },
          "paper_bgcolor": "white",
          "plot_bgcolor": "#E5ECF6",
          "polar": {
           "angularaxis": {
            "gridcolor": "white",
            "linecolor": "white",
            "ticks": ""
           },
           "bgcolor": "#E5ECF6",
           "radialaxis": {
            "gridcolor": "white",
            "linecolor": "white",
            "ticks": ""
           }
          },
          "scene": {
           "xaxis": {
            "backgroundcolor": "#E5ECF6",
            "gridcolor": "white",
            "gridwidth": 2,
            "linecolor": "white",
            "showbackground": true,
            "ticks": "",
            "zerolinecolor": "white"
           },
           "yaxis": {
            "backgroundcolor": "#E5ECF6",
            "gridcolor": "white",
            "gridwidth": 2,
            "linecolor": "white",
            "showbackground": true,
            "ticks": "",
            "zerolinecolor": "white"
           },
           "zaxis": {
            "backgroundcolor": "#E5ECF6",
            "gridcolor": "white",
            "gridwidth": 2,
            "linecolor": "white",
            "showbackground": true,
            "ticks": "",
            "zerolinecolor": "white"
           }
          },
          "shapedefaults": {
           "line": {
            "color": "#2a3f5f"
           }
          },
          "ternary": {
           "aaxis": {
            "gridcolor": "white",
            "linecolor": "white",
            "ticks": ""
           },
           "baxis": {
            "gridcolor": "white",
            "linecolor": "white",
            "ticks": ""
           },
           "bgcolor": "#E5ECF6",
           "caxis": {
            "gridcolor": "white",
            "linecolor": "white",
            "ticks": ""
           }
          },
          "title": {
           "x": 0.05
          },
          "xaxis": {
           "automargin": true,
           "gridcolor": "white",
           "linecolor": "white",
           "ticks": "",
           "title": {
            "standoff": 15
           },
           "zerolinecolor": "white",
           "zerolinewidth": 2
          },
          "yaxis": {
           "automargin": true,
           "gridcolor": "white",
           "linecolor": "white",
           "ticks": "",
           "title": {
            "standoff": 15
           },
           "zerolinecolor": "white",
           "zerolinewidth": 2
          }
         }
        },
        "xaxis": {
         "anchor": "y",
         "domain": [
          0,
          1
         ],
         "title": {
          "text": "Date"
         }
        },
        "yaxis": {
         "anchor": "x",
         "domain": [
          0,
          1
         ],
         "title": {
          "text": "NORM_Hin_Succ"
         }
        }
       }
      },
      "text/html": [
       "<div>                            <div id=\"e814729c-266d-48ec-8160-7a255368815e\" class=\"plotly-graph-div\" style=\"height:525px; width:100%;\"></div>            <script type=\"text/javascript\">                require([\"plotly\"], function(Plotly) {                    window.PLOTLYENV=window.PLOTLYENV || {};                                    if (document.getElementById(\"e814729c-266d-48ec-8160-7a255368815e\")) {                    Plotly.newPlot(                        \"e814729c-266d-48ec-8160-7a255368815e\",                        [{\"hovertemplate\": \"COMUNE=ROMA<br>Date=%{x}<br>NORM_Hin_Succ=%{y}<extra></extra>\", \"legendgroup\": \"ROMA\", \"line\": {\"color\": \"#636efa\", \"dash\": \"solid\"}, \"mode\": \"lines\", \"name\": \"ROMA\", \"orientation\": \"v\", \"showlegend\": true, \"type\": \"scatter\", \"x\": [\"2020-01-01T00:00:00\", \"2020-01-02T00:00:00\", \"2020-01-03T00:00:00\", \"2020-01-04T00:00:00\", \"2020-01-05T00:00:00\", \"2020-01-06T00:00:00\", \"2020-01-07T00:00:00\", \"2020-01-08T00:00:00\", \"2020-01-09T00:00:00\", \"2020-01-10T00:00:00\", \"2020-01-11T00:00:00\", \"2020-01-12T00:00:00\", \"2020-01-13T00:00:00\", \"2020-01-14T00:00:00\", \"2020-01-15T00:00:00\", \"2020-01-16T00:00:00\", \"2020-01-17T00:00:00\", \"2020-01-18T00:00:00\", \"2020-01-19T00:00:00\", \"2020-01-20T00:00:00\", \"2020-01-21T00:00:00\", \"2020-01-22T00:00:00\", \"2020-01-23T00:00:00\", \"2020-01-24T00:00:00\", \"2020-01-25T00:00:00\", \"2020-01-26T00:00:00\", \"2020-01-27T00:00:00\", \"2020-01-28T00:00:00\", \"2020-01-29T00:00:00\", \"2020-01-30T00:00:00\", \"2020-02-01T00:00:00\", \"2020-02-02T00:00:00\", \"2020-02-03T00:00:00\", \"2020-02-04T00:00:00\", \"2020-02-05T00:00:00\", \"2020-02-06T00:00:00\", \"2020-02-07T00:00:00\", \"2020-02-08T00:00:00\", \"2020-02-09T00:00:00\", \"2020-02-10T00:00:00\", \"2020-02-11T00:00:00\", \"2020-02-12T00:00:00\", \"2020-02-13T00:00:00\", \"2020-02-14T00:00:00\", \"2020-02-15T00:00:00\", \"2020-02-16T00:00:00\", \"2020-02-17T00:00:00\", \"2020-02-18T00:00:00\", \"2020-02-19T00:00:00\", \"2020-02-20T00:00:00\", \"2020-02-21T00:00:00\", \"2020-02-22T00:00:00\", \"2020-02-23T00:00:00\", \"2020-02-24T00:00:00\", \"2020-02-25T00:00:00\", \"2020-02-26T00:00:00\", \"2020-02-27T00:00:00\", \"2020-02-28T00:00:00\", \"2020-02-29T00:00:00\", \"2020-03-01T00:00:00\", \"2020-03-02T00:00:00\", \"2020-03-03T00:00:00\", \"2020-03-04T00:00:00\", \"2020-03-05T00:00:00\", \"2020-03-06T00:00:00\", \"2020-03-07T00:00:00\", \"2020-03-08T00:00:00\", \"2020-03-09T00:00:00\", \"2020-03-10T00:00:00\", \"2020-03-11T00:00:00\", \"2020-03-12T00:00:00\", \"2020-03-13T00:00:00\", \"2020-03-14T00:00:00\", \"2020-03-15T00:00:00\", \"2020-03-16T00:00:00\", \"2020-03-17T00:00:00\", \"2020-03-18T00:00:00\", \"2020-03-19T00:00:00\", \"2020-03-20T00:00:00\", \"2020-03-21T00:00:00\", \"2020-03-22T00:00:00\", \"2020-03-23T00:00:00\", \"2020-03-24T00:00:00\", \"2020-03-25T00:00:00\", \"2020-03-26T00:00:00\", \"2020-03-27T00:00:00\", \"2020-03-28T00:00:00\", \"2020-03-29T00:00:00\", \"2020-03-30T00:00:00\", \"2020-04-01T00:00:00\", \"2020-04-02T00:00:00\", \"2020-04-03T00:00:00\", \"2020-04-04T00:00:00\", \"2020-04-05T00:00:00\", \"2020-04-06T00:00:00\", \"2020-04-07T00:00:00\", \"2020-04-08T00:00:00\", \"2020-04-09T00:00:00\", \"2020-04-10T00:00:00\", \"2020-04-11T00:00:00\", \"2020-04-12T00:00:00\", \"2020-04-13T00:00:00\", \"2020-04-14T00:00:00\", \"2020-04-15T00:00:00\", \"2020-04-16T00:00:00\", \"2020-04-17T00:00:00\", \"2020-04-18T00:00:00\", \"2020-04-19T00:00:00\", \"2020-04-20T00:00:00\", \"2020-04-21T00:00:00\", \"2020-04-22T00:00:00\", \"2020-04-23T00:00:00\", \"2020-04-24T00:00:00\", \"2020-04-25T00:00:00\", \"2020-04-26T00:00:00\", \"2020-04-27T00:00:00\", \"2020-04-28T00:00:00\", \"2020-04-29T00:00:00\", \"2020-04-30T00:00:00\", \"2020-05-01T00:00:00\", \"2020-05-02T00:00:00\", \"2020-05-03T00:00:00\", \"2020-05-04T00:00:00\", \"2020-05-05T00:00:00\", \"2020-05-06T00:00:00\", \"2020-05-07T00:00:00\", \"2020-05-08T00:00:00\", \"2020-05-09T00:00:00\", \"2020-05-10T00:00:00\", \"2020-05-11T00:00:00\", \"2020-05-12T00:00:00\", \"2020-05-13T00:00:00\", \"2020-05-14T00:00:00\", \"2020-05-15T00:00:00\", \"2020-05-16T00:00:00\", \"2020-05-17T00:00:00\", \"2020-05-18T00:00:00\", \"2020-05-19T00:00:00\", \"2020-05-20T00:00:00\", \"2020-05-21T00:00:00\", \"2020-05-22T00:00:00\", \"2020-05-23T00:00:00\", \"2020-05-24T00:00:00\", \"2020-05-25T00:00:00\", \"2020-05-26T00:00:00\", \"2020-05-27T00:00:00\", \"2020-05-28T00:00:00\", \"2020-05-29T00:00:00\", \"2020-05-30T00:00:00\", \"2020-06-01T00:00:00\", \"2020-06-02T00:00:00\", \"2020-06-03T00:00:00\", \"2020-06-04T00:00:00\", \"2020-06-05T00:00:00\", \"2020-06-06T00:00:00\", \"2020-06-07T00:00:00\", \"2020-06-08T00:00:00\", \"2020-06-09T00:00:00\", \"2020-06-10T00:00:00\", \"2020-06-11T00:00:00\", \"2020-06-12T00:00:00\", \"2020-06-13T00:00:00\", \"2020-06-14T00:00:00\", \"2020-06-15T00:00:00\", \"2020-06-16T00:00:00\", \"2020-06-17T00:00:00\", \"2020-06-18T00:00:00\", \"2020-06-19T00:00:00\", \"2020-06-20T00:00:00\", \"2020-06-21T00:00:00\", \"2020-06-22T00:00:00\", \"2020-06-23T00:00:00\", \"2020-06-24T00:00:00\", \"2020-06-25T00:00:00\", \"2020-06-26T00:00:00\", \"2020-06-27T00:00:00\", \"2020-06-28T00:00:00\", \"2020-06-29T00:00:00\", \"2020-07-01T00:00:00\", \"2020-07-02T00:00:00\", \"2020-07-03T00:00:00\", \"2020-07-04T00:00:00\", \"2020-07-05T00:00:00\", \"2020-07-06T00:00:00\", \"2020-07-07T00:00:00\", \"2020-07-08T00:00:00\", \"2020-07-09T00:00:00\", \"2020-07-10T00:00:00\", \"2020-07-11T00:00:00\", \"2020-07-12T00:00:00\", \"2020-07-13T00:00:00\", \"2020-07-14T00:00:00\", \"2020-07-15T00:00:00\", \"2020-07-16T00:00:00\", \"2020-07-17T00:00:00\", \"2020-07-18T00:00:00\", \"2020-07-19T00:00:00\", \"2020-07-20T00:00:00\", \"2020-07-21T00:00:00\", \"2020-07-22T00:00:00\", \"2020-07-23T00:00:00\", \"2020-07-24T00:00:00\", \"2020-07-25T00:00:00\", \"2020-07-26T00:00:00\", \"2020-07-27T00:00:00\", \"2020-07-28T00:00:00\", \"2020-07-29T00:00:00\", \"2020-07-30T00:00:00\"], \"xaxis\": \"x\", \"y\": [-0.06729987192531307, 0.32740294593887204, 0.5303136404680869, 0.29888218408761796, -0.06574329202066372, -0.24617253708044964, 0.8133000616792307, 0.8419476431325352, 0.8617042950255985, 0.9552555467570418, 0.6378048347658537, -0.006081934329009459, 0.8483501787705685, 0.873488760323994, 0.8411257475428324, 0.8419681616443723, 0.987844779930931, 0.6072510075684017, -0.11370207607449861, 0.7572029670793364, 0.8187476201796761, 0.8698518768992286, 0.7475861077691991, 0.9895424056058377, 0.8368761661557159, 0.21711561043913735, 0.8221264263222248, 0.8271799078042181, 0.8762522542937946, 0.9210164732424796, 0.7877781031313037, 0.1402143255218605, 0.8679998608219215, 0.8903028752328567, 0.9321779357259126, 0.9874662361858845, 1.010189986481762, 0.7934694823479636, 0.0970492737890599, 0.8218714192173348, 0.7849077001153834, 0.7740830148062354, 0.8627466050291238, 1.0021522014448065, 0.9083153320285919, 0.3412782627923576, 0.7843064317240704, 0.7136928395741302, 0.730149871581438, 0.714485127711197, 0.8962082245307325, 0.9197574877539554, 0.349517706803427, 0.6705331074555095, 0.702918462616227, 0.7611092357661755, 0.734017139896889, 0.9650224495848496, 0.8557094850161132, 0.04814660779292674, 0.7095298919036589, 0.6706309275608303, 0.7731856110929723, 0.8248031345864035, 0.920602212087939, 0.6206768930181682, -0.020870370555935464, 0.7415836071174994, 0.4225681686125177, 0.10213959739897395, -0.4481374650040568, -0.8678467860010276, -1.9408134524653642, -2.2495904271438305, -0.9968635710945714, -1.2364400863316594, -1.1259223659412392, -1.0484480825822915, -1.0582220984942028, -2.013418586573103, -2.5458651837809443, -1.2034551346583713, -1.3523342039836947, -1.4849751054279718, -1.7684652485052657, -1.5488966837351026, -2.1619011166585542, -2.7170953264315947, -1.2937189256221848, -1.203312660191734, -1.3917324825123527, -1.31841424652434, -1.995607727955891, -2.5832668743177813, -1.214113726413923, -1.2853264591095042, -1.293582773896973, -1.246920303824308, -1.139190334844349, -1.7552206555067524, -2.344933416124473, -2.7651766439983407, -1.432040962226101, -0.995889777721684, -1.0622713280124039, -1.008521672757846, -1.8659913159519814, -2.543411899312324, -1.3045825505071302, -1.1903384251847444, -1.2611342217197974, -0.9284646711178308, -0.7312617098191547, -2.2416298221091773, -2.140024005757765, -0.6711744182195593, -0.6956936750912552, -0.7897382830406464, -0.6137862076614937, -2.242951579045025, -1.3977006336553475, -2.024390427609367, 0.10562476542732668, -0.0172513002392241, 0.060263776961035166, 0.09215528953907969, 0.1061741447820385, -0.5409952822287948, -1.1724229677538565, 0.16246168156957558, 0.2526648289317375, 0.1792262176742809, 0.2157997506755804, 0.28657867643423407, -0.33775477162042183, -1.0102996702035634, 0.554232024119809, 0.585625955186357, 0.512283887326818, 0.6788479683967532, 0.7066011555185308, 0.28572443759031707, -0.3449343964978649, 0.659959112764317, 0.6687598520658612, 0.6915552803630897, 0.5852720032577194, 0.30161853282620305, 0.04892652402730073, 0.5436469950289173, -0.4678902867749105, 0.7498620211021615, 0.8003565588433037, 0.8454764927927543, 0.48597334917285245, -0.20008853705261215, 0.7676168565826097, 0.8440153619653913, 0.8367875869801706, 0.531897578388519, 0.9181776231380954, 0.3466440512234081, -0.2324266844372068, 0.8310041632392997, 0.8605418833327871, 0.7388650714869684, 0.9270456327606698, 0.910933220558838, 0.4778138209656639, -0.2696247705410299, 0.8035110596542295, 0.8608357084222933, 0.9077087744208943, 0.9814048854024566, 0.9937525914502272, 0.201564736710143, -0.7441697688257455, -0.3892370553225006, 0.8430627254580425, 0.9040396997308913, 0.9486713842920067, 0.1830177954793998, -0.45738711894679984, 0.7321242995804751, 0.7080658124901503, 0.7475770492261955, 0.8584087180466198, 0.8805408664500944, 0.027734974604230446, -0.6562423524097741, 0.6678886816499543, 0.6745924898373458, 0.6775453924697484, 0.6831234791032726, 0.6988582594939173, -0.0939423236063133, -0.768842656154959, 0.5312730860815861, 0.5520364825576571, 0.5117086394482938, 0.6608958208269211, 0.7039568209063615, -0.10060773937822298, -0.8656520043837587, 0.5376199025608086, 0.5407077106088154, 0.588740695681012, 0.5784283956096785], \"yaxis\": \"y\"}, {\"hovertemplate\": \"COMUNE=MILANO<br>Date=%{x}<br>NORM_Hin_Succ=%{y}<extra></extra>\", \"legendgroup\": \"MILANO\", \"line\": {\"color\": \"#EF553B\", \"dash\": \"solid\"}, \"mode\": \"lines\", \"name\": \"MILANO\", \"orientation\": \"v\", \"showlegend\": true, \"type\": \"scatter\", \"x\": [\"2020-02-01T00:00:00\", \"2020-02-02T00:00:00\", \"2020-02-03T00:00:00\", \"2020-02-04T00:00:00\", \"2020-02-05T00:00:00\", \"2020-02-06T00:00:00\", \"2020-02-07T00:00:00\", \"2020-02-08T00:00:00\", \"2020-02-09T00:00:00\", \"2020-02-10T00:00:00\", \"2020-02-11T00:00:00\", \"2020-02-12T00:00:00\", \"2020-02-13T00:00:00\", \"2020-02-14T00:00:00\", \"2020-02-15T00:00:00\", \"2020-02-16T00:00:00\", \"2020-02-17T00:00:00\", \"2020-02-18T00:00:00\", \"2020-02-19T00:00:00\", \"2020-02-20T00:00:00\", \"2020-02-21T00:00:00\", \"2020-02-22T00:00:00\", \"2020-02-23T00:00:00\", \"2020-02-24T00:00:00\", \"2020-02-25T00:00:00\", \"2020-02-26T00:00:00\", \"2020-02-27T00:00:00\", \"2020-02-28T00:00:00\", \"2020-02-29T00:00:00\", \"2020-03-01T00:00:00\", \"2020-03-02T00:00:00\", \"2020-03-03T00:00:00\", \"2020-03-04T00:00:00\", \"2020-03-05T00:00:00\", \"2020-03-06T00:00:00\", \"2020-03-07T00:00:00\", \"2020-03-08T00:00:00\", \"2020-03-09T00:00:00\", \"2020-03-10T00:00:00\", \"2020-03-11T00:00:00\", \"2020-03-12T00:00:00\", \"2020-03-13T00:00:00\", \"2020-03-14T00:00:00\", \"2020-03-15T00:00:00\", \"2020-03-16T00:00:00\", \"2020-03-17T00:00:00\", \"2020-03-18T00:00:00\", \"2020-03-19T00:00:00\", \"2020-03-20T00:00:00\", \"2020-03-21T00:00:00\", \"2020-03-22T00:00:00\", \"2020-03-23T00:00:00\", \"2020-03-24T00:00:00\", \"2020-03-25T00:00:00\", \"2020-03-26T00:00:00\", \"2020-03-27T00:00:00\", \"2020-03-28T00:00:00\", \"2020-03-29T00:00:00\", \"2020-03-30T00:00:00\", \"2020-04-01T00:00:00\", \"2020-04-02T00:00:00\", \"2020-04-03T00:00:00\", \"2020-04-04T00:00:00\", \"2020-04-05T00:00:00\", \"2020-04-06T00:00:00\", \"2020-04-07T00:00:00\", \"2020-04-08T00:00:00\", \"2020-04-09T00:00:00\", \"2020-04-10T00:00:00\", \"2020-04-11T00:00:00\", \"2020-04-12T00:00:00\", \"2020-04-13T00:00:00\", \"2020-04-14T00:00:00\", \"2020-04-15T00:00:00\", \"2020-04-16T00:00:00\", \"2020-04-17T00:00:00\", \"2020-04-18T00:00:00\", \"2020-04-19T00:00:00\", \"2020-04-20T00:00:00\", \"2020-04-21T00:00:00\", \"2020-04-22T00:00:00\", \"2020-04-23T00:00:00\", \"2020-04-24T00:00:00\", \"2020-04-25T00:00:00\", \"2020-04-26T00:00:00\", \"2020-04-27T00:00:00\", \"2020-04-28T00:00:00\", \"2020-04-29T00:00:00\", \"2020-04-30T00:00:00\", \"2020-05-02T00:00:00\", \"2020-05-03T00:00:00\", \"2020-05-04T00:00:00\", \"2020-05-05T00:00:00\", \"2020-05-06T00:00:00\", \"2020-05-07T00:00:00\", \"2020-05-08T00:00:00\", \"2020-05-09T00:00:00\", \"2020-05-10T00:00:00\", \"2020-05-11T00:00:00\", \"2020-05-12T00:00:00\", \"2020-05-13T00:00:00\", \"2020-05-14T00:00:00\", \"2020-05-15T00:00:00\", \"2020-05-16T00:00:00\", \"2020-05-17T00:00:00\", \"2020-05-18T00:00:00\", \"2020-05-19T00:00:00\", \"2020-05-20T00:00:00\", \"2020-05-21T00:00:00\", \"2020-05-22T00:00:00\", \"2020-05-23T00:00:00\", \"2020-05-24T00:00:00\", \"2020-05-25T00:00:00\", \"2020-05-26T00:00:00\", \"2020-05-27T00:00:00\", \"2020-05-28T00:00:00\", \"2020-05-29T00:00:00\", \"2020-05-30T00:00:00\", \"2020-06-01T00:00:00\", \"2020-06-02T00:00:00\", \"2020-06-03T00:00:00\", \"2020-06-04T00:00:00\", \"2020-06-05T00:00:00\", \"2020-06-06T00:00:00\", \"2020-06-07T00:00:00\", \"2020-06-08T00:00:00\", \"2020-06-09T00:00:00\", \"2020-06-10T00:00:00\", \"2020-06-11T00:00:00\", \"2020-06-12T00:00:00\", \"2020-06-13T00:00:00\", \"2020-06-14T00:00:00\", \"2020-06-15T00:00:00\", \"2020-06-16T00:00:00\", \"2020-06-17T00:00:00\", \"2020-06-18T00:00:00\", \"2020-06-19T00:00:00\", \"2020-06-20T00:00:00\", \"2020-06-21T00:00:00\", \"2020-06-22T00:00:00\", \"2020-06-23T00:00:00\", \"2020-06-24T00:00:00\", \"2020-06-25T00:00:00\", \"2020-06-26T00:00:00\", \"2020-06-27T00:00:00\", \"2020-06-28T00:00:00\", \"2020-06-29T00:00:00\", \"2020-07-01T00:00:00\", \"2020-07-02T00:00:00\", \"2020-07-03T00:00:00\", \"2020-07-04T00:00:00\", \"2020-07-05T00:00:00\", \"2020-07-06T00:00:00\", \"2020-07-07T00:00:00\", \"2020-07-08T00:00:00\", \"2020-07-09T00:00:00\", \"2020-07-10T00:00:00\", \"2020-07-11T00:00:00\", \"2020-07-12T00:00:00\", \"2020-07-13T00:00:00\", \"2020-07-14T00:00:00\", \"2020-07-15T00:00:00\", \"2020-07-16T00:00:00\", \"2020-07-17T00:00:00\", \"2020-07-18T00:00:00\", \"2020-07-19T00:00:00\", \"2020-07-20T00:00:00\", \"2020-07-21T00:00:00\", \"2020-07-22T00:00:00\", \"2020-07-23T00:00:00\", \"2020-07-24T00:00:00\", \"2020-07-25T00:00:00\", \"2020-07-26T00:00:00\", \"2020-07-27T00:00:00\", \"2020-07-28T00:00:00\", \"2020-07-29T00:00:00\", \"2020-07-30T00:00:00\"], \"xaxis\": \"x\", \"y\": [1.6127672111471598, 0.6909704120613727, 1.770202385589391, 1.804042593623697, 1.8319049962732517, 1.3482438848526905, 1.926161430627147, 1.561933945976187, 0.9327333690095349, 1.699543942866863, 1.7870659342065538, 1.8647840971550635, 1.9230753128833091, 1.9979037960749286, 1.6662545643496203, 0.9354369848469308, 1.788049797377979, 1.8002784803746525, 1.8787382218224404, 1.8534311862398933, 1.935913388681059, 1.666091256449057, 0.9403429148105681, 1.608692879816513, 1.4061703349833672, 1.3478777806657725, 1.302424975382614, 1.3784688977030148, 0.40856888642329114, -0.2188757959649705, 1.1665400855153045, 1.5563068510008418, 1.6360238624945633, 1.4421231716575396, 1.5322838572512059, 0.7966841672996504, -0.06912010861725154, 0.33143167125219447, 0.38918611265154013, 0.1669193749224463, -0.4519439457974968, -0.5339091181026585, -1.3888875526605111, -1.5598598811879436, -0.7526503461341454, -0.8268403222063503, -0.8277933978227513, -0.876529762778707, -0.8687963974629026, -1.4041752469667075, -1.7666344550878, -1.1290395843143348, -1.1592746365847757, -1.2340967614769882, -1.2722013805294816, -1.1854316764038602, -1.5195204872174985, -1.872821401660906, -1.1757533407641363, -1.2425717052920708, -1.2262057772653534, -1.2216676247253202, -1.5914107667883313, -1.8691305761787127, -1.197498055441982, -1.1817682920033188, -1.1832363898717004, -1.147307647805808, -1.0741959054541241, -1.4503572487976673, -1.7941745923516124, -1.9118138400990428, -1.0894909620017394, -1.081237554723896, -1.078255177654596, -1.0408891252753458, -1.4869696753734991, -1.8242801361025494, -1.1225276817793814, -1.0624146459473132, -0.9487556936287709, -0.9196045640835839, -0.8440458804021514, -1.4897198071907687, -1.6952156936151093, -0.8819226046179985, -0.9089785071848545, -0.8359989505313724, -0.8405277329459633, -1.2019515422056988, -1.5257623293513158, -0.17507313670164126, -0.2245249776645722, -0.20156381991593353, -0.18612352642396496, -0.1468539999906105, -0.5039170197990391, -0.9053549458174422, -0.4169120585953523, -0.18326998857949464, -0.340874829221696, -0.13291225727471068, -0.21538341635374825, -0.4606019417060386, -0.8113438079617289, 0.08013929672937097, -0.035950533846733336, 0.15274371371783008, 0.18351487102249642, 0.28023096330495467, 0.0054102037969055335, -0.35650821422724016, 0.22864976133529633, 0.24530013959865046, 0.28138482732368736, 0.2675187149059991, 0.3413402442599254, 0.12610612032249846, 0.2496227792535142, -0.4627031923364396, 0.22075978106567318, 0.1747879377624874, 0.39874598313388837, 0.2206413159082975, -0.6042670475163634, 0.18118672949746065, 0.302932434719911, 0.3046230730675437, 0.2831300131872868, 0.3946994275322307, 0.12912430465688074, -0.23204684586325391, 0.3577945191836689, 0.3153736187757188, 0.28529016174903843, 0.348814592536722, 0.36760069010621066, 0.19583123162152133, -0.2868031817684505, 0.3659498747917071, 0.35614269992715364, 0.32763074679605586, 0.403593015166175, 0.45031748033076735, 0.15917898201256023, -0.3390088356693603, 0.3925493183905957, 0.39868541196585167, 0.1632526440485327, 0.35355252953707506, 0.07880773497457474, -0.35520877861681704, 0.35430013168842334, 0.33458337987412734, 0.35739361167368, 0.37592236544084695, 0.42388100998510464, 0.01698866701736155, -0.3649654217334503, 0.3685922501663919, 0.35675476990692806, 0.3647993572463466, 0.3787521433243747, 0.44311285780776966, 0.04264005470990742, -0.4322101269690026, 0.31756589348184344, 0.32671381309207453, 0.30760946590489013, 0.3378338094605399, 0.3171887459327971, 0.0031590311594302417, -0.45050864336816254, 0.3170659303600376, 0.33059973797186687, 0.37664051862651987, 0.378304385187175], \"yaxis\": \"y\"}],                        {\"legend\": {\"title\": {\"text\": \"COMUNE\"}, \"tracegroupgap\": 0}, \"margin\": {\"t\": 60}, \"template\": {\"data\": {\"bar\": [{\"error_x\": {\"color\": \"#2a3f5f\"}, \"error_y\": {\"color\": \"#2a3f5f\"}, \"marker\": {\"line\": {\"color\": \"#E5ECF6\", \"width\": 0.5}}, \"type\": \"bar\"}], \"barpolar\": [{\"marker\": {\"line\": {\"color\": \"#E5ECF6\", \"width\": 0.5}}, \"type\": \"barpolar\"}], \"carpet\": [{\"aaxis\": {\"endlinecolor\": \"#2a3f5f\", \"gridcolor\": \"white\", \"linecolor\": \"white\", \"minorgridcolor\": \"white\", \"startlinecolor\": \"#2a3f5f\"}, \"baxis\": {\"endlinecolor\": \"#2a3f5f\", \"gridcolor\": \"white\", \"linecolor\": \"white\", \"minorgridcolor\": \"white\", \"startlinecolor\": \"#2a3f5f\"}, \"type\": \"carpet\"}], \"choropleth\": [{\"colorbar\": {\"outlinewidth\": 0, \"ticks\": \"\"}, \"type\": \"choropleth\"}], \"contour\": [{\"colorbar\": {\"outlinewidth\": 0, \"ticks\": \"\"}, \"colorscale\": [[0.0, \"#0d0887\"], [0.1111111111111111, \"#46039f\"], [0.2222222222222222, \"#7201a8\"], [0.3333333333333333, \"#9c179e\"], [0.4444444444444444, \"#bd3786\"], [0.5555555555555556, \"#d8576b\"], [0.6666666666666666, \"#ed7953\"], [0.7777777777777778, \"#fb9f3a\"], [0.8888888888888888, \"#fdca26\"], [1.0, \"#f0f921\"]], \"type\": \"contour\"}], \"contourcarpet\": [{\"colorbar\": {\"outlinewidth\": 0, \"ticks\": \"\"}, \"type\": \"contourcarpet\"}], \"heatmap\": [{\"colorbar\": {\"outlinewidth\": 0, \"ticks\": \"\"}, \"colorscale\": [[0.0, \"#0d0887\"], [0.1111111111111111, \"#46039f\"], [0.2222222222222222, \"#7201a8\"], [0.3333333333333333, \"#9c179e\"], [0.4444444444444444, \"#bd3786\"], [0.5555555555555556, \"#d8576b\"], [0.6666666666666666, \"#ed7953\"], [0.7777777777777778, \"#fb9f3a\"], [0.8888888888888888, \"#fdca26\"], [1.0, \"#f0f921\"]], \"type\": \"heatmap\"}], \"heatmapgl\": [{\"colorbar\": {\"outlinewidth\": 0, \"ticks\": \"\"}, \"colorscale\": [[0.0, \"#0d0887\"], [0.1111111111111111, \"#46039f\"], [0.2222222222222222, \"#7201a8\"], [0.3333333333333333, \"#9c179e\"], [0.4444444444444444, \"#bd3786\"], [0.5555555555555556, \"#d8576b\"], [0.6666666666666666, \"#ed7953\"], [0.7777777777777778, \"#fb9f3a\"], [0.8888888888888888, \"#fdca26\"], [1.0, \"#f0f921\"]], \"type\": \"heatmapgl\"}], \"histogram\": [{\"marker\": {\"colorbar\": {\"outlinewidth\": 0, \"ticks\": \"\"}}, \"type\": \"histogram\"}], \"histogram2d\": [{\"colorbar\": {\"outlinewidth\": 0, \"ticks\": \"\"}, \"colorscale\": [[0.0, \"#0d0887\"], [0.1111111111111111, \"#46039f\"], [0.2222222222222222, \"#7201a8\"], [0.3333333333333333, \"#9c179e\"], [0.4444444444444444, \"#bd3786\"], [0.5555555555555556, \"#d8576b\"], [0.6666666666666666, \"#ed7953\"], [0.7777777777777778, \"#fb9f3a\"], [0.8888888888888888, \"#fdca26\"], [1.0, \"#f0f921\"]], \"type\": \"histogram2d\"}], \"histogram2dcontour\": [{\"colorbar\": {\"outlinewidth\": 0, \"ticks\": \"\"}, \"colorscale\": [[0.0, \"#0d0887\"], [0.1111111111111111, \"#46039f\"], [0.2222222222222222, \"#7201a8\"], [0.3333333333333333, \"#9c179e\"], [0.4444444444444444, \"#bd3786\"], [0.5555555555555556, \"#d8576b\"], [0.6666666666666666, \"#ed7953\"], [0.7777777777777778, \"#fb9f3a\"], [0.8888888888888888, \"#fdca26\"], [1.0, \"#f0f921\"]], \"type\": \"histogram2dcontour\"}], \"mesh3d\": [{\"colorbar\": {\"outlinewidth\": 0, \"ticks\": \"\"}, \"type\": \"mesh3d\"}], \"parcoords\": [{\"line\": {\"colorbar\": {\"outlinewidth\": 0, \"ticks\": \"\"}}, \"type\": \"parcoords\"}], \"pie\": [{\"automargin\": true, \"type\": \"pie\"}], \"scatter\": [{\"marker\": {\"colorbar\": {\"outlinewidth\": 0, \"ticks\": \"\"}}, \"type\": \"scatter\"}], \"scatter3d\": [{\"line\": {\"colorbar\": {\"outlinewidth\": 0, \"ticks\": \"\"}}, \"marker\": {\"colorbar\": {\"outlinewidth\": 0, \"ticks\": \"\"}}, \"type\": \"scatter3d\"}], \"scattercarpet\": [{\"marker\": {\"colorbar\": {\"outlinewidth\": 0, \"ticks\": \"\"}}, \"type\": \"scattercarpet\"}], \"scattergeo\": [{\"marker\": {\"colorbar\": {\"outlinewidth\": 0, \"ticks\": \"\"}}, \"type\": \"scattergeo\"}], \"scattergl\": [{\"marker\": {\"colorbar\": {\"outlinewidth\": 0, \"ticks\": \"\"}}, \"type\": \"scattergl\"}], \"scattermapbox\": [{\"marker\": {\"colorbar\": {\"outlinewidth\": 0, \"ticks\": \"\"}}, \"type\": \"scattermapbox\"}], \"scatterpolar\": [{\"marker\": {\"colorbar\": {\"outlinewidth\": 0, \"ticks\": \"\"}}, \"type\": \"scatterpolar\"}], \"scatterpolargl\": [{\"marker\": {\"colorbar\": {\"outlinewidth\": 0, \"ticks\": \"\"}}, \"type\": \"scatterpolargl\"}], \"scatterternary\": [{\"marker\": {\"colorbar\": {\"outlinewidth\": 0, \"ticks\": \"\"}}, \"type\": \"scatterternary\"}], \"surface\": [{\"colorbar\": {\"outlinewidth\": 0, \"ticks\": \"\"}, \"colorscale\": [[0.0, \"#0d0887\"], [0.1111111111111111, \"#46039f\"], [0.2222222222222222, \"#7201a8\"], [0.3333333333333333, \"#9c179e\"], [0.4444444444444444, \"#bd3786\"], [0.5555555555555556, \"#d8576b\"], [0.6666666666666666, \"#ed7953\"], [0.7777777777777778, \"#fb9f3a\"], [0.8888888888888888, \"#fdca26\"], [1.0, \"#f0f921\"]], \"type\": \"surface\"}], \"table\": [{\"cells\": {\"fill\": {\"color\": \"#EBF0F8\"}, \"line\": {\"color\": \"white\"}}, \"header\": {\"fill\": {\"color\": \"#C8D4E3\"}, \"line\": {\"color\": \"white\"}}, \"type\": \"table\"}]}, \"layout\": {\"annotationdefaults\": {\"arrowcolor\": \"#2a3f5f\", \"arrowhead\": 0, \"arrowwidth\": 1}, \"autotypenumbers\": \"strict\", \"coloraxis\": {\"colorbar\": {\"outlinewidth\": 0, \"ticks\": \"\"}}, \"colorscale\": {\"diverging\": [[0, \"#8e0152\"], [0.1, \"#c51b7d\"], [0.2, \"#de77ae\"], [0.3, \"#f1b6da\"], [0.4, \"#fde0ef\"], [0.5, \"#f7f7f7\"], [0.6, \"#e6f5d0\"], [0.7, \"#b8e186\"], [0.8, \"#7fbc41\"], [0.9, \"#4d9221\"], [1, \"#276419\"]], \"sequential\": [[0.0, \"#0d0887\"], [0.1111111111111111, \"#46039f\"], [0.2222222222222222, \"#7201a8\"], [0.3333333333333333, \"#9c179e\"], [0.4444444444444444, \"#bd3786\"], [0.5555555555555556, \"#d8576b\"], [0.6666666666666666, \"#ed7953\"], [0.7777777777777778, \"#fb9f3a\"], [0.8888888888888888, \"#fdca26\"], [1.0, \"#f0f921\"]], \"sequentialminus\": [[0.0, \"#0d0887\"], [0.1111111111111111, \"#46039f\"], [0.2222222222222222, \"#7201a8\"], [0.3333333333333333, \"#9c179e\"], [0.4444444444444444, \"#bd3786\"], [0.5555555555555556, \"#d8576b\"], [0.6666666666666666, \"#ed7953\"], [0.7777777777777778, \"#fb9f3a\"], [0.8888888888888888, \"#fdca26\"], [1.0, \"#f0f921\"]]}, \"colorway\": [\"#636efa\", \"#EF553B\", \"#00cc96\", \"#ab63fa\", \"#FFA15A\", \"#19d3f3\", \"#FF6692\", \"#B6E880\", \"#FF97FF\", \"#FECB52\"], \"font\": {\"color\": \"#2a3f5f\"}, \"geo\": {\"bgcolor\": \"white\", \"lakecolor\": \"white\", \"landcolor\": \"#E5ECF6\", \"showlakes\": true, \"showland\": true, \"subunitcolor\": \"white\"}, \"hoverlabel\": {\"align\": \"left\"}, \"hovermode\": \"closest\", \"mapbox\": {\"style\": \"light\"}, \"paper_bgcolor\": \"white\", \"plot_bgcolor\": \"#E5ECF6\", \"polar\": {\"angularaxis\": {\"gridcolor\": \"white\", \"linecolor\": \"white\", \"ticks\": \"\"}, \"bgcolor\": \"#E5ECF6\", \"radialaxis\": {\"gridcolor\": \"white\", \"linecolor\": \"white\", \"ticks\": \"\"}}, \"scene\": {\"xaxis\": {\"backgroundcolor\": \"#E5ECF6\", \"gridcolor\": \"white\", \"gridwidth\": 2, \"linecolor\": \"white\", \"showbackground\": true, \"ticks\": \"\", \"zerolinecolor\": \"white\"}, \"yaxis\": {\"backgroundcolor\": \"#E5ECF6\", \"gridcolor\": \"white\", \"gridwidth\": 2, \"linecolor\": \"white\", \"showbackground\": true, \"ticks\": \"\", \"zerolinecolor\": \"white\"}, \"zaxis\": {\"backgroundcolor\": \"#E5ECF6\", \"gridcolor\": \"white\", \"gridwidth\": 2, \"linecolor\": \"white\", \"showbackground\": true, \"ticks\": \"\", \"zerolinecolor\": \"white\"}}, \"shapedefaults\": {\"line\": {\"color\": \"#2a3f5f\"}}, \"ternary\": {\"aaxis\": {\"gridcolor\": \"white\", \"linecolor\": \"white\", \"ticks\": \"\"}, \"baxis\": {\"gridcolor\": \"white\", \"linecolor\": \"white\", \"ticks\": \"\"}, \"bgcolor\": \"#E5ECF6\", \"caxis\": {\"gridcolor\": \"white\", \"linecolor\": \"white\", \"ticks\": \"\"}}, \"title\": {\"x\": 0.05}, \"xaxis\": {\"automargin\": true, \"gridcolor\": \"white\", \"linecolor\": \"white\", \"ticks\": \"\", \"title\": {\"standoff\": 15}, \"zerolinecolor\": \"white\", \"zerolinewidth\": 2}, \"yaxis\": {\"automargin\": true, \"gridcolor\": \"white\", \"linecolor\": \"white\", \"ticks\": \"\", \"title\": {\"standoff\": 15}, \"zerolinecolor\": \"white\", \"zerolinewidth\": 2}}}, \"xaxis\": {\"anchor\": \"y\", \"domain\": [0.0, 1.0], \"title\": {\"text\": \"Date\"}}, \"yaxis\": {\"anchor\": \"x\", \"domain\": [0.0, 1.0], \"title\": {\"text\": \"NORM_Hin_Succ\"}}},                        {\"responsive\": true}                    ).then(function(){\n",
       "                            \n",
       "var gd = document.getElementById('e814729c-266d-48ec-8160-7a255368815e');\n",
       "var x = new MutationObserver(function (mutations, observer) {{\n",
       "        var display = window.getComputedStyle(gd).display;\n",
       "        if (!display || display === 'none') {{\n",
       "            console.log([gd, 'removed!']);\n",
       "            Plotly.purge(gd);\n",
       "            observer.disconnect();\n",
       "        }}\n",
       "}});\n",
       "\n",
       "// Listen for the removal of the full notebook cells\n",
       "var notebookContainer = gd.closest('#notebook-container');\n",
       "if (notebookContainer) {{\n",
       "    x.observe(notebookContainer, {childList: true});\n",
       "}}\n",
       "\n",
       "// Listen for the clearing of the current output cell\n",
       "var outputEl = gd.closest('.output');\n",
       "if (outputEl) {{\n",
       "    x.observe(outputEl, {childList: true});\n",
       "}}\n",
       "\n",
       "                        })                };                });            </script>        </div>"
      ]
     },
     "metadata": {},
     "output_type": "display_data"
    }
   ],
   "source": [
    "fig = px.line(prova, x='Date', y='NORM_Hin_Succ', color='COMUNE')\n",
    "fig.show()"
   ]
  },
  {
   "cell_type": "markdown",
   "metadata": {},
   "source": [
    "## Compare aggregated data for different period of day"
   ]
  },
  {
   "cell_type": "code",
   "execution_count": null,
   "metadata": {},
   "outputs": [],
   "source": [
    "evening_data_week_time, afternoon_data_week_time, lunch_data_week_time, morning_data_week_time, dawn_data_week_time = \\\n",
    "        prepare_for_timeseries(evening_data), prepare_for_timeseries(afternoon_data), prepare_for_timeseries(lunch_data), \\\n",
    "        prepare_for_timeseries(morning_data), prepare_for_timeseries(dawn_data)"
   ]
  },
  {
   "cell_type": "code",
   "execution_count": null,
   "metadata": {},
   "outputs": [],
   "source": [
    "# todo fare visualizzazione week - month, rolling average\n",
    "# todo filtrare nelle stesse visualizzazioni per periodo (giorno, pomeriggio, sera); se in pezzi di giornata in cui ci aspettiamo che stiano a casa notiamo la stessa differenza ???\n",
    "# -> questo potremmo mostrarlo anche nello stesso ... -> raggruppare per quello al posto che per giorno (quindi ogni 6h)\n",
    "\n",
    "# TODO provare nuove features:\n",
    "# - ratio at every time of dl_link -> how much link is used? this could normalize in case cells behave differently. Does this actually happen?\n",
    "# - dl_link/#user -> low values should represent high mobility areas, because users connected but used few data compared to other\n",
    "\n",
    "# TODO parlare con Andrea per analizzare Roma (dritte su zone e altro)\n",
    "# TODO different KPIs -> Filip -> X\n",
    "# TODO per month instead of week -> Filip -> X\n",
    "\n",
    "# TODO represent in different period during days, and compare with dinner time (as a base for home) -> Filip -> X\n",
    "# TODO represent in different period of weeks, and compare with weekend -> Filip\n",
    "\n",
    "# TODO find info about density of population on specific places / areas -> Franci, (Filip)\n",
    "# TODO find area specification per area (e.g.: business, home, turistic, ...) -> Franci, (Filip)\n",
    "\n",
    "# -> brainstorming: attempt on 23/12\n",
    "\n",
    "# es: Garibaldi -> DoW, h8-h12, h14-h18: work\n",
    "# DoW + WE, h18-6: home"
   ]
  }
 ],
 "metadata": {
  "kernelspec": {
   "display_name": "traffic-covid",
   "language": "python",
   "name": "traffic-covid"
  },
  "language_info": {
   "codemirror_mode": {
    "name": "ipython",
    "version": 3
   },
   "file_extension": ".py",
   "mimetype": "text/x-python",
   "name": "python",
   "nbconvert_exporter": "python",
   "pygments_lexer": "ipython3",
   "version": "3.8.6"
  }
 },
 "nbformat": 4,
 "nbformat_minor": 4
}
