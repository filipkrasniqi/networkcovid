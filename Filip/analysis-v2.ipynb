{
 "cells": [
  {
   "cell_type": "code",
   "execution_count": 2,
   "metadata": {},
   "outputs": [],
   "source": [
    "import numpy as np\n",
    "import pandas as pd\n",
    "from datetime import date\n",
    "from matplotlib import pyplot as plt\n",
    "\n",
    "from numpy import cos, sin, arcsin, sqrt\n",
    "from math import radians\n",
    "import seaborn as sns\n",
    "from jupyter_dash import JupyterDash\n",
    "\n",
    "import dash_core_components as dcc\n",
    "import dash_html_components as html\n",
    "from dash.dependencies import Input, Output\n",
    "import plotly.figure_factory as ff\n",
    "import plotly.express as px\n",
    "import numpy as np\n",
    "\n",
    "# need for token (mapbox)\n",
    "px.set_mapbox_access_token(\"pk.eyJ1IjoiZmlsaXBrcmFzbmlxaSIsImEiOiJja2luOW9jdmgwa3J3MnpvNXhkNGJ6MWFtIn0.eevoM5byqvtc1nC0oXpuOw\")\n",
    "\n",
    "def haversine(row, lonlat):\n",
    "    lat1, lon1 = lonlat\n",
    "    lon2, lat2 = row['LNG'], row['LAT']\n",
    "    lon1, lat1, lon2, lat2 = map(radians, [lon1, lat1, lon2, lat2])\n",
    "    dlon = lon2 - lon1 \n",
    "    dlat = lat2 - lat1 \n",
    "    a = sin(dlat/2)**2 + cos(lat1) * cos(lat2) * sin(dlon/2)**2\n",
    "    c = 2 * arcsin(sqrt(a)) \n",
    "    km = 6367 * c\n",
    "    return km\n",
    "\n",
    "def cell_from_coords(data, lonlat):\n",
    "    data['LAT'], data['LNG'] = pd.to_numeric(data['LAT_Y'],errors='coerce'), pd.to_numeric(data['LONG_X'],errors='coerce')\n",
    "    data['distance'] = data.apply(lambda row: haversine(row, lonlat), axis=1)\n",
    "    row = data.sort_values(by='distance').iloc[0:1]\n",
    "    data.drop(['distance', 'LAT', \"LNG\"], axis=1, inplace=True)\n",
    "    return row\n",
    "\n",
    "def normalize(data, column):\n",
    "    data.loc[:, column] = (data[column]-data[column].mean())/data[column].std()\n",
    "    return data\n",
    "\n",
    "def fix_coords(data):\n",
    "    data['LAT'], data['LNG'] = pd.to_numeric(data['LAT_Y'],errors='coerce'), pd.to_numeric(data['LONG_X'],errors='coerce')\n",
    "    return data\n",
    "\n",
    "def prepare_for_hexbin(dataframe, weekly = True, monthly = True):\n",
    "    if weekly:\n",
    "        data_groupped = dataframe.groupby('ECELL_ID').resample('W-Mon', on='Date').mean().reset_index().sort_values(by='Date')\n",
    "    elif monthly:\n",
    "        data_groupped = dataframe.groupby('ECELL_ID').resample('MS', on='Date').mean().reset_index().sort_values(by='Date') \n",
    "    else:\n",
    "        data_groupped = dataframe.groupby('ECELL_ID').resample('D', on='Date').mean().reset_index().sort_values(by='Date')\n",
    "    data_groupped = data_groupped.sort_values(by='Date')\n",
    "    data_groupped['DateString'] = data_groupped['Date'].map(lambda x: x.strftime('%j'))\n",
    "    data_groupped[\"DateString\"] = (data_groupped[\"DateString\"].astype(int)+1)//7\n",
    "    return data_groupped\n",
    "\n",
    "def prepare_for_timeseries(dataframe, weekly = True, monthly = True):\n",
    "    if weekly:\n",
    "        data_groupped = dataframe.groupby('COMUNE').resample('W-Mon', on='Date').sum().reset_index().sort_values(by='Date')\n",
    "    elif monthly:\n",
    "        data_groupped = dataframe.groupby('COMUNE').resample('MS', on='Date').sum().reset_index().sort_values(by='Date') \n",
    "    else:\n",
    "        data_groupped = dataframe.groupby('COMUNE').resample('D', on='Date').sum().reset_index().sort_values(by='Date')\n",
    "    data_groupped = data_groupped.sort_values(by='Date')\n",
    "    data_groupped['DateString'] = data_groupped['Date'].map(lambda x: x.strftime('%j'))\n",
    "    data_groupped[\"DateString\"] = (data_groupped[\"DateString\"].astype(int)+1)//7\n",
    "    return data_groupped\n",
    "\n",
    "def normalize_per_city(data, column, cities = [\"MILANO\", \"ROMA\"], city_column = \"COMUNE\"):\n",
    "    means = {city: data.where(lambda x: x[city_column] == city).dropna()[column].mean() for city in cities}#, \"ROMA\": daily_selected_data_groupped.where(lambda x: x.COMUNE ==\"ROMA\").dropna()[\"DL_VOL\"].mean()}\n",
    "    stds = {city: data.where(lambda x: x[city_column] == city).dropna()[column].std() for city in cities}\n",
    "    data = data.where(lambda x:x[column] > 0).dropna()# filtering before doing computations: some fields are wrongly 0\n",
    "    data[\"NORM_{}\".format(column)] = data.apply(lambda x: (x[column] - means[x[city_column]]) / stds[x[city_column]], axis=1)\n",
    "    return data\n",
    "\n",
    "def assign_constant_col(df, col, val):\n",
    "    df[col] = val\n",
    "    return df\n",
    "\n",
    "def remove_outliers(df, col):\n",
    "    df = df.dropna(subset=[col])\n",
    "    return df[df[col] < np.percentile(df[col],95)]\n",
    "\n",
    "def normalize_cols_per_city(df, cols = [\"USERNUM_AVG\", \"Hin_Succ\", \"DL_VOL\"]):\n",
    "    for col in cols:\n",
    "        df = normalize_per_city(df, col)\n",
    "    return df\n",
    "\n",
    "def assign_period(dfs):\n",
    "    # assumes dfs to follow order of periods\n",
    "    for i, (df, period) in enumerate(zip(dfs, periods)):\n",
    "        dfs[i] = assign_constant_col(df, \"period\", period)\n",
    "    return dfs\n",
    "\n",
    "def normalize_per_city_dfs(dfs):\n",
    "    for i, df in enumerate(dfs):\n",
    "        dfs[i] = normalize_per_city(dfs[i], \"USERNUM_AVG\")\n",
    "        dfs[i] = normalize_per_city(dfs[i], \"Hin_Succ\")\n",
    "        dfs[i] = normalize_per_city(dfs[i], \"DL_VOL\")\n",
    "    return dfs\n",
    "\n",
    "def complete_dfs_ts(dfs):\n",
    "    dfs = assign_period(dfs)\n",
    "    dfs = normalize_per_city_dfs(dfs)\n",
    "    return dfs\n",
    "\n",
    "\n",
    "data_path = \"/Users/filipkrasniqi/Documents/Datasets.tmp/traffic-covid/\"\n",
    "cities = [\"Milano\", \"ROMA\", \"TORINO\"]\n",
    "\n",
    "columns_all_data, required_columns_all_data = [\"DL_VOL\", \"Hin_Succ\", \"USERNUM_AVG\"], [\"LAT\", \"LNG\", \"City\", 'hour', 'Date', 'ECELL_ID', 'COMUNE']\n",
    "periods = [\"Dawn\", \"Morning\", \"Lunch\", \"Afternoon\", \"Evening\"]\n",
    "# columns to use for hexbin visualization\n",
    "columns, required_columns = [\"DL_VOL\", \"Hin_Succ\", \"USERNUM_AVG\"], [\"LAT\", \"LNG\", \"DateString\", \"City\"]"
   ]
  },
  {
   "cell_type": "markdown",
   "metadata": {},
   "source": [
    "# Reading data regarding Rome and Milan"
   ]
  },
  {
   "cell_type": "markdown",
   "metadata": {},
   "source": [
    "## Reading data for Rome and Milan and adding coordinates as float"
   ]
  },
  {
   "cell_type": "code",
   "execution_count": 3,
   "metadata": {},
   "outputs": [],
   "source": [
    "data_milano = fix_coords(pd.read_pickle(\"{}LTE_1800_{}.pkl\".format(data_path, cities[0])))\n",
    "data_milano_2 = fix_coords(pd.read_pickle(\"{}LTE_1800_{}_P2.pkl\".format(data_path, cities[0])))\n",
    "data_rome = fix_coords(pd.read_pickle(\"{}LTE_1800_{}.pkl\".format(data_path, cities[1])))"
   ]
  },
  {
   "cell_type": "markdown",
   "metadata": {},
   "source": [
    "## Removing outliers for each column (*)\n",
    "Outliers = those outside the 95% confidence. This is done before merging data among the cities"
   ]
  },
  {
   "cell_type": "code",
   "execution_count": 4,
   "metadata": {},
   "outputs": [],
   "source": [
    "# remove outliers from the three datasets regarding DL_VOL and Hin_Succ\n",
    "data_milano = remove_outliers(data_milano, \"DL_VOL\")\n",
    "data_milano = remove_outliers(data_milano, \"Hin_Succ\")\n",
    "\n",
    "data_milano_2 = remove_outliers(data_milano_2, \"DL_VOL\")\n",
    "data_milano_2 = remove_outliers(data_milano_2, \"Hin_Succ\")\n",
    "\n",
    "data_rome = remove_outliers(data_rome, \"DL_VOL\")\n",
    "data_rome = remove_outliers(data_rome, \"Hin_Succ\")\n",
    "\n"
   ]
  },
  {
   "cell_type": "markdown",
   "metadata": {},
   "source": [
    "## Merging data for cities"
   ]
  },
  {
   "cell_type": "code",
   "execution_count": 5,
   "metadata": {},
   "outputs": [],
   "source": [
    "# merging them\n",
    "all_data_milano = pd.concat([data_milano, data_milano_2])\n",
    "all_data_milano[\"City\"] = 0\n",
    "data_rome[\"City\"] = 1\n",
    "all_data = pd.concat([all_data_milano, data_rome])\n",
    "all_data[\"USERNUM_AVG\"] = all_data[\"USERNUM_AVG\"].astype(float)"
   ]
  },
  {
   "cell_type": "markdown",
   "metadata": {},
   "source": [
    "## Initializing data to group them for period (*)"
   ]
  },
  {
   "cell_type": "code",
   "execution_count": 6,
   "metadata": {},
   "outputs": [],
   "source": [
    "# preparing data for period visualization\n",
    "all_data[\"hour\"] = [t.hour for t in pd.DatetimeIndex(all_data.Date)]\n",
    "# getting data with relative period\n",
    "evening_data = all_data[columns_all_data+required_columns_all_data].where(lambda x: (x.hour >= 20) & (x.hour <= 23)).dropna()\n",
    "afternoon_data = all_data[columns_all_data+required_columns_all_data].where(lambda x: (x.hour >= 16) & (x.hour <= 19)).dropna()\n",
    "lunch_data = all_data[columns_all_data+required_columns_all_data].where(lambda x: (x.hour >= 12) & (x.hour <= 15)).dropna()\n",
    "morning_data = all_data[columns_all_data+required_columns_all_data].where(lambda x: (x.hour >= 8) & (x.hour <= 11)).dropna()\n",
    "dawn_data = all_data[columns_all_data+required_columns_all_data].where(lambda x: (x.hour >= 4) & (x.hour <= 7)).dropna()"
   ]
  },
  {
   "cell_type": "markdown",
   "metadata": {},
   "source": [
    "## Grouping data for timeseries: data range (*)"
   ]
  },
  {
   "cell_type": "markdown",
   "metadata": {},
   "source": [
    "### Regardless the period"
   ]
  },
  {
   "cell_type": "code",
   "execution_count": 7,
   "metadata": {},
   "outputs": [],
   "source": [
    "data_groupped_day = prepare_for_timeseries(all_data, weekly = False, monthly = False)\n",
    "daily_selected_data_groupped = data_groupped_day[columns+required_columns + [\"Date\", \"COMUNE\"]].dropna()\n",
    "\n",
    "daily_selected_data_groupped = normalize_per_city(daily_selected_data_groupped, \"USERNUM_AVG\")\n",
    "daily_selected_data_groupped = normalize_per_city(daily_selected_data_groupped, \"Hin_Succ\")\n",
    "daily_selected_data_groupped = normalize_per_city(daily_selected_data_groupped, \"DL_VOL\")\n",
    "\n",
    "data_groupped_weekly = prepare_for_timeseries(all_data, weekly = True, monthly = False)\n",
    "weekly_selected_data_groupped = data_groupped_weekly[columns+required_columns + [\"Date\", \"COMUNE\"]].dropna()\n",
    "\n",
    "weekly_selected_data_groupped = normalize_per_city(weekly_selected_data_groupped, \"USERNUM_AVG\")\n",
    "weekly_selected_data_groupped = normalize_per_city(weekly_selected_data_groupped, \"Hin_Succ\")\n",
    "weekly_selected_data_groupped = normalize_per_city(weekly_selected_data_groupped, \"DL_VOL\")\n",
    "\n",
    "data_groupped_month = prepare_for_timeseries(all_data, weekly = False, monthly = True)\n",
    "monthly_selected_data_groupped = data_groupped_month[columns+required_columns + [\"Date\", \"COMUNE\"]].dropna()\n",
    "\n",
    "monthly_selected_data_groupped = normalize_per_city(monthly_selected_data_groupped, \"USERNUM_AVG\")\n",
    "monthly_selected_data_groupped = normalize_per_city(monthly_selected_data_groupped, \"Hin_Succ\")\n",
    "monthly_selected_data_groupped = normalize_per_city(monthly_selected_data_groupped, \"DL_VOL\")"
   ]
  },
  {
   "cell_type": "markdown",
   "metadata": {},
   "source": [
    "### Selecting per period"
   ]
  },
  {
   "cell_type": "code",
   "execution_count": 8,
   "metadata": {},
   "outputs": [],
   "source": [
    "# resampling data for timeseries: per day\n",
    "dfs_day = [prepare_for_timeseries(dawn_data, weekly = False, monthly = False), \\\n",
    "        prepare_for_timeseries(morning_data, weekly = False, monthly = False), \\\n",
    "        prepare_for_timeseries(lunch_data, weekly = False, monthly = False), \\\n",
    "        prepare_for_timeseries(afternoon_data, weekly = False, monthly=False), \\\n",
    "        prepare_for_timeseries(evening_data, weekly = False, monthly=False)]\n",
    "\n",
    "# resampling data for timeseries: per week\n",
    "dfs_week = [prepare_for_timeseries(dawn_data, weekly = True, monthly = False), \\\n",
    "        prepare_for_timeseries(morning_data, weekly = True, monthly = False), \\\n",
    "        prepare_for_timeseries(lunch_data, weekly = True, monthly = False), \\\n",
    "        prepare_for_timeseries(afternoon_data, weekly = True, monthly=False), \\\n",
    "        prepare_for_timeseries(evening_data, weekly = True, monthly=False)]\n",
    "\n",
    "# resampling data for timeseries: per month\n",
    "dfs_month = [prepare_for_timeseries(dawn_data, weekly = False, monthly = True), \\\n",
    "        prepare_for_timeseries(morning_data, weekly = False, monthly = True), \\\n",
    "        prepare_for_timeseries(lunch_data, weekly = False, monthly = True), \\\n",
    "        prepare_for_timeseries(afternoon_data, weekly = False, monthly=True), \\\n",
    "        prepare_for_timeseries(evening_data, weekly = False, monthly=True)]\n",
    "\n",
    "# assigning period col and normalizing\n",
    "dfs_day, dfs_week, dfs_month = complete_dfs_ts(dfs_day), complete_dfs_ts(dfs_week), complete_dfs_ts(dfs_month)\n",
    "# creating final dfs for day, week or month\n",
    "ts_period_data_groupped_daily, ts_period_data_groupped_weekly, ts_period_data_groupped_monthly = \\\n",
    "    pd.concat(dfs_day), pd.concat(dfs_week), pd.concat(dfs_month)"
   ]
  },
  {
   "cell_type": "markdown",
   "metadata": {},
   "source": [
    "## Grouping data for hexbin: data range and cell"
   ]
  },
  {
   "cell_type": "markdown",
   "metadata": {},
   "source": [
    "### Regardless the period"
   ]
  },
  {
   "cell_type": "code",
   "execution_count": 9,
   "metadata": {},
   "outputs": [],
   "source": [
    "hex_data_groupped_week = prepare_for_hexbin(all_data)"
   ]
  },
  {
   "cell_type": "code",
   "execution_count": 10,
   "metadata": {},
   "outputs": [],
   "source": [
    "hex_data_groupped_month = prepare_for_hexbin(all_data, weekly = False)"
   ]
  },
  {
   "cell_type": "code",
   "execution_count": 11,
   "metadata": {},
   "outputs": [],
   "source": [
    "# columns to use for hexbin visualization\n",
    "columns, required_columns = [\"DL_VOL\", \"Hin_Succ\", \"USERNUM_AVG\"], [\"LAT\", \"LNG\", \"DateString\", \"City\"]\n",
    "\n",
    "# week: take groupped data and assign the column I need. Plus, fix the city\n",
    "hex_week_selected_data_groupped = hex_data_groupped_week[columns+required_columns].dropna()\n",
    "hex_week_selected_data_groupped[\"City\"] = hex_week_selected_data_groupped[\"City\"].astype(int)\n",
    "hex_week_selected_data_groupped[\"City\"] = hex_week_selected_data_groupped[\"City\"].apply(lambda x: cities[x])\n",
    "\n",
    "# month: do the same as week\n",
    "hex_month_selected_data_groupped = hex_data_groupped_month[columns+required_columns].dropna()\n",
    "hex_month_selected_data_groupped[\"City\"] = hex_month_selected_data_groupped[\"City\"].astype(int)\n",
    "hex_month_selected_data_groupped[\"City\"] = hex_month_selected_data_groupped[\"City\"].apply(lambda x: cities[x])"
   ]
  },
  {
   "cell_type": "markdown",
   "metadata": {},
   "source": [
    "### Selecting per period"
   ]
  },
  {
   "cell_type": "code",
   "execution_count": 12,
   "metadata": {},
   "outputs": [],
   "source": [
    "# resampling data for hexbin\n",
    "hex_evening_data_week, hex_afternoon_data_week, hex_lunch_data_week, hex_morning_data_week, hex_dawn_data_week = \\\n",
    "        prepare_for_hexbin(evening_data), prepare_for_hexbin(afternoon_data), prepare_for_hexbin(lunch_data), \\\n",
    "        prepare_for_hexbin(morning_data), prepare_for_hexbin(dawn_data)\n",
    "\n",
    "# assigning data after resampling\n",
    "hex_evening_data_week, hex_afternoon_data_week, hex_lunch_data_week, hex_morning_data_week, hex_dawn_data_week = \\\n",
    "    assign_constant_col(hex_evening_data_week, \"period\", periods[4]), \\\n",
    "    assign_constant_col(hex_afternoon_data_week, \"period\", periods[3]), \\\n",
    "    assign_constant_col(hex_lunch_data_week, \"period\", periods[2]), \\\n",
    "    assign_constant_col(hex_morning_data_week, \"period\", periods[1]), \\\n",
    "    assign_constant_col(hex_dawn_data_week, \"period\", periods[0])\n",
    "\n",
    "# same operations for month\n",
    "hex_evening_data_month, hex_afternoon_data_month, hex_lunch_data_month, hex_morning_data_month, hex_dawn_data_month = \\\n",
    "        prepare_for_hexbin(evening_data, weekly = False), prepare_for_hexbin(afternoon_data, weekly = False), \\\n",
    "        prepare_for_hexbin(lunch_data, weekly = False), prepare_for_hexbin(morning_data, weekly = False), \\\n",
    "        prepare_for_hexbin(dawn_data, weekly = False)\n",
    "\n",
    "hex_evening_data_month, hex_afternoon_data_month, hex_lunch_data_month, hex_morning_data_month, hex_dawn_data_month = \\\n",
    "    assign_constant_col(hex_evening_data_month, \"period\", periods[4]), \\\n",
    "    assign_constant_col(hex_afternoon_data_month, \"period\", periods[3]), \\\n",
    "    assign_constant_col(hex_lunch_data_month, \"period\", periods[2]), \\\n",
    "    assign_constant_col(hex_morning_data_month, \"period\", periods[1]), \\\n",
    "    assign_constant_col(hex_dawn_data_month, \"period\", periods[0])\n",
    "\n",
    "#period_data_groupped_month = prepare_for_hexbin(period_data, weekly = False)\n",
    "#period_data = pd.concat([dawn_data, morning_data, lunch_data, afternoon_data, evening_data])\n",
    "hex_period_data_groupped_week = pd.concat( \\\n",
    "        [hex_evening_data_week, hex_afternoon_data_week, hex_lunch_data_week, \\\n",
    "             hex_morning_data_week, hex_dawn_data_week])\n",
    "hex_period_data_groupped_month = pd.concat([hex_evening_data_month, hex_afternoon_data_month, hex_lunch_data_month,\\\n",
    "                                            hex_morning_data_month, hex_dawn_data_month])\n",
    "\n",
    "period_columns = columns+required_columns+['period', 'ECELL_ID']\n",
    "hex_period_week_selected_data_groupped = hex_period_data_groupped_week[period_columns].dropna()\n",
    "hex_period_week_selected_data_groupped[\"City\"] = hex_period_week_selected_data_groupped[\"City\"].astype(int)\n",
    "hex_period_week_selected_data_groupped[\"City\"] = hex_period_week_selected_data_groupped[\"City\"].apply(lambda x: cities[x])\n",
    "\n",
    "hex_period_month_selected_data_groupped = hex_period_data_groupped_month[period_columns].dropna()\n",
    "hex_period_month_selected_data_groupped[\"City\"] = hex_period_month_selected_data_groupped[\"City\"].astype(int)\n",
    "hex_period_month_selected_data_groupped[\"City\"] = hex_period_month_selected_data_groupped[\"City\"].apply(lambda x: cities[x])"
   ]
  },
  {
   "cell_type": "markdown",
   "metadata": {},
   "source": [
    "## Compare aggregated data for Milano and Rome"
   ]
  },
  {
   "cell_type": "markdown",
   "metadata": {},
   "source": [
    "### Building visualization for both normalized and non-normalized case"
   ]
  },
  {
   "cell_type": "code",
   "execution_count": 13,
   "metadata": {},
   "outputs": [],
   "source": [
    "dataRanges = [\"Week\", \"Month\", \"Day\"]\n",
    "norm_columns = [\"NORM_{}\".format(col) for col in columns]\n",
    "towns = daily_selected_data_groupped.COMUNE.unique()\n",
    "\n",
    "def build_app_timeseries(columns, dataRanges, towns):    \n",
    "    name = \"TIMESERIES_TOTAL_{}\".format(\"_\".join(columns))\n",
    "    app_timeseries = JupyterDash(name)\n",
    "\n",
    "    norm_columns = [\"NORM_{}\".format(col) for col in columns]\n",
    "\n",
    "    app_timeseries.layout = html.Div([\n",
    "    html.Label(\n",
    "        [\n",
    "            \"Data range\",\n",
    "            dcc.Dropdown(id=\"dateRange\",\n",
    "                         options=[{\"label\": x, \"value\": x} for x in dataRanges],\n",
    "                        value=dataRanges[0],\n",
    "                        clearable=False)\n",
    "        ]),\n",
    "    html.Label(\n",
    "        [\n",
    "            \"KPI\",\n",
    "            dcc.Dropdown(id=\"kpi\",\n",
    "                         options=[{\"label\": x, \"value\": x} for x in columns],\n",
    "                        value=columns[0],\n",
    "                        clearable=False)\n",
    "        ]),\n",
    "    html.Label(\n",
    "        [\n",
    "            \"Comune\",\n",
    "            dcc.Dropdown(id=\"town\",\n",
    "                         options=[{\"label\": x, \"value\": x} for x in towns],\n",
    "                        value=None,\n",
    "                        clearable=True)\n",
    "        ],\n",
    "    ),\n",
    "    html.Div(dcc.Graph(id=name))])\n",
    "\n",
    "    @app_timeseries.callback(\n",
    "    Output(name, \"figure\"), \n",
    "    [Input(\"dateRange\", \"value\"), Input(\"kpi\", \"value\"), Input(\"town\", \"value\")])\n",
    "    def display_map_period(dateRange, kpi, town):\n",
    "\n",
    "        if dateRange == \"Day\":\n",
    "            selected_data_groupped = daily_selected_data_groupped\n",
    "        elif dateRange==\"Week\":\n",
    "            selected_data_groupped = weekly_selected_data_groupped\n",
    "        else:\n",
    "            selected_data_groupped = monthly_selected_data_groupped\n",
    "        \n",
    "        if town is not None:\n",
    "            selected_data_groupped = selected_data_groupped.where(lambda x:x.COMUNE==town).dropna()\n",
    "\n",
    "        fig = px.line(selected_data_groupped, x='Date', y=kpi, color='COMUNE')\n",
    "\n",
    "        return fig\n",
    "    \n",
    "    return app_timeseries\n",
    "\n",
    "app_timeseries_normalized, app_timeseries = build_app_timeseries(norm_columns, dataRanges, towns), build_app_timeseries(columns, dataRanges, towns)"
   ]
  },
  {
   "cell_type": "markdown",
   "metadata": {},
   "source": [
    "### Comparing the raw data"
   ]
  },
  {
   "cell_type": "code",
   "execution_count": 14,
   "metadata": {
    "scrolled": false
   },
   "outputs": [
    {
     "data": {
      "text/html": [
       "\n",
       "        <iframe\n",
       "            width=\"100%\"\n",
       "            height=\"650\"\n",
       "            src=\"http://127.0.0.1:16000/\"\n",
       "            frameborder=\"0\"\n",
       "            allowfullscreen\n",
       "        ></iframe>\n",
       "        "
      ],
      "text/plain": [
       "<IPython.lib.display.IFrame at 0x271d43fd0>"
      ]
     },
     "metadata": {},
     "output_type": "display_data"
    }
   ],
   "source": [
    "app_timeseries.run_server(mode='inline', port=16000) # debug=True, use_reloader=False"
   ]
  },
  {
   "cell_type": "markdown",
   "metadata": {},
   "source": [
    "## Conclusions\n",
    "Comparing raw data between Rome and Milan gives interesting insights on how the mobile traffic is used in the two cities. We remind here that population in Rome is around 4M, while Milan has approximately 3M people (ratio Milan-Rome: 0.75).\n",
    "### Download\n",
    "When analysing data regarding downloads in the two cities, our data are not consistent at all. On average, the metropolitan city of Rome downloads 10000 more data than Milan; the difference is huge. This could be explained by different factors: for example, users may typically use **heavier applications**, for **longer time** (e.g.: people in Rome may use more 4G connection then WiFi even at home), and also the number of subscribers to our mobile operator may not be represented by the popilation ratio.\n",
    "### Avg. Number of users\n",
    "Analysing this KPI allows us to throw some more conclusions. As we can see from the plots, Milan has an average usage of 4M per week, while Rome is around 40-50M. This means that we have, on average, around 10 times the users of Milan. This partially explains the higher number of downloads in Rome; still, we can now conclude that people in Rome use much more the mobile network wrt Milan. Please have in mind that this information may be biased: indeed, if mobility is higher on one city wrt another, we would experience duplicates when counting users. For this reason, we compare also the last KPI.\n",
    "### Handover-IN (success)\n",
    "For our purpose, we'll consider the values prior to March, in particular those of February; by doing this, we are focusing on data that do not comprehend COVID-19 as a factor of variation of mobility. Indeed, something that is much more visible when analysing this feature is the drop around March, that can be seen in both situations. For a better comparison, we'll see the normalized data per city afterwards, so for now we'll just compare absolute values of Handover during February.\n",
    "\n",
    "Rome has a daily average of around 200M, while Milan lies around 14M. This means that we have much more mobility in Rome, and that the number of users as described above are much more biased in the Rome case than in Milan. Despite that, we can still draw the same conclusions about the usage of mobile traffic."
   ]
  },
  {
   "cell_type": "markdown",
   "metadata": {},
   "source": [
    "### Comparing normalized data"
   ]
  },
  {
   "cell_type": "code",
   "execution_count": 15,
   "metadata": {},
   "outputs": [
    {
     "data": {
      "text/html": [
       "\n",
       "        <iframe\n",
       "            width=\"100%\"\n",
       "            height=\"650\"\n",
       "            src=\"http://127.0.0.1:16002/\"\n",
       "            frameborder=\"0\"\n",
       "            allowfullscreen\n",
       "        ></iframe>\n",
       "        "
      ],
      "text/plain": [
       "<IPython.lib.display.IFrame at 0x2632bb2b0>"
      ]
     },
     "metadata": {},
     "output_type": "display_data"
    }
   ],
   "source": [
    "app_timeseries_normalized.run_server(mode='inline', port=16002) # debug=True, use_reloader=False"
   ]
  },
  {
   "cell_type": "markdown",
   "metadata": {},
   "source": [
    "## Conclusions\n",
    "To understand this, here we provide a brief description of what we did. Basically, for each considered KPI we normalized the data for each city separately. By doing this, we can no more compare the absolute values; the analysis will be much more qualitative and focused on the behaviour during the month to **compare the two cases**, to draw some conclusions again on the use of mobile networks and on how people reacted to COVID-19 restrictions, both in terms of mobility and of usage of the mobile networks.\n",
    "\n",
    "### Download\n",
    "Our expectations would be to see a similar normalized behaviour, maybe in a different way, but still, we expect that entering lockdown would decrease the usage of mobile networks. The daily time series gives pretty interesting insights. In particular, we can see how Milan followed the just described trend for most of the time, even though at the end (when reaching summer) the usage keeps dropping in the same way as during lockdown. Instead, Rome is actually behaving in a very different way. Indeed, we can see how in march we have a huge increase of the usage of the networks, and while ending the lockdown we it drops in a logarithmic fashion.\n",
    "\n",
    "We should try to motivate this two aspects:\n",
    "1) why Rome has experienced such an increases of usage in March -> people are less used to use Internet then in Milan, but use mobile connection insteade of WiFi???\n",
    "2) why Milan follows our ideal trend in until May, but then follows the lockdown trend even though the city should experience a more normal behaviour -> people in Milan use internet for other purposes, and they were aware of the fact that they should behave properly regardless from the Lockdown???\n",
    "\n",
    "### Avg. Number of users\n",
    "If compared with the download scenario, the trend makes complete sense. Indeed, we see again a slow but linear decrease of users for Milan, while Rome experiences first a huge increase when entering March, and then a decrease once lockdown finishes. So, nothing new if compared with download.\n",
    "\n",
    "### Handover-IN (success)\n",
    "We can see that when normalizing the data we see a pattern. Mobility seems to work similar in the two cases, when normalizing the KPI, even though Milan seems to be a bit more reluctant to mobility after the lockdown if compared to Rome."
   ]
  },
  {
   "cell_type": "code",
   "execution_count": 16,
   "metadata": {},
   "outputs": [],
   "source": [
    "def build_app_timeseries_period(columns, dataRanges, towns, periods):\n",
    "    name = \"TIMESERIES_PERIOD_{}\".format(\"_\".join(columns))\n",
    "    app_period_timeseries = JupyterDash(name)\n",
    "\n",
    "    app_period_timeseries.layout = html.Div([\n",
    "    html.Label(\n",
    "        [\n",
    "            \"Data range\",\n",
    "            dcc.Dropdown(id=\"dateRange\",\n",
    "                         options=[{\"label\": x, \"value\": x} for x in dataRanges],\n",
    "                         value=dataRanges[0],\n",
    "                         clearable=False,),\n",
    "        ]\n",
    "    ),\n",
    "    html.Label(\n",
    "        [\n",
    "            \"Periods to show\",\n",
    "            dcc.Dropdown(id=\"periods\",\n",
    "                         options=[{\"label\": x, \"value\": x} for x in periods],\n",
    "                        value=periods[0],\n",
    "                        multi=True,\n",
    "                        clearable=False,),\n",
    "        ]\n",
    "    ),\n",
    "    html.Label(\n",
    "        [\n",
    "            \"KPI\",\n",
    "            dcc.Dropdown(id=\"kpi\",\n",
    "                         options=[{\"label\": x, \"value\": x} for x in columns],\n",
    "                        value=columns[0],\n",
    "                        clearable=False)\n",
    "        ]\n",
    "    ),\n",
    "    html.Label(\n",
    "        [\n",
    "            \"Comune\",\n",
    "            dcc.Dropdown(id=\"town\",\n",
    "                         options=[{\"label\": x, \"value\": x} for x in towns],\n",
    "                        value=None,\n",
    "                        clearable=True)\n",
    "        ],\n",
    "    ),\n",
    "    html.Div(dcc.Graph(id=name))])\n",
    "    \n",
    "    @app_period_timeseries.callback(\n",
    "    Output(name, \"figure\"), \n",
    "    [Input(\"dateRange\", \"value\"), Input(\"periods\", \"value\"), Input(\"kpi\", \"value\"), Input(\"town\", \"value\")])\n",
    "    def display_map_period(dateRange, periods, kpi, town):\n",
    "        \n",
    "        if periods is None:\n",
    "            periods = [\"Dawn\"]\n",
    "            \n",
    "        if isinstance(periods, str):\n",
    "            periods = [periods]\n",
    "            \n",
    "        if dateRange == \"Day\":\n",
    "            selected_data_groupped = ts_period_data_groupped_daily\n",
    "        elif dateRange==\"Week\":\n",
    "            selected_data_groupped = ts_period_data_groupped_weekly\n",
    "        else:\n",
    "            selected_data_groupped = ts_period_data_groupped_monthly\n",
    "        \n",
    "        if town is not None:\n",
    "            selected_data_groupped = selected_data_groupped.where(lambda x:x.COMUNE==town).dropna()\n",
    "            \n",
    "        # or condition on the filters\n",
    "        query = ' | '.join([f'period==\"{p}\"' for p in periods])\n",
    "        selected_data_groupped= selected_data_groupped.query(query)\n",
    "\n",
    "        fig = px.line(selected_data_groupped, x='Date', y=kpi, line_dash='COMUNE', color='period')\n",
    "\n",
    "    #     fig.show()  \n",
    "        return fig\n",
    "    \n",
    "    return app_period_timeseries\n",
    "\n",
    "app_timeseries_period_normalized, app_timeseries_period = \\\n",
    "    build_app_timeseries_period(norm_columns, dataRanges, towns, ts_period_data_groupped_daily[\"period\"].unique()), \\\n",
    "    build_app_timeseries_period(columns, dataRanges, towns, ts_period_data_groupped_daily[\"period\"].unique())"
   ]
  },
  {
   "cell_type": "code",
   "execution_count": 17,
   "metadata": {},
   "outputs": [
    {
     "data": {
      "text/html": [
       "\n",
       "        <iframe\n",
       "            width=\"100%\"\n",
       "            height=\"650\"\n",
       "            src=\"http://127.0.0.1:16003/\"\n",
       "            frameborder=\"0\"\n",
       "            allowfullscreen\n",
       "        ></iframe>\n",
       "        "
      ],
      "text/plain": [
       "<IPython.lib.display.IFrame at 0x2630d87c0>"
      ]
     },
     "metadata": {},
     "output_type": "display_data"
    }
   ],
   "source": [
    "app_timeseries_period.run_server(mode='inline', port = 16003)"
   ]
  },
  {
   "cell_type": "code",
   "execution_count": 18,
   "metadata": {
    "scrolled": false
   },
   "outputs": [
    {
     "data": {
      "text/html": [
       "\n",
       "        <iframe\n",
       "            width=\"100%\"\n",
       "            height=\"650\"\n",
       "            src=\"http://127.0.0.1:16004/\"\n",
       "            frameborder=\"0\"\n",
       "            allowfullscreen\n",
       "        ></iframe>\n",
       "        "
      ],
      "text/plain": [
       "<IPython.lib.display.IFrame at 0x10e6c5460>"
      ]
     },
     "metadata": {},
     "output_type": "display_data"
    }
   ],
   "source": [
    "app_timeseries_period_normalized.run_server(mode='inline', port = 16004)"
   ]
  },
  {
   "cell_type": "markdown",
   "metadata": {},
   "source": [
    "# Commenti\n",
    "- DL: evening in Roma meno dipendente da lockdown in confronto agli altri periodi\n",
    "- Hin ha comportamento simile in Lunch, Afternoon e Morning\n",
    "- 9 marzo: lockdown coincide con caduta di mobilità (Hin)\n",
    "- 9 Marzo: a Roma si nota un aumento di DL VOL. L'aumento è notevole nell'orario lavorativo, segno che l'utilizzo del traffico internet mobile è diverso nelle due città\n",
    "- 6 aprile: minimo Hin sia a Milano che a Roma https://www.reggionline.com/coronavirus-circa-2-500-aziende-riapriranno-deroga-dal-6-aprile-video/\n",
    "- 4 maggio: notevole aumento (inizio fase 2)\n",
    "- 1 giugno: diminuzione notevole, festa 2/06 e ponte\n",
    "- 02/07: Milano, evening: calo inspiegato di Hin\n",
    "- Estate: sia Milano che Roma registrano un maggiore aumento normalizzato di mobilità la sera"
   ]
  },
  {
   "cell_type": "markdown",
   "metadata": {},
   "source": [
    "## Compare aggregated data for different period of day"
   ]
  },
  {
   "cell_type": "code",
   "execution_count": 19,
   "metadata": {},
   "outputs": [],
   "source": [
    "# todo aggiungere torino\n",
    "# TODO add rolling average in visualizzazione\n",
    "\n",
    "# TODO provare nuove features:\n",
    "# - ratio at every time of dl_link -> how much link is used? this could normalize in case cells behave differently. Does this actually happen?\n",
    "# - dl_link/#user -> low values should represent high mobility areas, because users connected but used few data compared to other\n",
    "\n",
    "# TODO timeseries covid\n",
    "\n",
    "# TODO parlare con Andrea per analizzare Roma (dritte su zone e altro)\n",
    "# TODO different KPIs -> Filip -> X\n",
    "# TODO per month instead of week -> Filip -> X\n",
    "\n",
    "# TODO represent in different period during days, and compare with dinner time (as a base for home) -> Filip -> X\n",
    "# TODO represent in different period of weeks, and compare with weekend -> Filip\n",
    "\n",
    "# TODO find info about density of population on specific places / areas -> Franci, (Filip)\n",
    "# TODO find area specification per area (e.g.: business, home, turistic, ...) -> Franci, (Filip)\n",
    "\n",
    "# -> brainstorming: attempt on 23/12\n",
    "\n",
    "# es: Garibaldi -> DoW, h8-h12, h14-h18: work\n",
    "# DoW + WE, h18-6: home"
   ]
  },
  {
   "cell_type": "markdown",
   "metadata": {},
   "source": [
    "## Aggregated data in map"
   ]
  },
  {
   "cell_type": "code",
   "execution_count": 20,
   "metadata": {},
   "outputs": [
    {
     "data": {
      "text/html": [
       "\n",
       "        <iframe\n",
       "            width=\"100%\"\n",
       "            height=\"650\"\n",
       "            src=\"http://127.0.0.1:15000/\"\n",
       "            frameborder=\"0\"\n",
       "            allowfullscreen\n",
       "        ></iframe>\n",
       "        "
      ],
      "text/plain": [
       "<IPython.lib.display.IFrame at 0x263272d60>"
      ]
     },
     "metadata": {},
     "output_type": "display_data"
    }
   ],
   "source": [
    "app = JupyterDash(\"Map\")\n",
    "\n",
    "app.layout = html.Div([\n",
    "    html.Label([\"KPIs\", dcc.Dropdown(\n",
    "        id=\"kpi\",\n",
    "        options=[{\"label\": x, \"value\": x} for x in columns],\n",
    "        value=columns[0],\n",
    "        clearable=False,\n",
    "                )]),\n",
    "    html.Label(\n",
    "        [\n",
    "            \"Città\",\n",
    "            dcc.Dropdown(id=\"city\",\n",
    "                         options=[{\"label\": x, \"value\": x} for x in hex_week_selected_data_groupped.City.unique()],\n",
    "                        value=hex_week_selected_data_groupped[\"City\"].unique()[1],\n",
    "                        clearable=False,),\n",
    "        ]\n",
    "    ),\n",
    "    html.Label(\n",
    "        [\n",
    "            \"Data range\",\n",
    "            dcc.Dropdown(id=\"dateRange\",\n",
    "                         options=[{\"label\": x, \"value\": x} for x in [\"Week\", \"Month\"]],\n",
    "                        value=\"Week\",\n",
    "                        clearable=False,),\n",
    "        ]\n",
    "    ),\n",
    "    html.Div(dcc.Graph(id=\"map-chart\"))\n",
    "])\n",
    "\n",
    "@app.callback(\n",
    "    Output(\"map-chart\", \"figure\"), \n",
    "    [Input(\"kpi\", \"value\"), Input(\"city\", \"value\"), Input(\"dateRange\", \"value\")])\n",
    "\n",
    "def display_map(kpi, city, dateRange):\n",
    "    \n",
    "    if dateRange == \"Week\":\n",
    "        selected_data_groupped = hex_week_selected_data_groupped\n",
    "    else:\n",
    "        selected_data_groupped = hex_month_selected_data_groupped\n",
    "    \n",
    "    filtered_data_groupped = selected_data_groupped.where(lambda x:x.City==city).dropna()\n",
    "    fig = ff.create_hexbin_mapbox(\n",
    "        data_frame=filtered_data_groupped,\n",
    "        lat=\"LAT\", lon=\"LNG\", nx_hexagon=30, animation_frame=\"DateString\", color=kpi,\n",
    "        color_continuous_scale=\"Inferno\", labels={\"color\": kpi, \"frame\": \"DateString\"}\n",
    "    )\n",
    "    fig.update_layout(margin=dict(b=0, t=0, l=0, r=0))\n",
    "    fig.layout.sliders[0].pad.t=20\n",
    "    fig.layout.updatemenus[0].pad.t=60\n",
    "    return fig\n",
    "\n",
    "app.run_server(mode='inline', port = 15000)"
   ]
  },
  {
   "cell_type": "markdown",
   "metadata": {},
   "source": [
    "## Aggregated data in map per period"
   ]
  },
  {
   "cell_type": "code",
   "execution_count": 21,
   "metadata": {
    "scrolled": false
   },
   "outputs": [
    {
     "data": {
      "text/html": [
       "\n",
       "        <iframe\n",
       "            width=\"100%\"\n",
       "            height=\"650\"\n",
       "            src=\"http://127.0.0.1:15001/\"\n",
       "            frameborder=\"0\"\n",
       "            allowfullscreen\n",
       "        ></iframe>\n",
       "        "
      ],
      "text/plain": [
       "<IPython.lib.display.IFrame at 0x2630b0c40>"
      ]
     },
     "metadata": {},
     "output_type": "display_data"
    }
   ],
   "source": [
    "app_period = JupyterDash(\"PERIOD\")\n",
    "\n",
    "app_period.layout = html.Div([\n",
    "    html.Label([\"KPIs\", dcc.Dropdown(\n",
    "        id=\"kpi\",\n",
    "        options=[{\"label\": x, \"value\": x} for x in columns],\n",
    "        value=columns[0],\n",
    "        clearable=False,\n",
    "                )]),\n",
    "    html.Label(\n",
    "        [\n",
    "            \"Città\",\n",
    "            dcc.Dropdown(id=\"city\",\n",
    "                         options=[{\"label\": x, \"value\": x} for x in hex_period_week_selected_data_groupped.City.unique()],\n",
    "                        value=hex_period_week_selected_data_groupped[\"City\"].unique()[1],\n",
    "                        clearable=False,),\n",
    "        ]\n",
    "    ),\n",
    "    html.Label(\n",
    "        [\n",
    "            \"Data range\",\n",
    "            dcc.Dropdown(id=\"dateRange\",\n",
    "                         options=[{\"label\": x, \"value\": x} for x in [\"Week\", \"Month\"]],\n",
    "                        value=\"Week\",\n",
    "                        clearable=False,),\n",
    "        ]\n",
    "    ),\n",
    "    html.Label(\n",
    "        [\n",
    "            \"Period\",\n",
    "            dcc.Dropdown(id=\"period\",\n",
    "                         options=[{\"label\": x, \"value\": x} for x in hex_period_week_selected_data_groupped.period.unique()],\n",
    "                        value=\"Dawn\",\n",
    "                        clearable=False,),\n",
    "        ]\n",
    "    ),\n",
    "    html.Label(\n",
    "        [\n",
    "            \"Period vs evening\",\n",
    "            dcc.Dropdown(id=\"period_vs_evening\",\n",
    "                         options=[{\"label\": x, \"value\": x} for x in [\"Yes\", \"No\"]],\n",
    "                        value=\"No\",\n",
    "                        clearable=False,),\n",
    "        ]\n",
    "    ),\n",
    "    html.Div(dcc.Graph(id=\"period-chart\"))])\n",
    "    \n",
    "@app_period.callback(\n",
    "    Output(\"period-chart\", \"figure\"), \n",
    "    [Input(\"kpi\", \"value\"), Input(\"city\", \"value\"), Input(\"dateRange\", \"value\"), Input(\"period\", \"value\"), Input(\"period_vs_evening\", \"value\")])\n",
    "def display_map_period(kpi, city, dateRange, period, periodVsEvening):\n",
    "    \n",
    "    if period == 'Evening':\n",
    "        periodVsEvening = 'No'\n",
    "    \n",
    "    if dateRange == \"Week\":\n",
    "        selected_data_groupped = hex_period_week_selected_data_groupped\n",
    "    else:\n",
    "        selected_data_groupped = hex_period_month_selected_data_groupped\n",
    "    \n",
    "    filtered_data_groupped = selected_data_groupped.where(lambda x:x.City==city).dropna()\n",
    "    if periodVsEvening == 'No':\n",
    "        filtered_data_groupped = filtered_data_groupped.where(lambda x:x.period==period).dropna()\n",
    "        filtered_data_groupped = filtered_data_groupped.set_index(['ECELL_ID', 'DateString'])\n",
    "        filtered_data_groupped.reset_index(inplace=True)\n",
    "    else:\n",
    "        filtered_data_groupped = filtered_data_groupped.set_index(['ECELL_ID', 'DateString'])\n",
    "        filtered_data_groupped_evening = filtered_data_groupped.where(lambda x:x.period=='Evening').dropna()\n",
    "        filtered_data_groupped_period = filtered_data_groupped.where(lambda x:x.period==period).dropna()\n",
    "        \n",
    "        filtered_data_groupped = filtered_data_groupped_evening#\n",
    "        filtered_data_groupped[kpi] = (filtered_data_groupped[kpi] - filtered_data_groupped_period[kpi]).abs()\n",
    "        \n",
    "        filtered_data_groupped.reset_index(inplace=True)\n",
    "        filtered_data_groupped_evening.reset_index(inplace=True)\n",
    "        filtered_data_groupped_period.reset_index(inplace=True)\n",
    "        \n",
    "    fig = ff.create_hexbin_mapbox(\n",
    "        data_frame=filtered_data_groupped,\n",
    "        lat=\"LAT\", lon=\"LNG\", nx_hexagon=30, animation_frame=\"DateString\", color=kpi,\n",
    "        color_continuous_scale=\"Inferno\", labels={\"color\": kpi, \"frame\": \"DateString\"}\n",
    "    )\n",
    "    fig.update_layout(margin=dict(b=20, t=20, l=0, r=0))\n",
    "    \n",
    "    fig.layout.sliders[0].pad.t=30\n",
    "    fig.layout.updatemenus[0].pad.t=50\n",
    "\n",
    "#     fig.show()  \n",
    "    return fig\n",
    "\n",
    "app_period.run_server(mode='inline', port=15001) # debug=True, use_reloader=False"
   ]
  },
  {
   "cell_type": "code",
   "execution_count": null,
   "metadata": {},
   "outputs": [],
   "source": []
  },
  {
   "cell_type": "code",
   "execution_count": null,
   "metadata": {},
   "outputs": [],
   "source": []
  }
 ],
 "metadata": {
  "kernelspec": {
   "display_name": "traffic-covid",
   "language": "python",
   "name": "traffic-covid"
  },
  "language_info": {
   "codemirror_mode": {
    "name": "ipython",
    "version": 3
   },
   "file_extension": ".py",
   "mimetype": "text/x-python",
   "name": "python",
   "nbconvert_exporter": "python",
   "pygments_lexer": "ipython3",
   "version": "3.8.6"
  }
 },
 "nbformat": 4,
 "nbformat_minor": 4
}
