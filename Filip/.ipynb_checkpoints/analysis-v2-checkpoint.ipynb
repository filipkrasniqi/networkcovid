{
 "cells": [
  {
   "cell_type": "code",
   "execution_count": 120,
   "metadata": {},
   "outputs": [],
   "source": [
    "import numpy as np\n",
    "import pandas as pd\n",
    "from datetime import date\n",
    "from matplotlib import pyplot as plt\n",
    "\n",
    "from numpy import cos, sin, arcsin, sqrt\n",
    "from math import radians\n",
    "import seaborn as sns\n",
    "from jupyter_dash import JupyterDash\n",
    "\n",
    "import dash_core_components as dcc\n",
    "import dash_html_components as html\n",
    "from dash.dependencies import Input, Output\n",
    "import plotly.figure_factory as ff\n",
    "import plotly.express as px\n",
    "import numpy as np\n",
    "\n",
    "# need for token (mapbox)\n",
    "px.set_mapbox_access_token(\"pk.eyJ1IjoiZmlsaXBrcmFzbmlxaSIsImEiOiJja2luOW9jdmgwa3J3MnpvNXhkNGJ6MWFtIn0.eevoM5byqvtc1nC0oXpuOw\")\n",
    "\n",
    "def haversine(row, lonlat):\n",
    "    lat1, lon1 = lonlat\n",
    "    lon2, lat2 = row['LNG'], row['LAT']\n",
    "    lon1, lat1, lon2, lat2 = map(radians, [lon1, lat1, lon2, lat2])\n",
    "    dlon = lon2 - lon1 \n",
    "    dlat = lat2 - lat1 \n",
    "    a = sin(dlat/2)**2 + cos(lat1) * cos(lat2) * sin(dlon/2)**2\n",
    "    c = 2 * arcsin(sqrt(a)) \n",
    "    km = 6367 * c\n",
    "    return km\n",
    "\n",
    "def cell_from_coords(data, lonlat):\n",
    "    data['LAT'], data['LNG'] = pd.to_numeric(data['LAT_Y'],errors='coerce'), pd.to_numeric(data['LONG_X'],errors='coerce')\n",
    "    data['distance'] = data.apply(lambda row: haversine(row, lonlat), axis=1)\n",
    "    row = data.sort_values(by='distance').iloc[0:1]\n",
    "    data.drop(['distance', 'LAT', \"LNG\"], axis=1, inplace=True)\n",
    "    return row\n",
    "\n",
    "def normalize(data, column):\n",
    "    data.loc[:, column] = (data[column]-data[column].mean())/data[column].std()\n",
    "    return data\n",
    "\n",
    "def fix_coords(data):\n",
    "    data['LAT'], data['LNG'] = pd.to_numeric(data['LAT_Y'],errors='coerce'), pd.to_numeric(data['LONG_X'],errors='coerce')\n",
    "    return data\n",
    "\n",
    "def prepare_for_hexbin(dataframe, weekly = True):\n",
    "    if weekly:\n",
    "        data_groupped = dataframe.groupby('ECELL_ID').resample('W-Mon', on='Date').mean().reset_index().sort_values(by='Date')\n",
    "    else:\n",
    "        data_groupped = dataframe.groupby('ECELL_ID').resample('MS', on='Date').mean().reset_index().sort_values(by='Date') \n",
    "    data_groupped = data_groupped.sort_values(by='Date')\n",
    "    data_groupped['DateString'] = data_groupped['Date'].map(lambda x: x.strftime('%j'))\n",
    "    data_groupped[\"DateString\"] = (data_groupped[\"DateString\"].astype(int)+1)//7\n",
    "    return data_groupped\n",
    "\n",
    "\n",
    "data_path = \"/Users/filipkrasniqi/Documents/Datasets.tmp/traffic-covid/\"\n",
    "cities = [\"Milano\", \"ROMA\", \"TORINO\"]"
   ]
  },
  {
   "cell_type": "markdown",
   "metadata": {},
   "source": [
    "# Reading data regarding Rome and Milan"
   ]
  },
  {
   "cell_type": "code",
   "execution_count": 38,
   "metadata": {},
   "outputs": [],
   "source": [
    "#data_milano, data_rome, data_turin = [pd.read_pickle(\"{}LTE_1800_{}.pkl\".format(data_path, city)) for city in cities]\n",
    "#data_milano, data_rome, data_turin = fix_coords(data_milano), fix_coords(data_rome), fix_coords(data_turin)\n",
    "data_milano = fix_coords(pd.read_pickle(\"{}LTE_1800_{}.pkl\".format(data_path, cities[0])))\n",
    "data_milano_2 = fix_coords(pd.read_pickle(\"{}LTE_1800_{}_P2.pkl\".format(data_path, cities[0])))"
   ]
  },
  {
   "cell_type": "code",
   "execution_count": null,
   "metadata": {},
   "outputs": [],
   "source": [
    "# TODO need to remove outliers "
   ]
  },
  {
   "cell_type": "code",
   "execution_count": 39,
   "metadata": {},
   "outputs": [],
   "source": [
    "data_rome = fix_coords(pd.read_pickle(\"{}LTE_1800_{}.pkl\".format(data_path, cities[1])))"
   ]
  },
  {
   "cell_type": "code",
   "execution_count": 41,
   "metadata": {},
   "outputs": [],
   "source": [
    "# merging them\n",
    "all_data_milano = pd.concat([data_milano, data_milano_2])\n",
    "all_data_milano[\"City\"] = 0\n",
    "data_rome[\"City\"] = 1\n",
    "all_data = pd.concat([all_data_milano, data_rome])\n",
    "all_data[\"USERNUM_AVG\"] = all_data[\"USERNUM_AVG\"].astype(float)"
   ]
  },
  {
   "cell_type": "code",
   "execution_count": 124,
   "metadata": {},
   "outputs": [],
   "source": [
    "data_groupped_week = prepare_for_hexbin(all_data)"
   ]
  },
  {
   "cell_type": "code",
   "execution_count": 125,
   "metadata": {},
   "outputs": [],
   "source": [
    "data_groupped_month = prepare_for_hexbin(all_data, weekly = False)"
   ]
  },
  {
   "cell_type": "code",
   "execution_count": 127,
   "metadata": {},
   "outputs": [],
   "source": [
    "columns, required_columns = [\"DL_VOL\", \"Hin_Succ\", \"USERNUM_AVG\"], [\"LAT\", \"LNG\", \"DateString\", \"City\"]\n",
    "week_selected_data_groupped = data_groupped_week[columns+required_columns].dropna()\n",
    "#selected_data_groupped = data_groupped[columns+required_columns].dropna()\n",
    "week_selected_data_groupped[\"City\"] = week_selected_data_groupped[\"City\"].astype(int)\n",
    "week_selected_data_groupped[\"City\"] = week_selected_data_groupped[\"City\"].apply(lambda x: cities[x])\n",
    "\n",
    "month_selected_data_groupped = data_groupped_month[columns+required_columns].dropna()\n",
    "#selected_data_groupped = data_groupped[columns+required_columns].dropna()\n",
    "month_selected_data_groupped[\"City\"] = month_selected_data_groupped[\"City\"].astype(int)\n",
    "month_selected_data_groupped[\"City\"] = month_selected_data_groupped[\"City\"].apply(lambda x: cities[x])"
   ]
  },
  {
   "cell_type": "code",
   "execution_count": 128,
   "metadata": {
    "scrolled": false
   },
   "outputs": [
    {
     "data": {
      "text/html": [
       "\n",
       "        <iframe\n",
       "            width=\"100%\"\n",
       "            height=\"650\"\n",
       "            src=\"http://127.0.0.1:8050/\"\n",
       "            frameborder=\"0\"\n",
       "            allowfullscreen\n",
       "        ></iframe>\n",
       "        "
      ],
      "text/plain": [
       "<IPython.lib.display.IFrame at 0x195fc8dc0>"
      ]
     },
     "metadata": {},
     "output_type": "display_data"
    }
   ],
   "source": [
    "app = JupyterDash(\"Map\")\n",
    "\n",
    "app.layout = html.Div([\n",
    "    html.Label([\"KPIs\", dcc.Dropdown(\n",
    "        id=\"kpi\",\n",
    "        options=[{\"label\": x, \"value\": x} for x in columns],\n",
    "        value=columns[0],\n",
    "        clearable=False,\n",
    "                )]),\n",
    "    html.Label(\n",
    "        [\n",
    "            \"Città\",\n",
    "            dcc.Dropdown(id=\"city\",\n",
    "                         options=[{\"label\": x, \"value\": x} for x in selected_data_groupped.City.unique()],\n",
    "                        value=selected_data_groupped[\"City\"].unique()[1],\n",
    "                        clearable=False,),\n",
    "        ]\n",
    "    ),\n",
    "    html.Label(\n",
    "        [\n",
    "            \"Data range\",\n",
    "            dcc.Dropdown(id=\"dateRange\",\n",
    "                         options=[{\"label\": x, \"value\": x} for x in [\"Week\", \"Month\"]],\n",
    "                        value=\"Week\",\n",
    "                        clearable=False,),\n",
    "        ]\n",
    "    ),\n",
    "    html.Div(dcc.Graph(id=\"map-chart\"))\n",
    "]) # , style={'columnCount': 2}\n",
    "\n",
    "@app.callback(\n",
    "    Output(\"map-chart\", \"figure\"), \n",
    "    [Input(\"kpi\", \"value\"), Input(\"city\", \"value\"), Input(\"dateRange\", \"value\")])\n",
    "\n",
    "def display_time_series(kpi, city, dateRange):\n",
    "    \n",
    "    if dateRange == \"Week\":\n",
    "        selected_data_groupped = week_selected_data_groupped\n",
    "    else:\n",
    "        selected_data_groupped = month_selected_data_groupped\n",
    "    \n",
    "    filtered_data_groupped = selected_data_groupped.where(lambda x:x.City==city).dropna()\n",
    "    filtered_data_groupped = filtered_data_groupped.where(lambda x: (x.City == \"Milano\") | ((x.City == \"ROMA\") & (x.DL_VOL < .6*10**12))).dropna()\n",
    "    #filtered_data_groupped_milano = filtered_data_groupped.where(lambda x: x.City == \"Milano\").dropna()\n",
    "    \n",
    "    #filtered_data_groupped = pd.concat([filtered_data_groupped_milano, filtered_data_groupped_rome])\n",
    "    # Filter the data from 8 January\n",
    "    fig = ff.create_hexbin_mapbox(\n",
    "        data_frame=filtered_data_groupped,\n",
    "        lat=\"LAT\", lon=\"LNG\", nx_hexagon=30, animation_frame=\"DateString\", color=\"DL_VOL\",\n",
    "        color_continuous_scale=\"Inferno\", labels={\"color\": kpi, \"frame\": \"DateString\"}\n",
    "    )\n",
    "    fig.update_layout(margin=dict(b=0, t=0, l=0, r=0))\n",
    "    fig.layout.sliders[0].pad.t=20\n",
    "    fig.layout.updatemenus[0].pad.t=40\n",
    "\n",
    "#     fig.show()  \n",
    "    return fig\n",
    "\n",
    "app.run_server(mode='inline') # debug=True, use_reloader=False"
   ]
  },
  {
   "cell_type": "code",
   "execution_count": 97,
   "metadata": {},
   "outputs": [
    {
     "data": {
      "text/plain": [
       "(52616, 6)"
      ]
     },
     "execution_count": 97,
     "metadata": {},
     "output_type": "execute_result"
    }
   ],
   "source": [
    "# TODO parlare con Andrea per analizzare Roma (dritte su zone e altro)\n",
    "# TODO different KPIs -> Filip -> X\n",
    "# TODO per month instead of week -> Filip -> X\n",
    "# TODO represent in different period during days, and compare with dinner time (as a base for home)\n",
    "# TODO represent in different period of weeks, and compare with weekend\n",
    "\n",
    "# TODO find info about density of population on specific places / areas -> Franci, Filip\n",
    "# TODO find area specification per area (e.g.: business, home, turistic, ...) -> Franci, Filip\n",
    "\n",
    "# -> brainstorming\n",
    "\n",
    "# es: Garibaldi -> DoW, h8-h12, h14-h18: work\n",
    "# DoW + WE, h18-6: home"
   ]
  },
  {
   "cell_type": "code",
   "execution_count": null,
   "metadata": {},
   "outputs": [],
   "source": []
  }
 ],
 "metadata": {
  "kernelspec": {
   "display_name": "Python 3",
   "language": "python",
   "name": "python3"
  },
  "language_info": {
   "codemirror_mode": {
    "name": "ipython",
    "version": 3
   },
   "file_extension": ".py",
   "mimetype": "text/x-python",
   "name": "python",
   "nbconvert_exporter": "python",
   "pygments_lexer": "ipython3",
   "version": "3.6.9"
  }
 },
 "nbformat": 4,
 "nbformat_minor": 4
}
